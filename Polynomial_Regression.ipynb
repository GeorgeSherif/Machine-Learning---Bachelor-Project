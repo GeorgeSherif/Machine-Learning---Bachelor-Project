{
  "cells": [
    {
      "cell_type": "markdown",
      "metadata": {
        "id": "view-in-github",
        "colab_type": "text"
      },
      "source": [
        "<a href=\"https://colab.research.google.com/github/GeorgeSherif/Machine-Learning---Bachelor-Project/blob/main/Polynomial_Regression.ipynb\" target=\"_parent\"><img src=\"https://colab.research.google.com/assets/colab-badge.svg\" alt=\"Open In Colab\"/></a>"
      ]
    },
    {
      "cell_type": "markdown",
      "metadata": {
        "id": "nz_9QnWBj9_6"
      },
      "source": [
        "# Polynomial Regression Assignment (Please do not remove the output cells)"
      ]
    },
    {
      "cell_type": "markdown",
      "metadata": {
        "id": "oNtRAlw1uQYi"
      },
      "source": [
        "## The objective is to apply polynomial regression on the provided data using 3 regularization techniques"
      ]
    },
    {
      "cell_type": "markdown",
      "metadata": {
        "id": "0Sh_Oqa2j9_7"
      },
      "source": [
        "Tasks are defined below:\n",
        "1-  Read the dataset, and get acquainted with its features and labels. Check the link below for more details about the data.  \n",
        "https://archive.ics.uci.edu/ml/datasets/Air+Quality  \n",
        "\n",
        "2-  This dataset has 5 different output labels. For this assignment we only need the NO2 output. Please drop other outputs.  \n",
        "\n",
        "3-  Handle missing data similar to what was covered in tutorial 3.  \n",
        "\n",
        "4-  Replace the date feature with 3 separate features (Day, Month and Year).  \n",
        "\n",
        "5-  Replace the time feature with 3 separate features (Hours, Minutes and Seconds).  \n",
        "\n",
        "6-  Apply feature scaling.  \n",
        "\n",
        "7-  Evaluate different degrees of lasso CV polynomial regression.  \n",
        "\n",
        "8-  Choose the best degree and print the errors on the test data, model coefficients and the lasso parameters.  \n",
        "\n",
        "9-  Repeat steps 4 and 5 using Ridge CV polynomial regression.  \n",
        "\n",
        "10- Repeat steps 4 and 5 using ElasticNet CV polynomial regression.  \n",
        "\n",
        "11- Compare the errors from the 3 regularization techniques, and save the best model.  \n",
        "\n",
        "12- Load the best model and test it on a sample that you manually created it.  \n"
      ]
    },
    {
      "cell_type": "markdown",
      "metadata": {
        "id": "gq5L1w3lBKz-"
      },
      "source": [
        "## Enter your IDs and Names below"
      ]
    },
    {
      "cell_type": "markdown",
      "metadata": {
        "id": "VoR74LiSBKz_"
      },
      "source": [
        "1- George Sherif Botros Ibrahim 46-0863\n",
        "  \n",
        "2- Kirollos Samir Guirguis Latif 46-1062 "
      ]
    },
    {
      "cell_type": "markdown",
      "metadata": {
        "id": "bsZFdAtSj9_8"
      },
      "source": [
        "\n",
        "### Imports"
      ]
    },
    {
      "cell_type": "code",
      "execution_count": null,
      "metadata": {
        "collapsed": true,
        "id": "nuN2-J1bj9_9"
      },
      "outputs": [],
      "source": [
        "import numpy as np\n",
        "import pandas as pd\n",
        "import matplotlib.pyplot as plt\n",
        "import seaborn as sns\n",
        "from sklearn.preprocessing import StandardScaler"
      ]
    },
    {
      "cell_type": "code",
      "execution_count": null,
      "metadata": {
        "colab": {
          "base_uri": "https://localhost:8080/"
        },
        "id": "IaJxRPdoBO56",
        "outputId": "18fa1bc5-14d0-479a-8714-acc2e7f97dda"
      },
      "outputs": [
        {
          "output_type": "stream",
          "name": "stdout",
          "text": [
            "Mounted at /content/drive\n"
          ]
        }
      ],
      "source": [
        "from google.colab import drive\n",
        "drive.mount('/content/drive')"
      ]
    },
    {
      "cell_type": "markdown",
      "metadata": {
        "id": "hszifOuTj9__"
      },
      "source": [
        "### 1- Read the data"
      ]
    },
    {
      "cell_type": "code",
      "execution_count": null,
      "metadata": {
        "colab": {
          "base_uri": "https://localhost:8080/",
          "height": 206
        },
        "collapsed": true,
        "id": "ZzX469qmUTu2",
        "outputId": "f9274855-64cb-4133-e9c1-0b91b56044ad"
      },
      "outputs": [
        {
          "output_type": "execute_result",
          "data": {
            "text/plain": [
              "        Date      Time  CO(GT)  PT08.S1(CO)  NMHC(GT)  C6H6(GT)  \\\n",
              "0  3/10/2004  18:00:00     2.6       1360.0     150.0      11.9   \n",
              "1  3/10/2004  19:00:00     2.0       1292.0     112.0       9.4   \n",
              "2  3/10/2004  20:00:00     2.2       1402.0      88.0       9.0   \n",
              "3  3/10/2004  21:00:00     2.2       1376.0      80.0       9.2   \n",
              "4  3/10/2004  22:00:00     1.6       1272.0      51.0       6.5   \n",
              "\n",
              "   PT08.S2(NMHC)  NOx(GT)  PT08.S3(NOx)  NO2(GT)  PT08.S4(NO2)  PT08.S5(O3)  \\\n",
              "0         1046.0    166.0        1056.0    113.0        1692.0       1268.0   \n",
              "1          955.0    103.0        1174.0     92.0        1559.0        972.0   \n",
              "2          939.0    131.0        1140.0    114.0        1555.0       1074.0   \n",
              "3          948.0    172.0        1092.0    122.0        1584.0       1203.0   \n",
              "4          836.0    131.0        1205.0    116.0        1490.0       1110.0   \n",
              "\n",
              "      T    RH      AH  \n",
              "0  13.6  48.9  0.7578  \n",
              "1  13.3  47.7  0.7255  \n",
              "2  11.9  54.0  0.7502  \n",
              "3  11.0  60.0  0.7867  \n",
              "4  11.2  59.6  0.7888  "
            ],
            "text/html": [
              "\n",
              "  <div id=\"df-e437bff7-5cab-48b6-af50-cfa4131a732b\">\n",
              "    <div class=\"colab-df-container\">\n",
              "      <div>\n",
              "<style scoped>\n",
              "    .dataframe tbody tr th:only-of-type {\n",
              "        vertical-align: middle;\n",
              "    }\n",
              "\n",
              "    .dataframe tbody tr th {\n",
              "        vertical-align: top;\n",
              "    }\n",
              "\n",
              "    .dataframe thead th {\n",
              "        text-align: right;\n",
              "    }\n",
              "</style>\n",
              "<table border=\"1\" class=\"dataframe\">\n",
              "  <thead>\n",
              "    <tr style=\"text-align: right;\">\n",
              "      <th></th>\n",
              "      <th>Date</th>\n",
              "      <th>Time</th>\n",
              "      <th>CO(GT)</th>\n",
              "      <th>PT08.S1(CO)</th>\n",
              "      <th>NMHC(GT)</th>\n",
              "      <th>C6H6(GT)</th>\n",
              "      <th>PT08.S2(NMHC)</th>\n",
              "      <th>NOx(GT)</th>\n",
              "      <th>PT08.S3(NOx)</th>\n",
              "      <th>NO2(GT)</th>\n",
              "      <th>PT08.S4(NO2)</th>\n",
              "      <th>PT08.S5(O3)</th>\n",
              "      <th>T</th>\n",
              "      <th>RH</th>\n",
              "      <th>AH</th>\n",
              "    </tr>\n",
              "  </thead>\n",
              "  <tbody>\n",
              "    <tr>\n",
              "      <th>0</th>\n",
              "      <td>3/10/2004</td>\n",
              "      <td>18:00:00</td>\n",
              "      <td>2.6</td>\n",
              "      <td>1360.0</td>\n",
              "      <td>150.0</td>\n",
              "      <td>11.9</td>\n",
              "      <td>1046.0</td>\n",
              "      <td>166.0</td>\n",
              "      <td>1056.0</td>\n",
              "      <td>113.0</td>\n",
              "      <td>1692.0</td>\n",
              "      <td>1268.0</td>\n",
              "      <td>13.6</td>\n",
              "      <td>48.9</td>\n",
              "      <td>0.7578</td>\n",
              "    </tr>\n",
              "    <tr>\n",
              "      <th>1</th>\n",
              "      <td>3/10/2004</td>\n",
              "      <td>19:00:00</td>\n",
              "      <td>2.0</td>\n",
              "      <td>1292.0</td>\n",
              "      <td>112.0</td>\n",
              "      <td>9.4</td>\n",
              "      <td>955.0</td>\n",
              "      <td>103.0</td>\n",
              "      <td>1174.0</td>\n",
              "      <td>92.0</td>\n",
              "      <td>1559.0</td>\n",
              "      <td>972.0</td>\n",
              "      <td>13.3</td>\n",
              "      <td>47.7</td>\n",
              "      <td>0.7255</td>\n",
              "    </tr>\n",
              "    <tr>\n",
              "      <th>2</th>\n",
              "      <td>3/10/2004</td>\n",
              "      <td>20:00:00</td>\n",
              "      <td>2.2</td>\n",
              "      <td>1402.0</td>\n",
              "      <td>88.0</td>\n",
              "      <td>9.0</td>\n",
              "      <td>939.0</td>\n",
              "      <td>131.0</td>\n",
              "      <td>1140.0</td>\n",
              "      <td>114.0</td>\n",
              "      <td>1555.0</td>\n",
              "      <td>1074.0</td>\n",
              "      <td>11.9</td>\n",
              "      <td>54.0</td>\n",
              "      <td>0.7502</td>\n",
              "    </tr>\n",
              "    <tr>\n",
              "      <th>3</th>\n",
              "      <td>3/10/2004</td>\n",
              "      <td>21:00:00</td>\n",
              "      <td>2.2</td>\n",
              "      <td>1376.0</td>\n",
              "      <td>80.0</td>\n",
              "      <td>9.2</td>\n",
              "      <td>948.0</td>\n",
              "      <td>172.0</td>\n",
              "      <td>1092.0</td>\n",
              "      <td>122.0</td>\n",
              "      <td>1584.0</td>\n",
              "      <td>1203.0</td>\n",
              "      <td>11.0</td>\n",
              "      <td>60.0</td>\n",
              "      <td>0.7867</td>\n",
              "    </tr>\n",
              "    <tr>\n",
              "      <th>4</th>\n",
              "      <td>3/10/2004</td>\n",
              "      <td>22:00:00</td>\n",
              "      <td>1.6</td>\n",
              "      <td>1272.0</td>\n",
              "      <td>51.0</td>\n",
              "      <td>6.5</td>\n",
              "      <td>836.0</td>\n",
              "      <td>131.0</td>\n",
              "      <td>1205.0</td>\n",
              "      <td>116.0</td>\n",
              "      <td>1490.0</td>\n",
              "      <td>1110.0</td>\n",
              "      <td>11.2</td>\n",
              "      <td>59.6</td>\n",
              "      <td>0.7888</td>\n",
              "    </tr>\n",
              "  </tbody>\n",
              "</table>\n",
              "</div>\n",
              "      <button class=\"colab-df-convert\" onclick=\"convertToInteractive('df-e437bff7-5cab-48b6-af50-cfa4131a732b')\"\n",
              "              title=\"Convert this dataframe to an interactive table.\"\n",
              "              style=\"display:none;\">\n",
              "        \n",
              "  <svg xmlns=\"http://www.w3.org/2000/svg\" height=\"24px\"viewBox=\"0 0 24 24\"\n",
              "       width=\"24px\">\n",
              "    <path d=\"M0 0h24v24H0V0z\" fill=\"none\"/>\n",
              "    <path d=\"M18.56 5.44l.94 2.06.94-2.06 2.06-.94-2.06-.94-.94-2.06-.94 2.06-2.06.94zm-11 1L8.5 8.5l.94-2.06 2.06-.94-2.06-.94L8.5 2.5l-.94 2.06-2.06.94zm10 10l.94 2.06.94-2.06 2.06-.94-2.06-.94-.94-2.06-.94 2.06-2.06.94z\"/><path d=\"M17.41 7.96l-1.37-1.37c-.4-.4-.92-.59-1.43-.59-.52 0-1.04.2-1.43.59L10.3 9.45l-7.72 7.72c-.78.78-.78 2.05 0 2.83L4 21.41c.39.39.9.59 1.41.59.51 0 1.02-.2 1.41-.59l7.78-7.78 2.81-2.81c.8-.78.8-2.07 0-2.86zM5.41 20L4 18.59l7.72-7.72 1.47 1.35L5.41 20z\"/>\n",
              "  </svg>\n",
              "      </button>\n",
              "      \n",
              "  <style>\n",
              "    .colab-df-container {\n",
              "      display:flex;\n",
              "      flex-wrap:wrap;\n",
              "      gap: 12px;\n",
              "    }\n",
              "\n",
              "    .colab-df-convert {\n",
              "      background-color: #E8F0FE;\n",
              "      border: none;\n",
              "      border-radius: 50%;\n",
              "      cursor: pointer;\n",
              "      display: none;\n",
              "      fill: #1967D2;\n",
              "      height: 32px;\n",
              "      padding: 0 0 0 0;\n",
              "      width: 32px;\n",
              "    }\n",
              "\n",
              "    .colab-df-convert:hover {\n",
              "      background-color: #E2EBFA;\n",
              "      box-shadow: 0px 1px 2px rgba(60, 64, 67, 0.3), 0px 1px 3px 1px rgba(60, 64, 67, 0.15);\n",
              "      fill: #174EA6;\n",
              "    }\n",
              "\n",
              "    [theme=dark] .colab-df-convert {\n",
              "      background-color: #3B4455;\n",
              "      fill: #D2E3FC;\n",
              "    }\n",
              "\n",
              "    [theme=dark] .colab-df-convert:hover {\n",
              "      background-color: #434B5C;\n",
              "      box-shadow: 0px 1px 3px 1px rgba(0, 0, 0, 0.15);\n",
              "      filter: drop-shadow(0px 1px 2px rgba(0, 0, 0, 0.3));\n",
              "      fill: #FFFFFF;\n",
              "    }\n",
              "  </style>\n",
              "\n",
              "      <script>\n",
              "        const buttonEl =\n",
              "          document.querySelector('#df-e437bff7-5cab-48b6-af50-cfa4131a732b button.colab-df-convert');\n",
              "        buttonEl.style.display =\n",
              "          google.colab.kernel.accessAllowed ? 'block' : 'none';\n",
              "\n",
              "        async function convertToInteractive(key) {\n",
              "          const element = document.querySelector('#df-e437bff7-5cab-48b6-af50-cfa4131a732b');\n",
              "          const dataTable =\n",
              "            await google.colab.kernel.invokeFunction('convertToInteractive',\n",
              "                                                     [key], {});\n",
              "          if (!dataTable) return;\n",
              "\n",
              "          const docLinkHtml = 'Like what you see? Visit the ' +\n",
              "            '<a target=\"_blank\" href=https://colab.research.google.com/notebooks/data_table.ipynb>data table notebook</a>'\n",
              "            + ' to learn more about interactive tables.';\n",
              "          element.innerHTML = '';\n",
              "          dataTable['output_type'] = 'display_data';\n",
              "          await google.colab.output.renderOutput(dataTable, element);\n",
              "          const docLink = document.createElement('div');\n",
              "          docLink.innerHTML = docLinkHtml;\n",
              "          element.appendChild(docLink);\n",
              "        }\n",
              "      </script>\n",
              "    </div>\n",
              "  </div>\n",
              "  "
            ]
          },
          "metadata": {},
          "execution_count": 4
        }
      ],
      "source": [
        "data = pd.read_csv('/content/drive/MyDrive/Machine Learning Assignment 1/Assignment 1/AirQualityUCI.csv')\n",
        "data.head()"
      ]
    },
    {
      "cell_type": "markdown",
      "metadata": {
        "id": "TMHFhOfXuQYl"
      },
      "source": [
        "### 2- Drop unwanted labels"
      ]
    },
    {
      "cell_type": "code",
      "execution_count": null,
      "metadata": {
        "colab": {
          "base_uri": "https://localhost:8080/",
          "height": 363
        },
        "id": "L7395CTWuQYm",
        "outputId": "0d5d6681-c293-483e-cab0-5626f0dfb57e"
      },
      "outputs": [
        {
          "output_type": "execute_result",
          "data": {
            "text/plain": [
              "        Date      Time  PT08.S1(CO)  PT08.S2(NMHC)  PT08.S3(NOx)  NO2(GT)  \\\n",
              "0  3/10/2004  18:00:00       1360.0         1046.0        1056.0    113.0   \n",
              "1  3/10/2004  19:00:00       1292.0          955.0        1174.0     92.0   \n",
              "2  3/10/2004  20:00:00       1402.0          939.0        1140.0    114.0   \n",
              "3  3/10/2004  21:00:00       1376.0          948.0        1092.0    122.0   \n",
              "4  3/10/2004  22:00:00       1272.0          836.0        1205.0    116.0   \n",
              "5  3/10/2004  23:00:00       1197.0          750.0        1337.0     96.0   \n",
              "6  3/11/2004   0:00:00       1185.0          690.0        1462.0     77.0   \n",
              "7  3/11/2004   1:00:00       1136.0          672.0        1453.0     76.0   \n",
              "8  3/11/2004   2:00:00       1094.0          609.0        1579.0     60.0   \n",
              "9  3/11/2004   3:00:00       1010.0          561.0        1705.0      NaN   \n",
              "\n",
              "   PT08.S4(NO2)  PT08.S5(O3)     T    RH      AH  \n",
              "0        1692.0       1268.0  13.6  48.9  0.7578  \n",
              "1        1559.0        972.0  13.3  47.7  0.7255  \n",
              "2        1555.0       1074.0  11.9  54.0  0.7502  \n",
              "3        1584.0       1203.0  11.0  60.0  0.7867  \n",
              "4        1490.0       1110.0  11.2  59.6  0.7888  \n",
              "5        1393.0        949.0  11.2  59.2  0.7848  \n",
              "6        1333.0        733.0  11.3  56.8  0.7603  \n",
              "7        1333.0        730.0  10.7  60.0  0.7702  \n",
              "8        1276.0        620.0  10.7  59.7  0.7648  \n",
              "9        1235.0        501.0  10.3  60.2  0.7517  "
            ],
            "text/html": [
              "\n",
              "  <div id=\"df-2f81a62e-4f54-4828-8d77-6adc401e9ec9\">\n",
              "    <div class=\"colab-df-container\">\n",
              "      <div>\n",
              "<style scoped>\n",
              "    .dataframe tbody tr th:only-of-type {\n",
              "        vertical-align: middle;\n",
              "    }\n",
              "\n",
              "    .dataframe tbody tr th {\n",
              "        vertical-align: top;\n",
              "    }\n",
              "\n",
              "    .dataframe thead th {\n",
              "        text-align: right;\n",
              "    }\n",
              "</style>\n",
              "<table border=\"1\" class=\"dataframe\">\n",
              "  <thead>\n",
              "    <tr style=\"text-align: right;\">\n",
              "      <th></th>\n",
              "      <th>Date</th>\n",
              "      <th>Time</th>\n",
              "      <th>PT08.S1(CO)</th>\n",
              "      <th>PT08.S2(NMHC)</th>\n",
              "      <th>PT08.S3(NOx)</th>\n",
              "      <th>NO2(GT)</th>\n",
              "      <th>PT08.S4(NO2)</th>\n",
              "      <th>PT08.S5(O3)</th>\n",
              "      <th>T</th>\n",
              "      <th>RH</th>\n",
              "      <th>AH</th>\n",
              "    </tr>\n",
              "  </thead>\n",
              "  <tbody>\n",
              "    <tr>\n",
              "      <th>0</th>\n",
              "      <td>3/10/2004</td>\n",
              "      <td>18:00:00</td>\n",
              "      <td>1360.0</td>\n",
              "      <td>1046.0</td>\n",
              "      <td>1056.0</td>\n",
              "      <td>113.0</td>\n",
              "      <td>1692.0</td>\n",
              "      <td>1268.0</td>\n",
              "      <td>13.6</td>\n",
              "      <td>48.9</td>\n",
              "      <td>0.7578</td>\n",
              "    </tr>\n",
              "    <tr>\n",
              "      <th>1</th>\n",
              "      <td>3/10/2004</td>\n",
              "      <td>19:00:00</td>\n",
              "      <td>1292.0</td>\n",
              "      <td>955.0</td>\n",
              "      <td>1174.0</td>\n",
              "      <td>92.0</td>\n",
              "      <td>1559.0</td>\n",
              "      <td>972.0</td>\n",
              "      <td>13.3</td>\n",
              "      <td>47.7</td>\n",
              "      <td>0.7255</td>\n",
              "    </tr>\n",
              "    <tr>\n",
              "      <th>2</th>\n",
              "      <td>3/10/2004</td>\n",
              "      <td>20:00:00</td>\n",
              "      <td>1402.0</td>\n",
              "      <td>939.0</td>\n",
              "      <td>1140.0</td>\n",
              "      <td>114.0</td>\n",
              "      <td>1555.0</td>\n",
              "      <td>1074.0</td>\n",
              "      <td>11.9</td>\n",
              "      <td>54.0</td>\n",
              "      <td>0.7502</td>\n",
              "    </tr>\n",
              "    <tr>\n",
              "      <th>3</th>\n",
              "      <td>3/10/2004</td>\n",
              "      <td>21:00:00</td>\n",
              "      <td>1376.0</td>\n",
              "      <td>948.0</td>\n",
              "      <td>1092.0</td>\n",
              "      <td>122.0</td>\n",
              "      <td>1584.0</td>\n",
              "      <td>1203.0</td>\n",
              "      <td>11.0</td>\n",
              "      <td>60.0</td>\n",
              "      <td>0.7867</td>\n",
              "    </tr>\n",
              "    <tr>\n",
              "      <th>4</th>\n",
              "      <td>3/10/2004</td>\n",
              "      <td>22:00:00</td>\n",
              "      <td>1272.0</td>\n",
              "      <td>836.0</td>\n",
              "      <td>1205.0</td>\n",
              "      <td>116.0</td>\n",
              "      <td>1490.0</td>\n",
              "      <td>1110.0</td>\n",
              "      <td>11.2</td>\n",
              "      <td>59.6</td>\n",
              "      <td>0.7888</td>\n",
              "    </tr>\n",
              "    <tr>\n",
              "      <th>5</th>\n",
              "      <td>3/10/2004</td>\n",
              "      <td>23:00:00</td>\n",
              "      <td>1197.0</td>\n",
              "      <td>750.0</td>\n",
              "      <td>1337.0</td>\n",
              "      <td>96.0</td>\n",
              "      <td>1393.0</td>\n",
              "      <td>949.0</td>\n",
              "      <td>11.2</td>\n",
              "      <td>59.2</td>\n",
              "      <td>0.7848</td>\n",
              "    </tr>\n",
              "    <tr>\n",
              "      <th>6</th>\n",
              "      <td>3/11/2004</td>\n",
              "      <td>0:00:00</td>\n",
              "      <td>1185.0</td>\n",
              "      <td>690.0</td>\n",
              "      <td>1462.0</td>\n",
              "      <td>77.0</td>\n",
              "      <td>1333.0</td>\n",
              "      <td>733.0</td>\n",
              "      <td>11.3</td>\n",
              "      <td>56.8</td>\n",
              "      <td>0.7603</td>\n",
              "    </tr>\n",
              "    <tr>\n",
              "      <th>7</th>\n",
              "      <td>3/11/2004</td>\n",
              "      <td>1:00:00</td>\n",
              "      <td>1136.0</td>\n",
              "      <td>672.0</td>\n",
              "      <td>1453.0</td>\n",
              "      <td>76.0</td>\n",
              "      <td>1333.0</td>\n",
              "      <td>730.0</td>\n",
              "      <td>10.7</td>\n",
              "      <td>60.0</td>\n",
              "      <td>0.7702</td>\n",
              "    </tr>\n",
              "    <tr>\n",
              "      <th>8</th>\n",
              "      <td>3/11/2004</td>\n",
              "      <td>2:00:00</td>\n",
              "      <td>1094.0</td>\n",
              "      <td>609.0</td>\n",
              "      <td>1579.0</td>\n",
              "      <td>60.0</td>\n",
              "      <td>1276.0</td>\n",
              "      <td>620.0</td>\n",
              "      <td>10.7</td>\n",
              "      <td>59.7</td>\n",
              "      <td>0.7648</td>\n",
              "    </tr>\n",
              "    <tr>\n",
              "      <th>9</th>\n",
              "      <td>3/11/2004</td>\n",
              "      <td>3:00:00</td>\n",
              "      <td>1010.0</td>\n",
              "      <td>561.0</td>\n",
              "      <td>1705.0</td>\n",
              "      <td>NaN</td>\n",
              "      <td>1235.0</td>\n",
              "      <td>501.0</td>\n",
              "      <td>10.3</td>\n",
              "      <td>60.2</td>\n",
              "      <td>0.7517</td>\n",
              "    </tr>\n",
              "  </tbody>\n",
              "</table>\n",
              "</div>\n",
              "      <button class=\"colab-df-convert\" onclick=\"convertToInteractive('df-2f81a62e-4f54-4828-8d77-6adc401e9ec9')\"\n",
              "              title=\"Convert this dataframe to an interactive table.\"\n",
              "              style=\"display:none;\">\n",
              "        \n",
              "  <svg xmlns=\"http://www.w3.org/2000/svg\" height=\"24px\"viewBox=\"0 0 24 24\"\n",
              "       width=\"24px\">\n",
              "    <path d=\"M0 0h24v24H0V0z\" fill=\"none\"/>\n",
              "    <path d=\"M18.56 5.44l.94 2.06.94-2.06 2.06-.94-2.06-.94-.94-2.06-.94 2.06-2.06.94zm-11 1L8.5 8.5l.94-2.06 2.06-.94-2.06-.94L8.5 2.5l-.94 2.06-2.06.94zm10 10l.94 2.06.94-2.06 2.06-.94-2.06-.94-.94-2.06-.94 2.06-2.06.94z\"/><path d=\"M17.41 7.96l-1.37-1.37c-.4-.4-.92-.59-1.43-.59-.52 0-1.04.2-1.43.59L10.3 9.45l-7.72 7.72c-.78.78-.78 2.05 0 2.83L4 21.41c.39.39.9.59 1.41.59.51 0 1.02-.2 1.41-.59l7.78-7.78 2.81-2.81c.8-.78.8-2.07 0-2.86zM5.41 20L4 18.59l7.72-7.72 1.47 1.35L5.41 20z\"/>\n",
              "  </svg>\n",
              "      </button>\n",
              "      \n",
              "  <style>\n",
              "    .colab-df-container {\n",
              "      display:flex;\n",
              "      flex-wrap:wrap;\n",
              "      gap: 12px;\n",
              "    }\n",
              "\n",
              "    .colab-df-convert {\n",
              "      background-color: #E8F0FE;\n",
              "      border: none;\n",
              "      border-radius: 50%;\n",
              "      cursor: pointer;\n",
              "      display: none;\n",
              "      fill: #1967D2;\n",
              "      height: 32px;\n",
              "      padding: 0 0 0 0;\n",
              "      width: 32px;\n",
              "    }\n",
              "\n",
              "    .colab-df-convert:hover {\n",
              "      background-color: #E2EBFA;\n",
              "      box-shadow: 0px 1px 2px rgba(60, 64, 67, 0.3), 0px 1px 3px 1px rgba(60, 64, 67, 0.15);\n",
              "      fill: #174EA6;\n",
              "    }\n",
              "\n",
              "    [theme=dark] .colab-df-convert {\n",
              "      background-color: #3B4455;\n",
              "      fill: #D2E3FC;\n",
              "    }\n",
              "\n",
              "    [theme=dark] .colab-df-convert:hover {\n",
              "      background-color: #434B5C;\n",
              "      box-shadow: 0px 1px 3px 1px rgba(0, 0, 0, 0.15);\n",
              "      filter: drop-shadow(0px 1px 2px rgba(0, 0, 0, 0.3));\n",
              "      fill: #FFFFFF;\n",
              "    }\n",
              "  </style>\n",
              "\n",
              "      <script>\n",
              "        const buttonEl =\n",
              "          document.querySelector('#df-2f81a62e-4f54-4828-8d77-6adc401e9ec9 button.colab-df-convert');\n",
              "        buttonEl.style.display =\n",
              "          google.colab.kernel.accessAllowed ? 'block' : 'none';\n",
              "\n",
              "        async function convertToInteractive(key) {\n",
              "          const element = document.querySelector('#df-2f81a62e-4f54-4828-8d77-6adc401e9ec9');\n",
              "          const dataTable =\n",
              "            await google.colab.kernel.invokeFunction('convertToInteractive',\n",
              "                                                     [key], {});\n",
              "          if (!dataTable) return;\n",
              "\n",
              "          const docLinkHtml = 'Like what you see? Visit the ' +\n",
              "            '<a target=\"_blank\" href=https://colab.research.google.com/notebooks/data_table.ipynb>data table notebook</a>'\n",
              "            + ' to learn more about interactive tables.';\n",
              "          element.innerHTML = '';\n",
              "          dataTable['output_type'] = 'display_data';\n",
              "          await google.colab.output.renderOutput(dataTable, element);\n",
              "          const docLink = document.createElement('div');\n",
              "          docLink.innerHTML = docLinkHtml;\n",
              "          element.appendChild(docLink);\n",
              "        }\n",
              "      </script>\n",
              "    </div>\n",
              "  </div>\n",
              "  "
            ]
          },
          "metadata": {},
          "execution_count": 5
        }
      ],
      "source": [
        "data = data.drop(['CO(GT)','NMHC(GT)','NOx(GT)','C6H6(GT)'],axis = 1)\n",
        "data.head(10)\n",
        "#data.isna()"
      ]
    },
    {
      "cell_type": "code",
      "execution_count": null,
      "metadata": {
        "colab": {
          "base_uri": "https://localhost:8080/"
        },
        "id": "A9Z5fndJENtT",
        "outputId": "ecbfdfd5-ab28-4a83-d6fc-07140696a148"
      },
      "outputs": [
        {
          "output_type": "stream",
          "name": "stdout",
          "text": [
            "<class 'pandas.core.frame.DataFrame'>\n",
            "RangeIndex: 9357 entries, 0 to 9356\n",
            "Data columns (total 11 columns):\n",
            " #   Column         Non-Null Count  Dtype  \n",
            "---  ------         --------------  -----  \n",
            " 0   Date           9357 non-null   object \n",
            " 1   Time           9357 non-null   object \n",
            " 2   PT08.S1(CO)    8991 non-null   float64\n",
            " 3   PT08.S2(NMHC)  8991 non-null   float64\n",
            " 4   PT08.S3(NOx)   8991 non-null   float64\n",
            " 5   NO2(GT)        7715 non-null   float64\n",
            " 6   PT08.S4(NO2)   8991 non-null   float64\n",
            " 7   PT08.S5(O3)    8991 non-null   float64\n",
            " 8   T              8991 non-null   float64\n",
            " 9   RH             8991 non-null   float64\n",
            " 10  AH             8991 non-null   float64\n",
            "dtypes: float64(9), object(2)\n",
            "memory usage: 804.2+ KB\n"
          ]
        }
      ],
      "source": [
        "data.info()"
      ]
    },
    {
      "cell_type": "markdown",
      "metadata": {
        "id": "rMSYDzn1uQYm"
      },
      "source": [
        "### 3- Handle missing data"
      ]
    },
    {
      "cell_type": "code",
      "execution_count": null,
      "metadata": {
        "colab": {
          "base_uri": "https://localhost:8080/"
        },
        "collapsed": true,
        "id": "FEai7yH9uQYn",
        "outputId": "e73b5e9e-6c01-4368-ce0b-054300785c9a"
      },
      "outputs": [
        {
          "output_type": "execute_result",
          "data": {
            "text/plain": [
              "Date                0\n",
              "Time                0\n",
              "PT08.S1(CO)       366\n",
              "PT08.S2(NMHC)     366\n",
              "PT08.S3(NOx)      366\n",
              "NO2(GT)          1642\n",
              "PT08.S4(NO2)      366\n",
              "PT08.S5(O3)       366\n",
              "T                 366\n",
              "RH                366\n",
              "AH                366\n",
              "dtype: int64"
            ]
          },
          "metadata": {},
          "execution_count": 7
        }
      ],
      "source": [
        "data.isnull().sum()"
      ]
    },
    {
      "cell_type": "code",
      "execution_count": null,
      "metadata": {
        "colab": {
          "base_uri": "https://localhost:8080/"
        },
        "id": "CxIy9ESLAakI",
        "outputId": "48fae87c-64c7-46ff-a75e-eb24ecfc7995"
      },
      "outputs": [
        {
          "output_type": "execute_result",
          "data": {
            "text/plain": [
              "Date              0.00000\n",
              "Time              0.00000\n",
              "PT08.S1(CO)       3.91151\n",
              "PT08.S2(NMHC)     3.91151\n",
              "PT08.S3(NOx)      3.91151\n",
              "NO2(GT)          17.54836\n",
              "PT08.S4(NO2)      3.91151\n",
              "PT08.S5(O3)       3.91151\n",
              "T                 3.91151\n",
              "RH                3.91151\n",
              "AH                3.91151\n",
              "dtype: float64"
            ]
          },
          "metadata": {},
          "execution_count": 8
        }
      ],
      "source": [
        "100* data.isnull().sum() / len(data)"
      ]
    },
    {
      "cell_type": "code",
      "execution_count": null,
      "metadata": {
        "id": "XBg1yz2gBpu8"
      },
      "outputs": [],
      "source": [
        "def percent_missing(data):\n",
        "    percent_nan = 100* data.isnull().sum() / len(data)\n",
        "    percent_nan = percent_nan[percent_nan>0].sort_values()\n",
        "    return percent_nan"
      ]
    },
    {
      "cell_type": "code",
      "execution_count": null,
      "metadata": {
        "id": "9lVFRScxBuzW"
      },
      "outputs": [],
      "source": [
        "percent_nan = percent_missing(data)"
      ]
    },
    {
      "cell_type": "code",
      "execution_count": null,
      "metadata": {
        "colab": {
          "base_uri": "https://localhost:8080/",
          "height": 334
        },
        "id": "avUiODGrBvRM",
        "outputId": "c0f7edb2-5edc-44e0-ab9c-8ca36a123a08"
      },
      "outputs": [
        {
          "output_type": "display_data",
          "data": {
            "text/plain": [
              "<Figure size 432x288 with 1 Axes>"
            ],
            "image/png": "[encoded data removed]"
          },
          "metadata": {
            "needs_background": "light"
          }
        }
      ],
      "source": [
        "sns.barplot(x=percent_nan.index,y=percent_nan)\n",
        "plt.xticks(rotation=90);"
      ]
    },
    {
      "cell_type": "code",
      "execution_count": null,
      "metadata": {
        "colab": {
          "base_uri": "https://localhost:8080/"
        },
        "id": "ytsMTnOvCLRK",
        "outputId": "1369fdd4-6543-4084-8f6c-515872f2e8ca"
      },
      "outputs": [
        {
          "output_type": "stream",
          "name": "stdout",
          "text": [
            "PT08.S1(CO)      3.91151\n",
            "PT08.S2(NMHC)    3.91151\n",
            "PT08.S3(NOx)     3.91151\n",
            "PT08.S4(NO2)     3.91151\n",
            "PT08.S5(O3)      3.91151\n",
            "T                3.91151\n",
            "RH               3.91151\n",
            "AH               3.91151\n",
            "dtype: float64\n"
          ]
        }
      ],
      "source": [
        "print(percent_nan[percent_nan < 5])"
      ]
    },
    {
      "cell_type": "code",
      "execution_count": null,
      "metadata": {
        "colab": {
          "base_uri": "https://localhost:8080/"
        },
        "id": "YFhHMqd-FbeB",
        "outputId": "4d5f157f-6f12-402a-eb1e-7a4051f2035f"
      },
      "outputs": [
        {
          "output_type": "execute_result",
          "data": {
            "text/plain": [
              "0.010687186063909372"
            ]
          },
          "metadata": {},
          "execution_count": 13
        }
      ],
      "source": [
        "100/len(data)"
      ]
    },
    {
      "cell_type": "code",
      "execution_count": null,
      "metadata": {
        "colab": {
          "base_uri": "https://localhost:8080/",
          "height": 424
        },
        "id": "4k986OoLF-wn",
        "outputId": "78425ec4-e7cc-468b-e0bc-eb883ae57bfd"
      },
      "outputs": [
        {
          "output_type": "execute_result",
          "data": {
            "text/plain": [
              "           Date      Time  PT08.S1(CO)  PT08.S2(NMHC)  PT08.S3(NOx)  NO2(GT)  \\\n",
              "524    4/1/2004  14:00:00          NaN            NaN           NaN     72.0   \n",
              "525    4/1/2004  15:00:00          NaN            NaN           NaN     81.0   \n",
              "526    4/1/2004  16:00:00          NaN            NaN           NaN     93.0   \n",
              "701    4/8/2004  23:00:00          NaN            NaN           NaN    106.0   \n",
              "702    4/9/2004   0:00:00          NaN            NaN           NaN    109.0   \n",
              "...         ...       ...          ...            ...           ...      ...   \n",
              "8111  2/11/2005  17:00:00          NaN            NaN           NaN    326.0   \n",
              "8112  2/11/2005  18:00:00          NaN            NaN           NaN    284.0   \n",
              "8113  2/11/2005  19:00:00          NaN            NaN           NaN    289.0   \n",
              "8114  2/11/2005  20:00:00          NaN            NaN           NaN    215.0   \n",
              "8777  3/11/2005  11:00:00          NaN            NaN           NaN    235.0   \n",
              "\n",
              "      PT08.S4(NO2)  PT08.S5(O3)   T  RH  AH  \n",
              "524            NaN          NaN NaN NaN NaN  \n",
              "525            NaN          NaN NaN NaN NaN  \n",
              "526            NaN          NaN NaN NaN NaN  \n",
              "701            NaN          NaN NaN NaN NaN  \n",
              "702            NaN          NaN NaN NaN NaN  \n",
              "...            ...          ...  ..  ..  ..  \n",
              "8111           NaN          NaN NaN NaN NaN  \n",
              "8112           NaN          NaN NaN NaN NaN  \n",
              "8113           NaN          NaN NaN NaN NaN  \n",
              "8114           NaN          NaN NaN NaN NaN  \n",
              "8777           NaN          NaN NaN NaN NaN  \n",
              "\n",
              "[366 rows x 11 columns]"
            ],
            "text/html": [
              "\n",
              "  <div id=\"df-e1126734-de72-42e0-a11b-50a05fceccc7\">\n",
              "    <div class=\"colab-df-container\">\n",
              "      <div>\n",
              "<style scoped>\n",
              "    .dataframe tbody tr th:only-of-type {\n",
              "        vertical-align: middle;\n",
              "    }\n",
              "\n",
              "    .dataframe tbody tr th {\n",
              "        vertical-align: top;\n",
              "    }\n",
              "\n",
              "    .dataframe thead th {\n",
              "        text-align: right;\n",
              "    }\n",
              "</style>\n",
              "<table border=\"1\" class=\"dataframe\">\n",
              "  <thead>\n",
              "    <tr style=\"text-align: right;\">\n",
              "      <th></th>\n",
              "      <th>Date</th>\n",
              "      <th>Time</th>\n",
              "      <th>PT08.S1(CO)</th>\n",
              "      <th>PT08.S2(NMHC)</th>\n",
              "      <th>PT08.S3(NOx)</th>\n",
              "      <th>NO2(GT)</th>\n",
              "      <th>PT08.S4(NO2)</th>\n",
              "      <th>PT08.S5(O3)</th>\n",
              "      <th>T</th>\n",
              "      <th>RH</th>\n",
              "      <th>AH</th>\n",
              "    </tr>\n",
              "  </thead>\n",
              "  <tbody>\n",
              "    <tr>\n",
              "      <th>524</th>\n",
              "      <td>4/1/2004</td>\n",
              "      <td>14:00:00</td>\n",
              "      <td>NaN</td>\n",
              "      <td>NaN</td>\n",
              "      <td>NaN</td>\n",
              "      <td>72.0</td>\n",
              "      <td>NaN</td>\n",
              "      <td>NaN</td>\n",
              "      <td>NaN</td>\n",
              "      <td>NaN</td>\n",
              "      <td>NaN</td>\n",
              "    </tr>\n",
              "    <tr>\n",
              "      <th>525</th>\n",
              "      <td>4/1/2004</td>\n",
              "      <td>15:00:00</td>\n",
              "      <td>NaN</td>\n",
              "      <td>NaN</td>\n",
              "      <td>NaN</td>\n",
              "      <td>81.0</td>\n",
              "      <td>NaN</td>\n",
              "      <td>NaN</td>\n",
              "      <td>NaN</td>\n",
              "      <td>NaN</td>\n",
              "      <td>NaN</td>\n",
              "    </tr>\n",
              "    <tr>\n",
              "      <th>526</th>\n",
              "      <td>4/1/2004</td>\n",
              "      <td>16:00:00</td>\n",
              "      <td>NaN</td>\n",
              "      <td>NaN</td>\n",
              "      <td>NaN</td>\n",
              "      <td>93.0</td>\n",
              "      <td>NaN</td>\n",
              "      <td>NaN</td>\n",
              "      <td>NaN</td>\n",
              "      <td>NaN</td>\n",
              "      <td>NaN</td>\n",
              "    </tr>\n",
              "    <tr>\n",
              "      <th>701</th>\n",
              "      <td>4/8/2004</td>\n",
              "      <td>23:00:00</td>\n",
              "      <td>NaN</td>\n",
              "      <td>NaN</td>\n",
              "      <td>NaN</td>\n",
              "      <td>106.0</td>\n",
              "      <td>NaN</td>\n",
              "      <td>NaN</td>\n",
              "      <td>NaN</td>\n",
              "      <td>NaN</td>\n",
              "      <td>NaN</td>\n",
              "    </tr>\n",
              "    <tr>\n",
              "      <th>702</th>\n",
              "      <td>4/9/2004</td>\n",
              "      <td>0:00:00</td>\n",
              "      <td>NaN</td>\n",
              "      <td>NaN</td>\n",
              "      <td>NaN</td>\n",
              "      <td>109.0</td>\n",
              "      <td>NaN</td>\n",
              "      <td>NaN</td>\n",
              "      <td>NaN</td>\n",
              "      <td>NaN</td>\n",
              "      <td>NaN</td>\n",
              "    </tr>\n",
              "    <tr>\n",
              "      <th>...</th>\n",
              "      <td>...</td>\n",
              "      <td>...</td>\n",
              "      <td>...</td>\n",
              "      <td>...</td>\n",
              "      <td>...</td>\n",
              "      <td>...</td>\n",
              "      <td>...</td>\n",
              "      <td>...</td>\n",
              "      <td>...</td>\n",
              "      <td>...</td>\n",
              "      <td>...</td>\n",
              "    </tr>\n",
              "    <tr>\n",
              "      <th>8111</th>\n",
              "      <td>2/11/2005</td>\n",
              "      <td>17:00:00</td>\n",
              "      <td>NaN</td>\n",
              "      <td>NaN</td>\n",
              "      <td>NaN</td>\n",
              "      <td>326.0</td>\n",
              "      <td>NaN</td>\n",
              "      <td>NaN</td>\n",
              "      <td>NaN</td>\n",
              "      <td>NaN</td>\n",
              "      <td>NaN</td>\n",
              "    </tr>\n",
              "    <tr>\n",
              "      <th>8112</th>\n",
              "      <td>2/11/2005</td>\n",
              "      <td>18:00:00</td>\n",
              "      <td>NaN</td>\n",
              "      <td>NaN</td>\n",
              "      <td>NaN</td>\n",
              "      <td>284.0</td>\n",
              "      <td>NaN</td>\n",
              "      <td>NaN</td>\n",
              "      <td>NaN</td>\n",
              "      <td>NaN</td>\n",
              "      <td>NaN</td>\n",
              "    </tr>\n",
              "    <tr>\n",
              "      <th>8113</th>\n",
              "      <td>2/11/2005</td>\n",
              "      <td>19:00:00</td>\n",
              "      <td>NaN</td>\n",
              "      <td>NaN</td>\n",
              "      <td>NaN</td>\n",
              "      <td>289.0</td>\n",
              "      <td>NaN</td>\n",
              "      <td>NaN</td>\n",
              "      <td>NaN</td>\n",
              "      <td>NaN</td>\n",
              "      <td>NaN</td>\n",
              "    </tr>\n",
              "    <tr>\n",
              "      <th>8114</th>\n",
              "      <td>2/11/2005</td>\n",
              "      <td>20:00:00</td>\n",
              "      <td>NaN</td>\n",
              "      <td>NaN</td>\n",
              "      <td>NaN</td>\n",
              "      <td>215.0</td>\n",
              "      <td>NaN</td>\n",
              "      <td>NaN</td>\n",
              "      <td>NaN</td>\n",
              "      <td>NaN</td>\n",
              "      <td>NaN</td>\n",
              "    </tr>\n",
              "    <tr>\n",
              "      <th>8777</th>\n",
              "      <td>3/11/2005</td>\n",
              "      <td>11:00:00</td>\n",
              "      <td>NaN</td>\n",
              "      <td>NaN</td>\n",
              "      <td>NaN</td>\n",
              "      <td>235.0</td>\n",
              "      <td>NaN</td>\n",
              "      <td>NaN</td>\n",
              "      <td>NaN</td>\n",
              "      <td>NaN</td>\n",
              "      <td>NaN</td>\n",
              "    </tr>\n",
              "  </tbody>\n",
              "</table>\n",
              "<p>366 rows × 11 columns</p>\n",
              "</div>\n",
              "      <button class=\"colab-df-convert\" onclick=\"convertToInteractive('df-e1126734-de72-42e0-a11b-50a05fceccc7')\"\n",
              "              title=\"Convert this dataframe to an interactive table.\"\n",
              "              style=\"display:none;\">\n",
              "        \n",
              "  <svg xmlns=\"http://www.w3.org/2000/svg\" height=\"24px\"viewBox=\"0 0 24 24\"\n",
              "       width=\"24px\">\n",
              "    <path d=\"M0 0h24v24H0V0z\" fill=\"none\"/>\n",
              "    <path d=\"M18.56 5.44l.94 2.06.94-2.06 2.06-.94-2.06-.94-.94-2.06-.94 2.06-2.06.94zm-11 1L8.5 8.5l.94-2.06 2.06-.94-2.06-.94L8.5 2.5l-.94 2.06-2.06.94zm10 10l.94 2.06.94-2.06 2.06-.94-2.06-.94-.94-2.06-.94 2.06-2.06.94z\"/><path d=\"M17.41 7.96l-1.37-1.37c-.4-.4-.92-.59-1.43-.59-.52 0-1.04.2-1.43.59L10.3 9.45l-7.72 7.72c-.78.78-.78 2.05 0 2.83L4 21.41c.39.39.9.59 1.41.59.51 0 1.02-.2 1.41-.59l7.78-7.78 2.81-2.81c.8-.78.8-2.07 0-2.86zM5.41 20L4 18.59l7.72-7.72 1.47 1.35L5.41 20z\"/>\n",
              "  </svg>\n",
              "      </button>\n",
              "      \n",
              "  <style>\n",
              "    .colab-df-container {\n",
              "      display:flex;\n",
              "      flex-wrap:wrap;\n",
              "      gap: 12px;\n",
              "    }\n",
              "\n",
              "    .colab-df-convert {\n",
              "      background-color: #E8F0FE;\n",
              "      border: none;\n",
              "      border-radius: 50%;\n",
              "      cursor: pointer;\n",
              "      display: none;\n",
              "      fill: #1967D2;\n",
              "      height: 32px;\n",
              "      padding: 0 0 0 0;\n",
              "      width: 32px;\n",
              "    }\n",
              "\n",
              "    .colab-df-convert:hover {\n",
              "      background-color: #E2EBFA;\n",
              "      box-shadow: 0px 1px 2px rgba(60, 64, 67, 0.3), 0px 1px 3px 1px rgba(60, 64, 67, 0.15);\n",
              "      fill: #174EA6;\n",
              "    }\n",
              "\n",
              "    [theme=dark] .colab-df-convert {\n",
              "      background-color: #3B4455;\n",
              "      fill: #D2E3FC;\n",
              "    }\n",
              "\n",
              "    [theme=dark] .colab-df-convert:hover {\n",
              "      background-color: #434B5C;\n",
              "      box-shadow: 0px 1px 3px 1px rgba(0, 0, 0, 0.15);\n",
              "      filter: drop-shadow(0px 1px 2px rgba(0, 0, 0, 0.3));\n",
              "      fill: #FFFFFF;\n",
              "    }\n",
              "  </style>\n",
              "\n",
              "      <script>\n",
              "        const buttonEl =\n",
              "          document.querySelector('#df-e1126734-de72-42e0-a11b-50a05fceccc7 button.colab-df-convert');\n",
              "        buttonEl.style.display =\n",
              "          google.colab.kernel.accessAllowed ? 'block' : 'none';\n",
              "\n",
              "        async function convertToInteractive(key) {\n",
              "          const element = document.querySelector('#df-e1126734-de72-42e0-a11b-50a05fceccc7');\n",
              "          const dataTable =\n",
              "            await google.colab.kernel.invokeFunction('convertToInteractive',\n",
              "                                                     [key], {});\n",
              "          if (!dataTable) return;\n",
              "\n",
              "          const docLinkHtml = 'Like what you see? Visit the ' +\n",
              "            '<a target=\"_blank\" href=https://colab.research.google.com/notebooks/data_table.ipynb>data table notebook</a>'\n",
              "            + ' to learn more about interactive tables.';\n",
              "          element.innerHTML = '';\n",
              "          dataTable['output_type'] = 'display_data';\n",
              "          await google.colab.output.renderOutput(dataTable, element);\n",
              "          const docLink = document.createElement('div');\n",
              "          docLink.innerHTML = docLinkHtml;\n",
              "          element.appendChild(docLink);\n",
              "        }\n",
              "      </script>\n",
              "    </div>\n",
              "  </div>\n",
              "  "
            ]
          },
          "metadata": {},
          "execution_count": 14
        }
      ],
      "source": [
        "data[data['PT08.S5(O3)'].isnull()]"
      ]
    },
    {
      "cell_type": "code",
      "execution_count": null,
      "metadata": {
        "id": "Y35yFW8XGT5x"
      },
      "outputs": [],
      "source": [
        "data = data.dropna(axis=0,subset= ['PT08.S1(CO)','PT08.S2(NMHC)','PT08.S3(NOx)','PT08.S4(NO2)','PT08.S5(O3)','T','RH','AH','NO2(GT)'])"
      ]
    },
    {
      "cell_type": "code",
      "execution_count": null,
      "metadata": {
        "colab": {
          "base_uri": "https://localhost:8080/"
        },
        "id": "-G7oryhpG4Z-",
        "outputId": "3d518d5f-6fb3-4bdb-ed88-e035bb1377b0"
      },
      "outputs": [
        {
          "output_type": "stream",
          "name": "stdout",
          "text": [
            "Series([], dtype: float64)\n"
          ]
        }
      ],
      "source": [
        "percent_nan = percent_missing(data)\n",
        "print(percent_nan)"
      ]
    },
    {
      "cell_type": "code",
      "execution_count": null,
      "metadata": {
        "colab": {
          "base_uri": "https://localhost:8080/"
        },
        "id": "DsvdTgxzHgnM",
        "outputId": "3b3073af-1501-4312-d51d-38a917b169c2"
      },
      "outputs": [
        {
          "output_type": "execute_result",
          "data": {
            "text/plain": [
              "0.013526308670363857"
            ]
          },
          "metadata": {},
          "execution_count": 17
        }
      ],
      "source": [
        "100/len(data)"
      ]
    },
    {
      "cell_type": "markdown",
      "metadata": {
        "id": "v7vinFJmuQYn"
      },
      "source": [
        "### 4- Replace date feature"
      ]
    },
    {
      "cell_type": "code",
      "execution_count": null,
      "metadata": {
        "collapsed": true,
        "id": "e1X8-GXvuQYn",
        "colab": {
          "base_uri": "https://localhost:8080/"
        },
        "outputId": "51554ff2-ac1f-4d60-9d0a-9deba4e1c388"
      },
      "outputs": [
        {
          "output_type": "stream",
          "name": "stderr",
          "text": [
            "/usr/local/lib/python3.7/dist-packages/ipykernel_launcher.py:1: SettingWithCopyWarning: \n",
            "A value is trying to be set on a copy of a slice from a DataFrame.\n",
            "Try using .loc[row_indexer,col_indexer] = value instead\n",
            "\n",
            "See the caveats in the documentation: https://pandas.pydata.org/pandas-docs/stable/user_guide/indexing.html#returning-a-view-versus-a-copy\n",
            "  \"\"\"Entry point for launching an IPython kernel.\n",
            "/usr/local/lib/python3.7/dist-packages/ipykernel_launcher.py:2: SettingWithCopyWarning: \n",
            "A value is trying to be set on a copy of a slice from a DataFrame.\n",
            "Try using .loc[row_indexer,col_indexer] = value instead\n",
            "\n",
            "See the caveats in the documentation: https://pandas.pydata.org/pandas-docs/stable/user_guide/indexing.html#returning-a-view-versus-a-copy\n",
            "  \n",
            "/usr/local/lib/python3.7/dist-packages/ipykernel_launcher.py:3: SettingWithCopyWarning: \n",
            "A value is trying to be set on a copy of a slice from a DataFrame.\n",
            "Try using .loc[row_indexer,col_indexer] = value instead\n",
            "\n",
            "See the caveats in the documentation: https://pandas.pydata.org/pandas-docs/stable/user_guide/indexing.html#returning-a-view-versus-a-copy\n",
            "  This is separate from the ipykernel package so we can avoid doing imports until\n",
            "/usr/local/lib/python3.7/dist-packages/ipykernel_launcher.py:4: SettingWithCopyWarning: \n",
            "A value is trying to be set on a copy of a slice from a DataFrame.\n",
            "Try using .loc[row_indexer,col_indexer] = value instead\n",
            "\n",
            "See the caveats in the documentation: https://pandas.pydata.org/pandas-docs/stable/user_guide/indexing.html#returning-a-view-versus-a-copy\n",
            "  after removing the cwd from sys.path.\n"
          ]
        }
      ],
      "source": [
        "data['Date'] = pd.to_datetime(data['Date'])\n",
        "data['Year'] = data['Date'].dt.year\n",
        "data['Month'] = data['Date'].dt.month\n",
        "data['Day'] = data['Date'].dt.day\n"
      ]
    },
    {
      "cell_type": "code",
      "execution_count": null,
      "metadata": {
        "colab": {
          "base_uri": "https://localhost:8080/",
          "height": 206
        },
        "id": "7lA8FzG4JhwZ",
        "outputId": "4eacc702-dce3-40cb-e116-c06191581f1e"
      },
      "outputs": [
        {
          "output_type": "execute_result",
          "data": {
            "text/plain": [
              "       Time  PT08.S1(CO)  PT08.S2(NMHC)  PT08.S3(NOx)  NO2(GT)  PT08.S4(NO2)  \\\n",
              "0  18:00:00       1360.0         1046.0        1056.0    113.0        1692.0   \n",
              "1  19:00:00       1292.0          955.0        1174.0     92.0        1559.0   \n",
              "2  20:00:00       1402.0          939.0        1140.0    114.0        1555.0   \n",
              "3  21:00:00       1376.0          948.0        1092.0    122.0        1584.0   \n",
              "4  22:00:00       1272.0          836.0        1205.0    116.0        1490.0   \n",
              "\n",
              "   PT08.S5(O3)     T    RH      AH  Year  Month  Day  \n",
              "0       1268.0  13.6  48.9  0.7578  2004      3   10  \n",
              "1        972.0  13.3  47.7  0.7255  2004      3   10  \n",
              "2       1074.0  11.9  54.0  0.7502  2004      3   10  \n",
              "3       1203.0  11.0  60.0  0.7867  2004      3   10  \n",
              "4       1110.0  11.2  59.6  0.7888  2004      3   10  "
            ],
            "text/html": [
              "\n",
              "  <div id=\"df-f2b195e7-8815-470a-a23d-52b49aa737bc\">\n",
              "    <div class=\"colab-df-container\">\n",
              "      <div>\n",
              "<style scoped>\n",
              "    .dataframe tbody tr th:only-of-type {\n",
              "        vertical-align: middle;\n",
              "    }\n",
              "\n",
              "    .dataframe tbody tr th {\n",
              "        vertical-align: top;\n",
              "    }\n",
              "\n",
              "    .dataframe thead th {\n",
              "        text-align: right;\n",
              "    }\n",
              "</style>\n",
              "<table border=\"1\" class=\"dataframe\">\n",
              "  <thead>\n",
              "    <tr style=\"text-align: right;\">\n",
              "      <th></th>\n",
              "      <th>Time</th>\n",
              "      <th>PT08.S1(CO)</th>\n",
              "      <th>PT08.S2(NMHC)</th>\n",
              "      <th>PT08.S3(NOx)</th>\n",
              "      <th>NO2(GT)</th>\n",
              "      <th>PT08.S4(NO2)</th>\n",
              "      <th>PT08.S5(O3)</th>\n",
              "      <th>T</th>\n",
              "      <th>RH</th>\n",
              "      <th>AH</th>\n",
              "      <th>Year</th>\n",
              "      <th>Month</th>\n",
              "      <th>Day</th>\n",
              "    </tr>\n",
              "  </thead>\n",
              "  <tbody>\n",
              "    <tr>\n",
              "      <th>0</th>\n",
              "      <td>18:00:00</td>\n",
              "      <td>1360.0</td>\n",
              "      <td>1046.0</td>\n",
              "      <td>1056.0</td>\n",
              "      <td>113.0</td>\n",
              "      <td>1692.0</td>\n",
              "      <td>1268.0</td>\n",
              "      <td>13.6</td>\n",
              "      <td>48.9</td>\n",
              "      <td>0.7578</td>\n",
              "      <td>2004</td>\n",
              "      <td>3</td>\n",
              "      <td>10</td>\n",
              "    </tr>\n",
              "    <tr>\n",
              "      <th>1</th>\n",
              "      <td>19:00:00</td>\n",
              "      <td>1292.0</td>\n",
              "      <td>955.0</td>\n",
              "      <td>1174.0</td>\n",
              "      <td>92.0</td>\n",
              "      <td>1559.0</td>\n",
              "      <td>972.0</td>\n",
              "      <td>13.3</td>\n",
              "      <td>47.7</td>\n",
              "      <td>0.7255</td>\n",
              "      <td>2004</td>\n",
              "      <td>3</td>\n",
              "      <td>10</td>\n",
              "    </tr>\n",
              "    <tr>\n",
              "      <th>2</th>\n",
              "      <td>20:00:00</td>\n",
              "      <td>1402.0</td>\n",
              "      <td>939.0</td>\n",
              "      <td>1140.0</td>\n",
              "      <td>114.0</td>\n",
              "      <td>1555.0</td>\n",
              "      <td>1074.0</td>\n",
              "      <td>11.9</td>\n",
              "      <td>54.0</td>\n",
              "      <td>0.7502</td>\n",
              "      <td>2004</td>\n",
              "      <td>3</td>\n",
              "      <td>10</td>\n",
              "    </tr>\n",
              "    <tr>\n",
              "      <th>3</th>\n",
              "      <td>21:00:00</td>\n",
              "      <td>1376.0</td>\n",
              "      <td>948.0</td>\n",
              "      <td>1092.0</td>\n",
              "      <td>122.0</td>\n",
              "      <td>1584.0</td>\n",
              "      <td>1203.0</td>\n",
              "      <td>11.0</td>\n",
              "      <td>60.0</td>\n",
              "      <td>0.7867</td>\n",
              "      <td>2004</td>\n",
              "      <td>3</td>\n",
              "      <td>10</td>\n",
              "    </tr>\n",
              "    <tr>\n",
              "      <th>4</th>\n",
              "      <td>22:00:00</td>\n",
              "      <td>1272.0</td>\n",
              "      <td>836.0</td>\n",
              "      <td>1205.0</td>\n",
              "      <td>116.0</td>\n",
              "      <td>1490.0</td>\n",
              "      <td>1110.0</td>\n",
              "      <td>11.2</td>\n",
              "      <td>59.6</td>\n",
              "      <td>0.7888</td>\n",
              "      <td>2004</td>\n",
              "      <td>3</td>\n",
              "      <td>10</td>\n",
              "    </tr>\n",
              "  </tbody>\n",
              "</table>\n",
              "</div>\n",
              "      <button class=\"colab-df-convert\" onclick=\"convertToInteractive('df-f2b195e7-8815-470a-a23d-52b49aa737bc')\"\n",
              "              title=\"Convert this dataframe to an interactive table.\"\n",
              "              style=\"display:none;\">\n",
              "        \n",
              "  <svg xmlns=\"http://www.w3.org/2000/svg\" height=\"24px\"viewBox=\"0 0 24 24\"\n",
              "       width=\"24px\">\n",
              "    <path d=\"M0 0h24v24H0V0z\" fill=\"none\"/>\n",
              "    <path d=\"M18.56 5.44l.94 2.06.94-2.06 2.06-.94-2.06-.94-.94-2.06-.94 2.06-2.06.94zm-11 1L8.5 8.5l.94-2.06 2.06-.94-2.06-.94L8.5 2.5l-.94 2.06-2.06.94zm10 10l.94 2.06.94-2.06 2.06-.94-2.06-.94-.94-2.06-.94 2.06-2.06.94z\"/><path d=\"M17.41 7.96l-1.37-1.37c-.4-.4-.92-.59-1.43-.59-.52 0-1.04.2-1.43.59L10.3 9.45l-7.72 7.72c-.78.78-.78 2.05 0 2.83L4 21.41c.39.39.9.59 1.41.59.51 0 1.02-.2 1.41-.59l7.78-7.78 2.81-2.81c.8-.78.8-2.07 0-2.86zM5.41 20L4 18.59l7.72-7.72 1.47 1.35L5.41 20z\"/>\n",
              "  </svg>\n",
              "      </button>\n",
              "      \n",
              "  <style>\n",
              "    .colab-df-container {\n",
              "      display:flex;\n",
              "      flex-wrap:wrap;\n",
              "      gap: 12px;\n",
              "    }\n",
              "\n",
              "    .colab-df-convert {\n",
              "      background-color: #E8F0FE;\n",
              "      border: none;\n",
              "      border-radius: 50%;\n",
              "      cursor: pointer;\n",
              "      display: none;\n",
              "      fill: #1967D2;\n",
              "      height: 32px;\n",
              "      padding: 0 0 0 0;\n",
              "      width: 32px;\n",
              "    }\n",
              "\n",
              "    .colab-df-convert:hover {\n",
              "      background-color: #E2EBFA;\n",
              "      box-shadow: 0px 1px 2px rgba(60, 64, 67, 0.3), 0px 1px 3px 1px rgba(60, 64, 67, 0.15);\n",
              "      fill: #174EA6;\n",
              "    }\n",
              "\n",
              "    [theme=dark] .colab-df-convert {\n",
              "      background-color: #3B4455;\n",
              "      fill: #D2E3FC;\n",
              "    }\n",
              "\n",
              "    [theme=dark] .colab-df-convert:hover {\n",
              "      background-color: #434B5C;\n",
              "      box-shadow: 0px 1px 3px 1px rgba(0, 0, 0, 0.15);\n",
              "      filter: drop-shadow(0px 1px 2px rgba(0, 0, 0, 0.3));\n",
              "      fill: #FFFFFF;\n",
              "    }\n",
              "  </style>\n",
              "\n",
              "      <script>\n",
              "        const buttonEl =\n",
              "          document.querySelector('#df-f2b195e7-8815-470a-a23d-52b49aa737bc button.colab-df-convert');\n",
              "        buttonEl.style.display =\n",
              "          google.colab.kernel.accessAllowed ? 'block' : 'none';\n",
              "\n",
              "        async function convertToInteractive(key) {\n",
              "          const element = document.querySelector('#df-f2b195e7-8815-470a-a23d-52b49aa737bc');\n",
              "          const dataTable =\n",
              "            await google.colab.kernel.invokeFunction('convertToInteractive',\n",
              "                                                     [key], {});\n",
              "          if (!dataTable) return;\n",
              "\n",
              "          const docLinkHtml = 'Like what you see? Visit the ' +\n",
              "            '<a target=\"_blank\" href=https://colab.research.google.com/notebooks/data_table.ipynb>data table notebook</a>'\n",
              "            + ' to learn more about interactive tables.';\n",
              "          element.innerHTML = '';\n",
              "          dataTable['output_type'] = 'display_data';\n",
              "          await google.colab.output.renderOutput(dataTable, element);\n",
              "          const docLink = document.createElement('div');\n",
              "          docLink.innerHTML = docLinkHtml;\n",
              "          element.appendChild(docLink);\n",
              "        }\n",
              "      </script>\n",
              "    </div>\n",
              "  </div>\n",
              "  "
            ]
          },
          "metadata": {},
          "execution_count": 19
        }
      ],
      "source": [
        "data = data.drop('Date', axis = 1)\n",
        "data.head()"
      ]
    },
    {
      "cell_type": "markdown",
      "metadata": {
        "id": "zHvSGF9fuQYo"
      },
      "source": [
        "### 5- Replace time feature"
      ]
    },
    {
      "cell_type": "code",
      "execution_count": null,
      "metadata": {
        "collapsed": true,
        "id": "vWqvEVdsuQYo"
      },
      "outputs": [],
      "source": [
        "data['Time'] = pd.to_datetime(data['Time'])\n",
        "data['Hours'] = data['Time'].dt.hour\n",
        "data['Minutes'] = data['Time'].dt.minute\n",
        "data['Seconds'] = data['Time'].dt.second\n"
      ]
    },
    {
      "cell_type": "code",
      "execution_count": null,
      "metadata": {
        "colab": {
          "base_uri": "https://localhost:8080/",
          "height": 206
        },
        "id": "UHZduviWKT1x",
        "outputId": "3c91a44f-53b0-4a31-b632-75afe588ef94"
      },
      "outputs": [
        {
          "output_type": "execute_result",
          "data": {
            "text/plain": [
              "   PT08.S1(CO)  PT08.S2(NMHC)  PT08.S3(NOx)  NO2(GT)  PT08.S4(NO2)  \\\n",
              "0       1360.0         1046.0        1056.0    113.0        1692.0   \n",
              "1       1292.0          955.0        1174.0     92.0        1559.0   \n",
              "2       1402.0          939.0        1140.0    114.0        1555.0   \n",
              "3       1376.0          948.0        1092.0    122.0        1584.0   \n",
              "4       1272.0          836.0        1205.0    116.0        1490.0   \n",
              "\n",
              "   PT08.S5(O3)     T    RH      AH  Year  Month  Day  Hours  Minutes  Seconds  \n",
              "0       1268.0  13.6  48.9  0.7578  2004      3   10     18        0        0  \n",
              "1        972.0  13.3  47.7  0.7255  2004      3   10     19        0        0  \n",
              "2       1074.0  11.9  54.0  0.7502  2004      3   10     20        0        0  \n",
              "3       1203.0  11.0  60.0  0.7867  2004      3   10     21        0        0  \n",
              "4       1110.0  11.2  59.6  0.7888  2004      3   10     22        0        0  "
            ],
            "text/html": [
              "\n",
              "  <div id=\"df-5a3b5b4e-05ff-4b17-9593-f187035895d1\">\n",
              "    <div class=\"colab-df-container\">\n",
              "      <div>\n",
              "<style scoped>\n",
              "    .dataframe tbody tr th:only-of-type {\n",
              "        vertical-align: middle;\n",
              "    }\n",
              "\n",
              "    .dataframe tbody tr th {\n",
              "        vertical-align: top;\n",
              "    }\n",
              "\n",
              "    .dataframe thead th {\n",
              "        text-align: right;\n",
              "    }\n",
              "</style>\n",
              "<table border=\"1\" class=\"dataframe\">\n",
              "  <thead>\n",
              "    <tr style=\"text-align: right;\">\n",
              "      <th></th>\n",
              "      <th>PT08.S1(CO)</th>\n",
              "      <th>PT08.S2(NMHC)</th>\n",
              "      <th>PT08.S3(NOx)</th>\n",
              "      <th>NO2(GT)</th>\n",
              "      <th>PT08.S4(NO2)</th>\n",
              "      <th>PT08.S5(O3)</th>\n",
              "      <th>T</th>\n",
              "      <th>RH</th>\n",
              "      <th>AH</th>\n",
              "      <th>Year</th>\n",
              "      <th>Month</th>\n",
              "      <th>Day</th>\n",
              "      <th>Hours</th>\n",
              "      <th>Minutes</th>\n",
              "      <th>Seconds</th>\n",
              "    </tr>\n",
              "  </thead>\n",
              "  <tbody>\n",
              "    <tr>\n",
              "      <th>0</th>\n",
              "      <td>1360.0</td>\n",
              "      <td>1046.0</td>\n",
              "      <td>1056.0</td>\n",
              "      <td>113.0</td>\n",
              "      <td>1692.0</td>\n",
              "      <td>1268.0</td>\n",
              "      <td>13.6</td>\n",
              "      <td>48.9</td>\n",
              "      <td>0.7578</td>\n",
              "      <td>2004</td>\n",
              "      <td>3</td>\n",
              "      <td>10</td>\n",
              "      <td>18</td>\n",
              "      <td>0</td>\n",
              "      <td>0</td>\n",
              "    </tr>\n",
              "    <tr>\n",
              "      <th>1</th>\n",
              "      <td>1292.0</td>\n",
              "      <td>955.0</td>\n",
              "      <td>1174.0</td>\n",
              "      <td>92.0</td>\n",
              "      <td>1559.0</td>\n",
              "      <td>972.0</td>\n",
              "      <td>13.3</td>\n",
              "      <td>47.7</td>\n",
              "      <td>0.7255</td>\n",
              "      <td>2004</td>\n",
              "      <td>3</td>\n",
              "      <td>10</td>\n",
              "      <td>19</td>\n",
              "      <td>0</td>\n",
              "      <td>0</td>\n",
              "    </tr>\n",
              "    <tr>\n",
              "      <th>2</th>\n",
              "      <td>1402.0</td>\n",
              "      <td>939.0</td>\n",
              "      <td>1140.0</td>\n",
              "      <td>114.0</td>\n",
              "      <td>1555.0</td>\n",
              "      <td>1074.0</td>\n",
              "      <td>11.9</td>\n",
              "      <td>54.0</td>\n",
              "      <td>0.7502</td>\n",
              "      <td>2004</td>\n",
              "      <td>3</td>\n",
              "      <td>10</td>\n",
              "      <td>20</td>\n",
              "      <td>0</td>\n",
              "      <td>0</td>\n",
              "    </tr>\n",
              "    <tr>\n",
              "      <th>3</th>\n",
              "      <td>1376.0</td>\n",
              "      <td>948.0</td>\n",
              "      <td>1092.0</td>\n",
              "      <td>122.0</td>\n",
              "      <td>1584.0</td>\n",
              "      <td>1203.0</td>\n",
              "      <td>11.0</td>\n",
              "      <td>60.0</td>\n",
              "      <td>0.7867</td>\n",
              "      <td>2004</td>\n",
              "      <td>3</td>\n",
              "      <td>10</td>\n",
              "      <td>21</td>\n",
              "      <td>0</td>\n",
              "      <td>0</td>\n",
              "    </tr>\n",
              "    <tr>\n",
              "      <th>4</th>\n",
              "      <td>1272.0</td>\n",
              "      <td>836.0</td>\n",
              "      <td>1205.0</td>\n",
              "      <td>116.0</td>\n",
              "      <td>1490.0</td>\n",
              "      <td>1110.0</td>\n",
              "      <td>11.2</td>\n",
              "      <td>59.6</td>\n",
              "      <td>0.7888</td>\n",
              "      <td>2004</td>\n",
              "      <td>3</td>\n",
              "      <td>10</td>\n",
              "      <td>22</td>\n",
              "      <td>0</td>\n",
              "      <td>0</td>\n",
              "    </tr>\n",
              "  </tbody>\n",
              "</table>\n",
              "</div>\n",
              "      <button class=\"colab-df-convert\" onclick=\"convertToInteractive('df-5a3b5b4e-05ff-4b17-9593-f187035895d1')\"\n",
              "              title=\"Convert this dataframe to an interactive table.\"\n",
              "              style=\"display:none;\">\n",
              "        \n",
              "  <svg xmlns=\"http://www.w3.org/2000/svg\" height=\"24px\"viewBox=\"0 0 24 24\"\n",
              "       width=\"24px\">\n",
              "    <path d=\"M0 0h24v24H0V0z\" fill=\"none\"/>\n",
              "    <path d=\"M18.56 5.44l.94 2.06.94-2.06 2.06-.94-2.06-.94-.94-2.06-.94 2.06-2.06.94zm-11 1L8.5 8.5l.94-2.06 2.06-.94-2.06-.94L8.5 2.5l-.94 2.06-2.06.94zm10 10l.94 2.06.94-2.06 2.06-.94-2.06-.94-.94-2.06-.94 2.06-2.06.94z\"/><path d=\"M17.41 7.96l-1.37-1.37c-.4-.4-.92-.59-1.43-.59-.52 0-1.04.2-1.43.59L10.3 9.45l-7.72 7.72c-.78.78-.78 2.05 0 2.83L4 21.41c.39.39.9.59 1.41.59.51 0 1.02-.2 1.41-.59l7.78-7.78 2.81-2.81c.8-.78.8-2.07 0-2.86zM5.41 20L4 18.59l7.72-7.72 1.47 1.35L5.41 20z\"/>\n",
              "  </svg>\n",
              "      </button>\n",
              "      \n",
              "  <style>\n",
              "    .colab-df-container {\n",
              "      display:flex;\n",
              "      flex-wrap:wrap;\n",
              "      gap: 12px;\n",
              "    }\n",
              "\n",
              "    .colab-df-convert {\n",
              "      background-color: #E8F0FE;\n",
              "      border: none;\n",
              "      border-radius: 50%;\n",
              "      cursor: pointer;\n",
              "      display: none;\n",
              "      fill: #1967D2;\n",
              "      height: 32px;\n",
              "      padding: 0 0 0 0;\n",
              "      width: 32px;\n",
              "    }\n",
              "\n",
              "    .colab-df-convert:hover {\n",
              "      background-color: #E2EBFA;\n",
              "      box-shadow: 0px 1px 2px rgba(60, 64, 67, 0.3), 0px 1px 3px 1px rgba(60, 64, 67, 0.15);\n",
              "      fill: #174EA6;\n",
              "    }\n",
              "\n",
              "    [theme=dark] .colab-df-convert {\n",
              "      background-color: #3B4455;\n",
              "      fill: #D2E3FC;\n",
              "    }\n",
              "\n",
              "    [theme=dark] .colab-df-convert:hover {\n",
              "      background-color: #434B5C;\n",
              "      box-shadow: 0px 1px 3px 1px rgba(0, 0, 0, 0.15);\n",
              "      filter: drop-shadow(0px 1px 2px rgba(0, 0, 0, 0.3));\n",
              "      fill: #FFFFFF;\n",
              "    }\n",
              "  </style>\n",
              "\n",
              "      <script>\n",
              "        const buttonEl =\n",
              "          document.querySelector('#df-5a3b5b4e-05ff-4b17-9593-f187035895d1 button.colab-df-convert');\n",
              "        buttonEl.style.display =\n",
              "          google.colab.kernel.accessAllowed ? 'block' : 'none';\n",
              "\n",
              "        async function convertToInteractive(key) {\n",
              "          const element = document.querySelector('#df-5a3b5b4e-05ff-4b17-9593-f187035895d1');\n",
              "          const dataTable =\n",
              "            await google.colab.kernel.invokeFunction('convertToInteractive',\n",
              "                                                     [key], {});\n",
              "          if (!dataTable) return;\n",
              "\n",
              "          const docLinkHtml = 'Like what you see? Visit the ' +\n",
              "            '<a target=\"_blank\" href=https://colab.research.google.com/notebooks/data_table.ipynb>data table notebook</a>'\n",
              "            + ' to learn more about interactive tables.';\n",
              "          element.innerHTML = '';\n",
              "          dataTable['output_type'] = 'display_data';\n",
              "          await google.colab.output.renderOutput(dataTable, element);\n",
              "          const docLink = document.createElement('div');\n",
              "          docLink.innerHTML = docLinkHtml;\n",
              "          element.appendChild(docLink);\n",
              "        }\n",
              "      </script>\n",
              "    </div>\n",
              "  </div>\n",
              "  "
            ]
          },
          "metadata": {},
          "execution_count": 21
        }
      ],
      "source": [
        "data = data.drop('Time', axis = 1)\n",
        "data.head()"
      ]
    },
    {
      "cell_type": "markdown",
      "metadata": {
        "id": "rV0bYDXzuQYo"
      },
      "source": [
        "### 6- Apply feature scaling"
      ]
    },
    {
      "cell_type": "code",
      "execution_count": null,
      "metadata": {
        "collapsed": true,
        "id": "qIgBH_d2uQYo"
      },
      "outputs": [],
      "source": [
        "from sklearn.preprocessing import PolynomialFeatures\n",
        "from sklearn.model_selection import train_test_split"
      ]
    },
    {
      "cell_type": "code",
      "execution_count": null,
      "metadata": {
        "id": "eM1Oo8VFUwM5"
      },
      "outputs": [],
      "source": [
        "X = data.drop('NO2(GT)',axis=1)\n",
        "y = data['NO2(GT)']\n",
        "scaler = StandardScaler()\n"
      ]
    },
    {
      "cell_type": "markdown",
      "metadata": {
        "id": "-Bh7ou_4uQYp"
      },
      "source": [
        "### 7- Evaluate different degrees of lasso CV polynomial regression"
      ]
    },
    {
      "cell_type": "code",
      "execution_count": null,
      "metadata": {
        "collapsed": true,
        "id": "tLBRmfjuuQYp"
      },
      "outputs": [],
      "source": [
        "from sklearn.linear_model import RidgeCV\n",
        "from sklearn.linear_model import LassoCV\n",
        "from sklearn.metrics import mean_absolute_error,mean_squared_error"
      ]
    },
    {
      "cell_type": "code",
      "execution_count": null,
      "metadata": {
        "colab": {
          "base_uri": "https://localhost:8080/"
        },
        "id": "PJQwKjbLVxCM",
        "outputId": "9c51ed35-1d38-4ebe-8f67-dc806ea42cc2"
      },
      "outputs": [
        {
          "output_type": "stream",
          "name": "stdout",
          "text": [
            "Alpha of Degree 1:3.3928122729437327\n",
            "Coef of Degree 1:[  0.          10.48078201  -9.834256    -0.          13.50199823\n",
            "  -0.          -0.         -14.24350718   6.80780151  -0.\n",
            "  -0.           4.79667506   0.           0.        ]\n",
            "------------------------\n",
            "Alpha of Degree 2:3.3938106840490363\n",
            "Coef of Degree 2:[  0.           4.99979592  -8.74824474  -0.           9.28722428\n",
            "  -0.          -0.          -0.           3.40025801  -0.\n",
            "  -0.           0.           0.           0.           0.\n",
            "   0.          -0.           0.           0.           0.\n",
            "  -0.          -0.           0.          -0.           0.\n",
            "   0.           0.           0.           0.           0.\n",
            "   0.           0.           0.          -0.          -0.\n",
            "   3.19875182   0.           0.           0.           0.\n",
            "   0.          -0.          -0.98648244   0.          -0.\n",
            "  -0.          -3.09778534  -0.          -0.          -0.\n",
            "   0.           0.           0.          -0.           0.\n",
            "  -0.          -0.          -0.          -0.          -0.\n",
            "  -0.           0.           0.           0.           0.\n",
            "   0.           0.          -0.           1.81993259   0.\n",
            "   0.           7.34811534   0.           0.           0.\n",
            " -13.30446881  -0.          -0.          -0.          -0.\n",
            "   0.           0.           0.          -0.          -0.\n",
            "  -0.          -0.          -0.           0.           0.\n",
            "   0.          -0.          -0.          -0.          -0.\n",
            "  -0.           0.           0.           1.18850209  -0.\n",
            "  -0.           0.           0.           0.          -0.\n",
            "  -0.           0.           0.           0.          -0.\n",
            "   0.           0.           0.           0.           0.\n",
            "   0.           0.           0.           0.        ]\n",
            "------------------------\n",
            "Alpha of Degree 3:3.4203762682143113\n",
            "Coef of Degree 3:[  0.           0.23229415  -8.51324492  -0.           9.5038506\n",
            "  -0.          -0.          -0.           2.43517564  -0.\n",
            "  -0.           0.           0.           0.           0.\n",
            "   0.          -0.           0.           0.           0.\n",
            "  -0.          -0.           0.          -0.           0.\n",
            "   0.           0.           0.           0.           0.\n",
            "   0.           0.           0.           0.          -0.\n",
            "   3.45417966   0.           0.           0.           0.\n",
            "   0.          -0.          -1.27318458   0.          -0.\n",
            "  -0.          -3.16197747  -0.          -0.          -0.\n",
            "   0.           0.           0.          -0.           0.\n",
            "  -0.          -0.          -0.          -0.          -0.\n",
            "  -0.           0.           0.           0.           0.\n",
            "   0.           0.          -0.           1.06878305   0.\n",
            "   0.           7.30313624   0.           0.           0.\n",
            " -10.8165008   -0.          -0.          -0.          -0.\n",
            "   0.           0.           0.          -0.          -0.\n",
            "  -0.          -0.          -0.           0.           0.\n",
            "   0.          -0.          -0.          -0.          -0.\n",
            "  -0.           0.           0.           1.1346466   -0.\n",
            "  -0.           0.           0.           0.          -0.\n",
            "  -0.           0.           0.           0.          -0.\n",
            "   0.           0.           0.           0.           0.\n",
            "   0.           0.           0.           0.           0.\n",
            "   0.           0.           0.           0.           0.\n",
            "   0.          -0.           0.           0.           0.\n",
            "   0.           0.           0.           0.           0.\n",
            "   0.           0.           0.           0.          -0.\n",
            "   0.           0.           0.           0.           0.\n",
            "   0.          -0.          -0.           0.          -0.\n",
            "  -0.          -0.          -0.          -0.          -0.\n",
            "   0.           0.           0.          -0.           0.\n",
            "  -0.          -0.          -0.           0.          -0.\n",
            "   0.           0.           0.           0.           0.\n",
            "   0.           0.          -0.           0.           0.\n",
            "   0.           0.           0.           0.           0.\n",
            "  -0.          -0.           0.          -0.           0.\n",
            "   0.           0.           0.          -0.          -0.\n",
            "  -0.          -0.           0.           0.           0.\n",
            "   0.          -0.          -0.          -0.          -0.\n",
            "   0.           0.           0.           0.          -0.\n",
            "   0.           0.           0.           0.          -0.\n",
            "   0.           0.           0.           0.           0.\n",
            "   0.           0.           0.           0.           0.\n",
            "   0.           0.           0.           0.           0.\n",
            "   0.           0.           0.           0.           0.\n",
            "  -0.           0.           0.           0.           0.\n",
            "   0.           0.          -0.          -0.           0.95065275\n",
            "  -0.          -0.          -0.           0.           0.\n",
            "  -0.           0.           0.           0.          -0.\n",
            "   0.           0.          -0.          -0.           0.\n",
            "  -0.           0.           0.           0.           0.\n",
            "   0.           0.           0.          -0.           0.\n",
            "   0.           0.           0.           0.           0.\n",
            "   0.          -0.          -0.           0.           0.\n",
            "   0.           0.           0.           0.          -0.\n",
            "  -0.           0.          -0.           0.           0.\n",
            "   0.           0.          -0.          -0.          -0.\n",
            "  -0.           0.           0.           0.           3.93493444\n",
            "   0.           0.           0.           0.           0.\n",
            "   0.           0.           0.           0.           0.\n",
            "   0.           0.           0.           0.           0.\n",
            "   0.           0.           0.           0.           0.\n",
            "  -0.          -0.           0.          -0.          -0.\n",
            "  -0.          -0.          -0.          -0.           0.\n",
            "   0.           0.          -0.           0.          -0.\n",
            "  -0.          -0.          -0.          -0.          -0.\n",
            "   0.           0.           0.           0.           0.\n",
            "  -0.          -0.           0.           0.           0.\n",
            "   0.           0.           0.          -0.          -0.47999562\n",
            "  -0.          -0.          -0.          -0.           0.\n",
            "   0.           0.          -0.          -0.          -0.\n",
            "  -0.          -0.           0.           0.           0.\n",
            "  -0.          -0.          -0.          -0.          -0.\n",
            "   0.           0.          -0.          -0.          -0.\n",
            "   0.           0.           0.           0.          -0.\n",
            "   0.           0.           0.          -0.           0.\n",
            "   0.           0.           0.           0.           0.\n",
            "   0.           0.           0.          -0.          -0.\n",
            "  -0.          -0.          -0.          -0.          -0.\n",
            "  -0.           0.           0.           0.           0.\n",
            "   0.          -0.          -0.           0.          -0.\n",
            "   0.           0.           0.           0.           0.\n",
            "  -0.          -0.          -0.          -0.          -0.\n",
            "   0.           0.           0.          -0.          -0.\n",
            "  -0.          -0.          -0.           0.           0.\n",
            "   0.          -0.          -0.          -0.          -0.\n",
            "  -0.           0.           0.          -0.          -0.\n",
            "  -0.           0.           0.           0.          -0.\n",
            "  -0.           0.           0.           0.          -0.\n",
            "   0.           0.           0.           0.           0.\n",
            "   0.           0.           0.           0.           0.\n",
            "   0.           0.          -0.           0.           0.\n",
            "   0.           0.           0.           0.           0.\n",
            "  -0.          -0.           0.           0.           0.\n",
            "   0.           0.           0.          -0.          -0.\n",
            "   0.          -0.           0.           0.           0.\n",
            "   0.          -0.          -0.          -0.          -0.\n",
            "   0.           0.           0.           0.           0.\n",
            "   0.           0.           0.           0.           0.\n",
            "   0.           0.           0.           0.           0.\n",
            "   0.           0.           0.           0.           0.\n",
            "   0.           0.           0.           0.           0.\n",
            "  -0.          -0.           0.          -0.          -0.\n",
            "   0.           0.           0.          -0.47465498  -0.\n",
            "  -1.35499155  -0.          -0.          -0.           0.\n",
            "   0.          -0.          -0.          -0.          -0.\n",
            "  -0.           0.           0.          -0.          -0.\n",
            "  -0.           0.           0.           0.          -0.\n",
            "  -0.           0.           0.           0.          -0.\n",
            "   0.           0.           0.           0.           0.\n",
            "   0.           0.           0.           0.          -0.\n",
            "  -0.          -0.          -0.          -0.           0.\n",
            "   0.           0.          -0.          -0.          -0.\n",
            "  -0.          -0.           0.           0.          -0.\n",
            "  -0.          -0.           0.           0.           0.\n",
            "  -0.          -0.          -0.           0.           0.\n",
            "  -0.           0.           0.           0.           0.\n",
            "   0.           0.           0.           0.           0.\n",
            "  -0.          -0.          -0.          -0.          -0.\n",
            "   0.           0.          -0.          -0.          -0.\n",
            "  -0.           0.           0.          -0.          -0.\n",
            "  -0.           0.           0.          -0.           0.\n",
            "   0.           0.           0.           0.           0.\n",
            "   0.           0.           0.           1.09612632  -0.\n",
            "  -0.           0.           0.           0.          -0.\n",
            "  -0.           0.           0.           0.          -0.\n",
            "   0.           0.           0.           0.           0.\n",
            "   0.           0.           0.           0.           0.\n",
            "  -0.           0.           0.           0.          -0.\n",
            "   0.           0.           0.           0.           0.\n",
            "   0.           0.           0.           0.          -0.\n",
            "   0.           0.           0.           0.           0.\n",
            "   0.           0.           0.           0.           0.\n",
            "   0.           0.           0.           0.           0.\n",
            "   0.           0.           0.           0.        ]\n",
            "------------------------\n"
          ]
        },
        {
          "output_type": "stream",
          "name": "stderr",
          "text": [
            "/usr/local/lib/python3.7/dist-packages/sklearn/linear_model/_coordinate_descent.py:648: ConvergenceWarning: Objective did not converge. You might want to increase the number of iterations, check the scale of the features or consider increasing regularisation. Duality gap: 1.306e+03, tolerance: 1.186e+03\n",
            "  coef_, l1_reg, l2_reg, X, y, max_iter, tol, rng, random, positive\n"
          ]
        },
        {
          "output_type": "stream",
          "name": "stdout",
          "text": [
            "Alpha of Degree 4:3.4204844352613235\n",
            "Coef of Degree 4:[ 0.          0.         -6.48989893 ...  0.          0.\n",
            "  0.        ]\n",
            "------------------------\n",
            "Alpha of Degree 5:3.420592520443925\n",
            "Coef of Degree 5:[ 0.          0.         -5.06784929 ...  0.          0.\n",
            "  0.        ]\n",
            "------------------------\n"
          ]
        },
        {
          "output_type": "stream",
          "name": "stderr",
          "text": [
            "/usr/local/lib/python3.7/dist-packages/sklearn/linear_model/_coordinate_descent.py:648: ConvergenceWarning: Objective did not converge. You might want to increase the number of iterations, check the scale of the features or consider increasing regularisation. Duality gap: 1.715e+03, tolerance: 1.186e+03\n",
            "  coef_, l1_reg, l2_reg, X, y, max_iter, tol, rng, random, positive\n"
          ]
        }
      ],
      "source": [
        "# TRAINING ERROR PER DEGREE\n",
        "lasso_train_rmse_errors = []\n",
        "# TEST ERROR PER DEGREE\n",
        "lasso_test_rmse_errors = []\n",
        "\n",
        "for d in range(1,6):\n",
        "    \n",
        "    # CREATE POLY DATA SET FOR DEGREE \"d\"\n",
        "    polynomial_converter = PolynomialFeatures(degree=d,include_bias=False)\n",
        "    poly_features = polynomial_converter.fit_transform(X)\n",
        "    \n",
        "    # SPLIT THIS NEW POLY DATA SET\n",
        "    X_train, X_test, y_train, y_test = train_test_split(poly_features, y, test_size=0.3, random_state=101)\n",
        "    \n",
        "    scaler.fit(X_train)\n",
        "    X_train = scaler.transform(X_train)\n",
        "    X_test = scaler.transform(X_test)\n",
        "    \n",
        "    # TRAIN ON THIS NEW POLY SET\n",
        "    lasso_cv_model = LassoCV(eps=0.1,n_alphas=100,cv=5)\n",
        "    lasso_cv_model.fit(X_train,y_train)\n",
        "    \n",
        "    # PREDICT ON BOTH TRAIN AND TEST\n",
        "    train_pred = lasso_cv_model.predict(X_train)\n",
        "    test_pred = lasso_cv_model.predict(X_test)\n",
        "    \n",
        "    # Calculate Errors\n",
        "    \n",
        "    # Errors on Train Set\n",
        "    lasso_train_RMSE = np.sqrt(mean_squared_error(y_train,train_pred))\n",
        "    \n",
        "    # Errors on Test Set\n",
        "    lasso_test_RMSE = np.sqrt(mean_squared_error(y_test,test_pred))\n",
        "\n",
        "    # Append errors to lists for plotting later\n",
        "    \n",
        "   \n",
        "    lasso_train_rmse_errors.append(lasso_train_RMSE)\n",
        "    lasso_test_rmse_errors.append(lasso_test_RMSE)\n",
        "    print('Alpha of Degree ' + str(d) + ':' + str(lasso_cv_model.alpha_))\n",
        "    print('Coef of Degree ' + str(d) + ':' + str(lasso_cv_model.coef_))\n",
        "    print('------------------------')"
      ]
    },
    {
      "cell_type": "markdown",
      "metadata": {
        "id": "pDn9gby-uQYp"
      },
      "source": [
        "### 8- Choose the best degree and print the errors, model coefficients and the lasso parameters."
      ]
    },
    {
      "cell_type": "code",
      "execution_count": null,
      "metadata": {
        "colab": {
          "base_uri": "https://localhost:8080/"
        },
        "collapsed": true,
        "id": "xLdmHaPBuQYq",
        "outputId": "9185f30e-eb60-4b65-8ef1-2aea40f71ba2"
      },
      "outputs": [
        {
          "output_type": "execute_result",
          "data": {
            "text/plain": [
              "[23.83523840277192,\n",
              " 23.253941336611042,\n",
              " 23.278209782274516,\n",
              " 23.260234309600914,\n",
              " 23.21791287621566]"
            ]
          },
          "metadata": {},
          "execution_count": 26
        }
      ],
      "source": [
        "lasso_train_rmse_errors"
      ]
    },
    {
      "cell_type": "code",
      "execution_count": null,
      "metadata": {
        "colab": {
          "base_uri": "https://localhost:8080/"
        },
        "id": "qT0GFpJqXUmm",
        "outputId": "8c755bec-b73a-475b-c2dc-42f2eb818dc0"
      },
      "outputs": [
        {
          "output_type": "execute_result",
          "data": {
            "text/plain": [
              "[23.28882199098844,\n",
              " 22.49181666486186,\n",
              " 22.50215452164487,\n",
              " 22.46156856374286,\n",
              " 22.4255055064995]"
            ]
          },
          "metadata": {},
          "execution_count": 27
        }
      ],
      "source": [
        "lasso_test_rmse_errors"
      ]
    },
    {
      "cell_type": "code",
      "execution_count": null,
      "metadata": {
        "colab": {
          "base_uri": "https://localhost:8080/",
          "height": 296
        },
        "id": "3r1cPKcRnl8W",
        "outputId": "ddda9cf2-3ed0-47e3-ac6a-4615f0096e7f"
      },
      "outputs": [
        {
          "output_type": "execute_result",
          "data": {
            "text/plain": [
              "<matplotlib.legend.Legend at 0x7fcfaa3d2090>"
            ]
          },
          "metadata": {},
          "execution_count": 28
        },
        {
          "output_type": "display_data",
          "data": {
            "text/plain": [
              "<Figure size 432x288 with 1 Axes>"
            ],
            "image/png": "[encoded data removed]"
          },
          "metadata": {
            "needs_background": "light"
          }
        }
      ],
      "source": [
        "plt.plot(range(1,6),lasso_train_rmse_errors[:5],label='TRAIN')\n",
        "plt.plot(range(1,6),lasso_test_rmse_errors[:5],label='TEST')\n",
        "plt.xlabel(\"Polynomial Complexity\")\n",
        "plt.ylabel(\"RMSE\")\n",
        "plt.legend()"
      ]
    },
    {
      "cell_type": "markdown",
      "metadata": {
        "id": "o8sRG3nyPbUM"
      },
      "source": [
        "Best Degree: 5\n",
        "\n",
        "*   Alpha: 3.420592520443925\n",
        "*   Coef of Degree 5: [ 0.          0.         -5.06784929 ...  0.          0 0.        ]\n",
        "\n"
      ]
    },
    {
      "cell_type": "markdown",
      "metadata": {
        "id": "M8SOg6KEuQYq"
      },
      "source": [
        "### 9a- Evaluate different degrees of Ridge CV polynomial regression"
      ]
    },
    {
      "cell_type": "code",
      "execution_count": null,
      "metadata": {
        "colab": {
          "base_uri": "https://localhost:8080/"
        },
        "collapsed": true,
        "id": "IqWaySbcuQYq",
        "outputId": "eddbcb8d-5cdb-4532-a202-057b93eb2068"
      },
      "outputs": [
        {
          "output_type": "stream",
          "name": "stdout",
          "text": [
            "Alpha of Degree 1: 1.0\n",
            "Coef of Degree 1: [ -1.38909335  33.38580552  -6.05848304 -24.84172401  15.33066703\n",
            "   7.58067646   2.13040136  -9.85098933   4.76374758  -4.37455087\n",
            "  -0.05421837   5.08665782   0.           0.        ]\n",
            "------------------------\n",
            "Alpha of Degree 2: 0.1\n",
            "Coef of Degree 2: [  20.29285473   24.83128132  -34.32999727  -73.14785239  -10.09884072\n",
            "  -23.22891061    1.93766189  -25.45695072    3.48417222    5.63905743\n",
            "   -7.05595774   -3.96934742    0.            0.          -66.2491785\n",
            "   45.40870757    0.91843353  -35.1964003    82.32646423    6.93182253\n",
            "   44.19644976  -41.24611724   25.93959995   -7.25693134   -5.96332138\n",
            "    4.8609492     0.            0.         -105.59410808  -18.52548974\n",
            "   84.51114724   48.74760005   65.51567318   23.5479525   -81.08833454\n",
            "   31.19456479   -3.51302924   24.29255347   13.39539344    0.\n",
            "    0.           16.67211761   73.25681104    8.2307736    -9.06275102\n",
            "  -15.59488345   -6.68696006  -40.93512309   21.29385745   13.67778203\n",
            "   -5.24532579    0.            0.          -30.88567869   16.17814314\n",
            "   46.70897172   13.99986214   77.65272065  -69.51677426   29.48633222\n",
            "  -20.52745153    1.6412698     0.            0.          -33.495041\n",
            "  -52.38688225  -77.44898807   45.43745968   -3.30702462    3.04209636\n",
            "    5.9082896   -15.51063898    0.            0.          -13.76352259\n",
            "   35.18784465   63.35930131  -22.8063642     2.05862234   -2.76865703\n",
            "   10.57085193    0.            0.           16.46701913  -22.80466376\n",
            "    2.01806538   -4.62109336    0.70867707   14.22813614    0.\n",
            "    0.          -15.75087892  -26.18102117   -4.93523118   13.71803683\n",
            "  -12.9892714     0.            0.            3.48417222    6.60334357\n",
            "   -5.99137784    1.77676005    0.            0.          -29.14035041\n",
            "   -9.16196529   -1.78315193    0.            0.           -1.365144\n",
            "   -0.55086357    0.            0.           -1.16569269    0.\n",
            "    0.            0.            0.            0.        ]\n",
            "------------------------\n",
            "Alpha of Degree 3: 0.1\n",
            "Coef of Degree 3: [ 1.11610738e+01  2.55564377e+01 -1.54939952e+01 -2.56727328e+01\n",
            "  2.84074830e+01 -5.98963550e+00  8.61509958e+00  1.19114508e+00\n",
            "  2.27173410e+00  4.47935429e+00 -2.31281533e+01 -1.44116997e+01\n",
            "  0.00000000e+00  0.00000000e+00 -1.75552422e+01  7.83861071e+00\n",
            " -1.31129269e+01 -4.52601778e+01  6.68980166e+00  1.56483556e+01\n",
            " -4.67632624e+00 -1.34058940e+01  1.11076666e+01 -3.21563023e+01\n",
            "  4.43331748e+01 -1.99016493e+01  0.00000000e+00  0.00000000e+00\n",
            " -2.91690501e+01 -2.33429139e+00 -3.19770867e+00  9.47188523e+00\n",
            "  2.10864331e+01  1.04113567e+01 -6.53467029e+00  2.54313712e+01\n",
            "  4.35726517e+01 -2.81920052e-01 -2.32018047e+01  0.00000000e+00\n",
            "  0.00000000e+00  3.53406007e+01  7.76616115e+00 -3.86220843e+00\n",
            " -7.12595287e+00 -1.07016834e+01 -1.82707759e+01 -1.53851737e+01\n",
            "  1.11795874e+01  2.33285204e+01  2.17731934e+01  0.00000000e+00\n",
            "  0.00000000e+00  4.76672862e+00 -3.72282538e+01  2.74179849e+01\n",
            "  1.12365294e+01  1.62948913e+01 -2.57377060e+01  1.02482861e+01\n",
            " -8.89369852e+00  3.71152029e+01  0.00000000e+00  0.00000000e+00\n",
            " -1.12080701e+01 -4.98613186e+01 -6.39486030e+00 -1.82570154e+01\n",
            "  2.85224972e+01 -3.95226741e+00  1.09397217e+00  1.39489021e+01\n",
            "  0.00000000e+00  0.00000000e+00 -4.34947731e+00 -4.04143086e+00\n",
            "  3.38030253e+01 -6.15744982e+00  9.52082221e+00 -7.32706644e+00\n",
            " -5.58170559e+00  0.00000000e+00  0.00000000e+00  6.31714554e-02\n",
            " -1.68380707e+01  9.24678109e+00  1.87479517e+00 -6.67229993e+00\n",
            " -1.49154581e+01  0.00000000e+00  0.00000000e+00  1.73035349e+01\n",
            "  1.38335332e+00 -5.60749271e+01 -2.25198230e-01  1.64588964e+01\n",
            "  0.00000000e+00  0.00000000e+00  2.27173410e+00  4.07012061e+00\n",
            " -2.22835607e+01 -1.37147558e+01  0.00000000e+00  0.00000000e+00\n",
            " -5.81850849e+01  4.98082790e+01  1.87850383e+01  0.00000000e+00\n",
            "  0.00000000e+00 -5.76285303e+00  1.06679724e+01  0.00000000e+00\n",
            "  0.00000000e+00  3.37024551e+01  0.00000000e+00  0.00000000e+00\n",
            "  0.00000000e+00  0.00000000e+00  0.00000000e+00 -1.59248208e+00\n",
            "  2.50320503e+01 -2.10716651e-02 -7.73934529e+00  1.71270691e+01\n",
            "  6.41583191e+00 -9.90446135e+00 -2.82174688e+01 -1.77563194e+01\n",
            " -3.04544375e+01  8.21453341e+00 -1.45311296e+01  0.00000000e+00\n",
            "  0.00000000e+00  1.54734623e+01  4.95519877e+01  1.28795324e+01\n",
            "  9.23475444e+00  3.58330028e-02  6.72528607e+00 -2.00549802e+01\n",
            "  7.62717077e+00 -2.85920917e-01  7.63503292e-03  1.05268326e+01\n",
            "  0.00000000e+00  0.00000000e+00  5.64128825e+00 -3.98314866e+00\n",
            "  2.75990904e+00  1.42340186e+01  1.29653078e+01  1.24326472e+01\n",
            " -1.25848334e+01 -4.97083641e+01 -1.95953491e+01  2.24531326e+01\n",
            "  0.00000000e+00  0.00000000e+00 -3.14698358e+00 -1.19342884e+01\n",
            " -1.96601635e+01  4.54791483e+01 -8.48716889e+00 -4.54657150e+01\n",
            "  6.09958957e+00 -7.03641434e+01  9.11174699e+00  0.00000000e+00\n",
            "  0.00000000e+00  1.63426271e+01  3.32703667e+00  2.21109153e+01\n",
            "  2.39917717e+01  6.57985260e+00 -3.51113861e+01 -1.24836437e+00\n",
            "  1.01661335e+01  0.00000000e+00  0.00000000e+00  5.39590254e+00\n",
            "  4.95969630e+01 -2.43935801e+01  1.53821921e+01  6.39709269e+01\n",
            " -1.38081491e+01 -4.36833364e+00  0.00000000e+00  0.00000000e+00\n",
            " -2.63037796e+01  4.22492726e+01 -4.33170596e+00  8.18120821e+01\n",
            "  3.87028610e+00 -1.11669141e+01  0.00000000e+00  0.00000000e+00\n",
            " -9.80153600e+00 -1.34745993e+01  2.66967753e+01 -4.22403690e+01\n",
            "  5.65214582e+00  0.00000000e+00  0.00000000e+00  1.10542319e+01\n",
            " -3.26142542e+01  4.51967782e+01 -1.90997519e+01  0.00000000e+00\n",
            "  0.00000000e+00  7.98526402e-01  4.17356752e+01 -1.73755937e+01\n",
            "  0.00000000e+00  0.00000000e+00  5.67108243e+00 -2.23238417e+01\n",
            "  0.00000000e+00  0.00000000e+00  2.49074178e+01  0.00000000e+00\n",
            "  0.00000000e+00  0.00000000e+00  0.00000000e+00  0.00000000e+00\n",
            " -1.79993638e+01 -4.10642440e+01  8.33361196e+00  1.66127748e+01\n",
            " -3.49903643e+01 -8.76517371e+00 -9.24024039e+00 -2.94516927e+01\n",
            "  3.68307330e+01  1.57181764e+01 -1.87410664e+01  0.00000000e+00\n",
            "  0.00000000e+00 -9.29251652e+00  5.73603653e+00  2.15030250e+01\n",
            " -1.97189310e+01  5.48479927e+00 -4.46737950e+01 -1.64636322e+00\n",
            "  3.77290310e+01 -1.75292297e+01 -2.84379367e+01  0.00000000e+00\n",
            "  0.00000000e+00  2.03935278e+01  3.62281461e+00  2.39231688e+01\n",
            " -3.24169155e+00  3.61789290e+01 -3.38132430e+00 -4.09385690e+01\n",
            " -1.26193434e+01  3.55292405e+01  0.00000000e+00  0.00000000e+00\n",
            "  9.33839201e+00 -4.93124253e+01 -3.60990263e+01 -1.42895730e+01\n",
            "  9.26014459e+00  3.51477901e+01  2.49562303e+00  6.81891828e+00\n",
            "  0.00000000e+00  0.00000000e+00  2.27859537e+01 -7.91325027e+01\n",
            "  4.37874216e+01  2.08024995e+01  5.64897454e+00 -3.47119319e+00\n",
            "  7.37944189e+01  0.00000000e+00  0.00000000e+00  1.36790793e+01\n",
            " -3.91763686e+01  1.08359197e+01  7.19657748e+00 -1.28237087e+01\n",
            "  5.13977235e+01  0.00000000e+00  0.00000000e+00  6.45265612e+01\n",
            " -6.62464815e+00 -4.85172877e+01  8.73153596e+01 -1.02278327e+01\n",
            "  0.00000000e+00  0.00000000e+00  2.53062261e+01  4.31866841e+01\n",
            "  4.75983498e-01 -2.24104791e+01  0.00000000e+00  0.00000000e+00\n",
            " -1.00865000e+02 -9.33767495e+01  1.79959703e+01  0.00000000e+00\n",
            "  0.00000000e+00  2.33611955e+01  1.11881516e+01  0.00000000e+00\n",
            "  0.00000000e+00 -3.01143239e+01  0.00000000e+00  0.00000000e+00\n",
            "  0.00000000e+00  0.00000000e+00  0.00000000e+00 -1.49329923e+01\n",
            "  1.23324653e+01  1.44507903e+00 -2.20053951e+00 -1.07888414e+01\n",
            " -1.50123050e+01  3.54095739e+01 -1.00043414e+01 -1.10709921e+01\n",
            " -5.55621364e+00  0.00000000e+00  0.00000000e+00  5.00686425e+01\n",
            " -1.20842965e+01 -5.42708871e-02  3.68435906e+00 -5.58623453e+01\n",
            "  8.20507766e+00 -4.98407624e+01  5.93934206e+01 -5.27233227e+01\n",
            "  0.00000000e+00  0.00000000e+00 -3.49629002e+01 -4.28392574e+00\n",
            " -1.63428686e+01  6.40096441e+01 -2.72745106e+00  2.29885082e+01\n",
            "  8.88232662e+00  1.63771366e+01  0.00000000e+00  0.00000000e+00\n",
            " -5.62491076e+00  2.26344388e+01  5.52183120e+01 -7.05436800e+00\n",
            " -7.89886685e+00 -1.58786696e+01 -2.88528190e+00  0.00000000e+00\n",
            "  0.00000000e+00  1.71423634e+01 -1.76433739e+01 -1.01039065e+01\n",
            "  2.63907506e+01 -3.84237394e+01 -1.67054165e+01  0.00000000e+00\n",
            "  0.00000000e+00  6.91653604e+00 -1.77412666e+01  2.08428078e+01\n",
            "  3.18377450e+01  1.96844435e+01  0.00000000e+00  0.00000000e+00\n",
            " -1.52762947e+01  1.10207829e+01  2.41087898e+01  2.22968533e+01\n",
            "  0.00000000e+00  0.00000000e+00  2.45580554e+01 -1.86097670e+01\n",
            "  3.75561671e+00  0.00000000e+00  0.00000000e+00 -4.00773806e+00\n",
            " -3.13832673e+00  0.00000000e+00  0.00000000e+00  1.59954087e+00\n",
            "  0.00000000e+00  0.00000000e+00  0.00000000e+00  0.00000000e+00\n",
            "  0.00000000e+00  2.17920265e+01 -2.98536133e+01  1.72367623e+01\n",
            " -1.54587692e+01  1.12553676e+01  4.65656076e+00 -5.64660323e+01\n",
            " -5.99471819e+00 -4.67843367e+01  0.00000000e+00  0.00000000e+00\n",
            "  3.38875712e+01  3.29547425e+01 -1.64849673e+01  1.33301205e+01\n",
            " -3.73666719e+01 -1.79375869e+00  4.26330997e+01  2.23330962e+01\n",
            "  0.00000000e+00  0.00000000e+00 -7.39387985e+01  3.08799771e+01\n",
            " -1.30144940e+01  2.72488560e+01  6.59955259e+01  3.17903981e+00\n",
            " -2.70352910e+00  0.00000000e+00  0.00000000e+00  1.95515978e+01\n",
            " -4.84714351e+01  1.16130215e+01 -1.44801008e+00  6.53169805e+00\n",
            "  2.36382000e+01  0.00000000e+00  0.00000000e+00 -2.21883272e+01\n",
            "  1.62896388e+01 -5.05402856e+00  5.12594984e+01 -6.04303587e+01\n",
            "  0.00000000e+00  0.00000000e+00 -2.58027387e+01  9.77695229e+00\n",
            " -8.28442340e+00  3.79891599e+01  0.00000000e+00  0.00000000e+00\n",
            "  1.53291835e+02  2.57654905e+01 -7.92852840e+00  0.00000000e+00\n",
            "  0.00000000e+00 -5.89991499e+01  1.19070676e+01  0.00000000e+00\n",
            "  0.00000000e+00  8.16014282e+00  0.00000000e+00  0.00000000e+00\n",
            "  0.00000000e+00  0.00000000e+00  0.00000000e+00 -3.95497112e+01\n",
            "  3.46382656e+01  1.82799438e+01  2.67362442e+01 -1.14836031e+01\n",
            "  1.62083145e+01 -4.77955611e+00 -1.39385621e+01  0.00000000e+00\n",
            "  0.00000000e+00  2.22982120e+01  2.21463274e+01  1.17829310e+01\n",
            " -5.01579812e+01 -1.03233276e+01 -4.17492823e+00 -3.88148255e+01\n",
            "  0.00000000e+00  0.00000000e+00 -3.04072373e+01  1.22542033e+01\n",
            " -5.96322938e+00 -1.19279202e-01 -3.20650702e+01 -2.16211727e+01\n",
            "  0.00000000e+00  0.00000000e+00 -4.68954469e+01 -1.83384764e+01\n",
            " -8.96515580e+00 -2.79474433e+01  1.86706002e+01  0.00000000e+00\n",
            "  0.00000000e+00  2.86375170e+01 -4.33392836e+00  1.68328315e+00\n",
            "  1.49093031e+01  0.00000000e+00  0.00000000e+00 -1.72345240e+01\n",
            "  1.51617919e+01 -2.32394661e+00  0.00000000e+00  0.00000000e+00\n",
            "  3.62482130e+00 -5.39147619e+00  0.00000000e+00  0.00000000e+00\n",
            " -1.27644403e+01  0.00000000e+00  0.00000000e+00  0.00000000e+00\n",
            "  0.00000000e+00  0.00000000e+00 -2.03976627e-01 -3.91510470e+01\n",
            " -9.12392500e+00 -4.28044975e+00  1.40345856e+01  4.73673241e+01\n",
            " -3.31690532e+01  0.00000000e+00  0.00000000e+00  5.37980570e+00\n",
            "  1.93325416e+01 -4.24453309e+00  4.05440804e+01  1.00754622e+00\n",
            " -8.88123136e+00  0.00000000e+00  0.00000000e+00 -1.75813623e+01\n",
            "  3.39442665e+01 -3.28684340e+01 -9.01460716e+01  1.71250101e+01\n",
            "  0.00000000e+00  0.00000000e+00 -6.32537397e+00  9.22279218e+00\n",
            " -7.29217943e+00 -5.50820148e+00  0.00000000e+00  0.00000000e+00\n",
            " -2.07363876e+01 -8.25881004e+01 -2.53498431e+01  0.00000000e+00\n",
            "  0.00000000e+00  1.93492362e+01 -3.82981444e+00  0.00000000e+00\n",
            "  0.00000000e+00  3.12828726e+01  0.00000000e+00  0.00000000e+00\n",
            "  0.00000000e+00  0.00000000e+00  0.00000000e+00  1.05164444e+01\n",
            " -3.15489018e+01  6.26380541e-01  6.06938671e+00  5.13527693e+01\n",
            "  1.49038505e+01  0.00000000e+00  0.00000000e+00  3.76104044e+01\n",
            " -1.67950654e+01  2.74747538e+01 -2.88331720e+01 -3.53911746e+01\n",
            "  0.00000000e+00  0.00000000e+00  9.87850353e+00  1.70705797e+00\n",
            " -5.43656323e+00 -1.35852448e+01  0.00000000e+00  0.00000000e+00\n",
            " -5.05155748e+01 -1.04298458e+02  7.45268949e-01  0.00000000e+00\n",
            "  0.00000000e+00  5.34440733e+00  6.24950232e+00  0.00000000e+00\n",
            "  0.00000000e+00  1.84068549e+01  0.00000000e+00  0.00000000e+00\n",
            "  0.00000000e+00  0.00000000e+00  0.00000000e+00  2.53786274e+01\n",
            "  1.73821353e+01 -6.23409651e+01 -2.70087695e+01  1.75295661e+01\n",
            "  0.00000000e+00  0.00000000e+00  1.57570923e+00 -5.63621219e+01\n",
            " -5.84313999e-02  1.70003562e+01  0.00000000e+00  0.00000000e+00\n",
            "  2.24784531e+01  9.78982032e+01  2.55147943e+01  0.00000000e+00\n",
            "  0.00000000e+00  4.83932412e+01 -2.14477310e+00  0.00000000e+00\n",
            "  0.00000000e+00 -2.24045504e+01  0.00000000e+00  0.00000000e+00\n",
            "  0.00000000e+00  0.00000000e+00  0.00000000e+00  2.27173410e+00\n",
            "  3.66061080e+00 -2.14387538e+01 -1.30176548e+01  0.00000000e+00\n",
            "  0.00000000e+00 -5.85656278e+01  4.99969610e+01  1.86959643e+01\n",
            "  0.00000000e+00  0.00000000e+00 -5.01382240e+00  1.20785252e+01\n",
            "  0.00000000e+00  0.00000000e+00  3.45933507e+01  0.00000000e+00\n",
            "  0.00000000e+00  0.00000000e+00  0.00000000e+00  0.00000000e+00\n",
            "  3.55946782e+01  4.04118272e+01 -2.77004537e+01  0.00000000e+00\n",
            "  0.00000000e+00 -3.50666183e+01 -8.97658990e+00  0.00000000e+00\n",
            "  0.00000000e+00 -1.39196211e+00  0.00000000e+00  0.00000000e+00\n",
            "  0.00000000e+00  0.00000000e+00  0.00000000e+00  3.11394482e+00\n",
            " -7.16287559e+00  0.00000000e+00  0.00000000e+00 -2.79321427e+00\n",
            "  0.00000000e+00  0.00000000e+00  0.00000000e+00  0.00000000e+00\n",
            "  0.00000000e+00 -5.80588480e+01  0.00000000e+00  0.00000000e+00\n",
            "  0.00000000e+00  0.00000000e+00  0.00000000e+00  0.00000000e+00\n",
            "  0.00000000e+00  0.00000000e+00  0.00000000e+00]\n",
            "------------------------\n",
            "Alpha of Degree 4: 0.1\n",
            "Coef of Degree 4: [  9.53768809  18.59525739 -16.15916784 ...   0.           0.\n",
            "   0.        ]\n",
            "------------------------\n",
            "Alpha of Degree 5: 0.1\n",
            "Coef of Degree 5: [ 5.97221723 14.78632199 -3.49608367 ...  0.          0.\n",
            "  0.        ]\n",
            "------------------------\n"
          ]
        }
      ],
      "source": [
        "# TRAINING ERROR PER DEGREE\n",
        "ridge_train_rmse_errors = []\n",
        "# TEST ERROR PER DEGREE\n",
        "ridge_test_rmse_errors = []\n",
        "\n",
        "for d in range(1,6):\n",
        "    \n",
        "    # CREATE POLY DATA SET FOR DEGREE \"d\"\n",
        "    polynomial_converter = PolynomialFeatures(degree=d,include_bias=False)\n",
        "    poly_features = polynomial_converter.fit_transform(X)\n",
        "    \n",
        "    # SPLIT THIS NEW POLY DATA SET\n",
        "    X_train, X_test, y_train, y_test = train_test_split(poly_features, y, test_size=0.3, random_state=101)\n",
        "    \n",
        "    scaler.fit(X_train)\n",
        "    X_train = scaler.transform(X_train)\n",
        "    X_test = scaler.transform(X_test)\n",
        "    \n",
        "    # TRAIN ON THIS NEW POLY SET\n",
        "    ridge_cv_model = RidgeCV(alphas=(0.1, 1.0, 10.0),scoring='neg_mean_absolute_error')\n",
        "    ridge_cv_model.fit(X_train,y_train)\n",
        "    \n",
        "    # PREDICT ON BOTH TRAIN AND TEST\n",
        "    train_pred = ridge_cv_model.predict(X_train)\n",
        "    test_pred = ridge_cv_model.predict(X_test)\n",
        "    \n",
        "    # Calculate Errors\n",
        "    \n",
        "    # Errors on Train Set\n",
        "    ridge_train_RMSE = np.sqrt(mean_squared_error(y_train,train_pred))\n",
        "    \n",
        "    # Errors on Test Set\n",
        "    ridge_test_RMSE = np.sqrt(mean_squared_error(y_test,test_pred))\n",
        "\n",
        "    # Append errors to lists for plotting later\n",
        "    \n",
        "   \n",
        "    ridge_train_rmse_errors.append(ridge_train_RMSE)\n",
        "    ridge_test_rmse_errors.append(ridge_test_RMSE)\n",
        "    print('Alpha of Degree ' + str(d) + ': ' + str(ridge_cv_model.alpha_))\n",
        "    print('Coef of Degree ' + str(d) + ': ' + str(ridge_cv_model.coef_))\n",
        "    print('------------------------')"
      ]
    },
    {
      "cell_type": "markdown",
      "metadata": {
        "id": "8Bj_3j9RuQYr"
      },
      "source": [
        "### 9b- Choose the best degree and print the errors, model coefficients and the Ridge parameters."
      ]
    },
    {
      "cell_type": "code",
      "execution_count": null,
      "metadata": {
        "colab": {
          "base_uri": "https://localhost:8080/"
        },
        "collapsed": true,
        "id": "4q5E5NnbuQYr",
        "outputId": "c26de5d0-07f4-4e17-97e8-f74e4a1a9cc1"
      },
      "outputs": [
        {
          "output_type": "execute_result",
          "data": {
            "text/plain": [
              "[22.104446314771774,\n",
              " 18.31075933853167,\n",
              " 15.659403038696725,\n",
              " 13.503887450140512,\n",
              " 11.7312327402507]"
            ]
          },
          "metadata": {},
          "execution_count": 30
        }
      ],
      "source": [
        "ridge_train_rmse_errors"
      ]
    },
    {
      "cell_type": "code",
      "execution_count": null,
      "metadata": {
        "colab": {
          "base_uri": "https://localhost:8080/"
        },
        "id": "4wj8JJegZtsN",
        "outputId": "69bd3150-9987-4556-e89b-85c963ea4060"
      },
      "outputs": [
        {
          "output_type": "execute_result",
          "data": {
            "text/plain": [
              "[22.22581865332586,\n",
              " 18.708606605475477,\n",
              " 17.090517684064846,\n",
              " 17.96461093175888,\n",
              " 21.679988470483156]"
            ]
          },
          "metadata": {},
          "execution_count": 31
        }
      ],
      "source": [
        "ridge_test_rmse_errors"
      ]
    },
    {
      "cell_type": "code",
      "execution_count": null,
      "metadata": {
        "colab": {
          "base_uri": "https://localhost:8080/",
          "height": 296
        },
        "id": "mNsvUi1_ntL0",
        "outputId": "728ebd43-1e0e-48ca-a8d2-224a515d8d06"
      },
      "outputs": [
        {
          "output_type": "execute_result",
          "data": {
            "text/plain": [
              "<matplotlib.legend.Legend at 0x7fcfaa2ec090>"
            ]
          },
          "metadata": {},
          "execution_count": 32
        },
        {
          "output_type": "display_data",
          "data": {
            "text/plain": [
              "<Figure size 432x288 with 1 Axes>"
            ],
            "image/png": "[encoded data removed]"
          },
          "metadata": {
            "needs_background": "light"
          }
        }
      ],
      "source": [
        "plt.plot(range(1,6),ridge_train_rmse_errors[:5],label='TRAIN')\n",
        "plt.plot(range(1,6),ridge_test_rmse_errors[:5],label='TEST')\n",
        "plt.xlabel(\"Polynomial Complexity\")\n",
        "plt.ylabel(\"RMSE\")\n",
        "plt.legend()"
      ]
    },
    {
      "cell_type": "markdown",
      "metadata": {
        "id": "m4mr5GsDZvpS"
      },
      "source": [
        "The best degree is 3 \n",
        "\n",
        "*   Alpha: 0.1\n",
        "\n",
        "*   Coef: [ 1.11610738e+01  2.55564377e+01 -1.54939952e+01 -2.56727328e+01\n",
        "  2.84074830e+01 -5.98963550e+00  8.61509958e+00  1.19114508e+00\n",
        "  2.27173410e+00  4.47935429e+00 -2.31281533e+01 -1.44116997e+01\n",
        "  0.00000000e+00  0.00000000e+00 -1.75552422e+01  7.83861071e+00\n",
        " -1.31129269e+01 -4.52601778e+01  6.68980166e+00  1.56483556e+01\n",
        " -4.67632624e+00 -1.34058940e+01  1.11076666e+01 -3.21563023e+01\n",
        "  4.43331748e+01 -1.99016493e+01  0.00000000e+00  0.00000000e+00\n",
        " -2.91690501e+01 -2.33429139e+00 -3.19770867e+00  9.47188523e+00\n",
        "  2.10864331e+01  1.04113567e+01 -6.53467029e+00  2.54313712e+01\n",
        "  4.35726517e+01 -2.81920052e-01 -2.32018047e+01  0.00000000e+00\n",
        "  0.00000000e+00  3.53406007e+01  7.76616115e+00 -3.86220843e+00\n",
        " -7.12595287e+00 -1.07016834e+01 -1.82707759e+01 -1.53851737e+01\n",
        "  1.11795874e+01  2.33285204e+01  2.17731934e+01  0.00000000e+00\n",
        "  0.00000000e+00  4.76672862e+00 -3.72282538e+01  2.74179849e+01\n",
        "  1.12365294e+01  1.62948913e+01 -2.57377060e+01  1.02482861e+01\n",
        " -8.89369852e+00  3.71152029e+01  0.00000000e+00  0.00000000e+00\n",
        " -1.12080701e+01 -4.98613186e+01 -6.39486030e+00 -1.82570154e+01\n",
        "  2.85224972e+01 -3.95226741e+00  1.09397217e+00  1.39489021e+01\n",
        "  0.00000000e+00  0.00000000e+00 -4.34947731e+00 -4.04143086e+00\n",
        "  3.38030253e+01 -6.15744982e+00  9.52082221e+00 -7.32706644e+00\n",
        " -5.58170559e+00  0.00000000e+00  0.00000000e+00  6.31714554e-02\n",
        " -1.68380707e+01  9.24678109e+00  1.87479517e+00 -6.67229993e+00\n",
        " -1.49154581e+01  0.00000000e+00  0.00000000e+00  1.73035349e+01\n",
        "  1.38335332e+00 -5.60749271e+01 -2.25198230e-01  1.64588964e+01\n",
        "  0.00000000e+00  0.00000000e+00  2.27173410e+00  4.07012061e+00\n",
        " -2.22835607e+01 -1.37147558e+01  0.00000000e+00  0.00000000e+00\n",
        " -5.81850849e+01  4.98082790e+01  1.87850383e+01  0.00000000e+00\n",
        "  0.00000000e+00 -5.76285303e+00  1.06679724e+01  0.00000000e+00\n",
        "  0.00000000e+00  3.37024551e+01  0.00000000e+00  0.00000000e+00\n",
        "  0.00000000e+00  0.00000000e+00  0.00000000e+00 -1.59248208e+00\n",
        "  2.50320503e+01 -2.10716651e-02 -7.73934529e+00  1.71270691e+01\n",
        "  6.41583191e+00 -9.90446135e+00 -2.82174688e+01 -1.77563194e+01\n",
        " -3.04544375e+01  8.21453341e+00 -1.45311296e+01  0.00000000e+00\n",
        "  0.00000000e+00  1.54734623e+01  4.95519877e+01  1.28795324e+01\n",
        "  9.23475444e+00  3.58330028e-02  6.72528607e+00 -2.00549802e+01\n",
        "  7.62717077e+00 -2.85920917e-01  7.63503292e-03  1.05268326e+01\n",
        "  0.00000000e+00  0.00000000e+00  5.64128825e+00 -3.98314866e+00\n",
        "  2.75990904e+00  1.42340186e+01  1.29653078e+01  1.24326472e+01\n",
        " -1.25848334e+01 -4.97083641e+01 -1.95953491e+01  2.24531326e+01\n",
        "  0.00000000e+00  0.00000000e+00 -3.14698358e+00 -1.19342884e+01\n",
        " -1.96601635e+01  4.54791483e+01 -8.48716889e+00 -4.54657150e+01\n",
        "  6.09958957e+00 -7.03641434e+01  9.11174699e+00  0.00000000e+00\n",
        "  0.00000000e+00  1.63426271e+01  3.32703667e+00  2.21109153e+01\n",
        "  2.39917717e+01  6.57985260e+00 -3.51113861e+01 -1.24836437e+00\n",
        "  1.01661335e+01  0.00000000e+00  0.00000000e+00  5.39590254e+00\n",
        "  4.95969630e+01 -2.43935801e+01  1.53821921e+01  6.39709269e+01\n",
        " -1.38081491e+01 -4.36833364e+00  0.00000000e+00  0.00000000e+00\n",
        " -2.63037796e+01  4.22492726e+01 -4.33170596e+00  8.18120821e+01\n",
        "  3.87028610e+00 -1.11669141e+01  0.00000000e+00  0.00000000e+00\n",
        " -9.80153600e+00 -1.34745993e+01  2.66967753e+01 -4.22403690e+01\n",
        "  5.65214582e+00  0.00000000e+00  0.00000000e+00  1.10542319e+01\n",
        " -3.26142542e+01  4.51967782e+01 -1.90997519e+01  0.00000000e+00\n",
        "  0.00000000e+00  7.98526402e-01  4.17356752e+01 -1.73755937e+01\n",
        "  0.00000000e+00  0.00000000e+00  5.67108243e+00 -2.23238417e+01\n",
        "  0.00000000e+00  0.00000000e+00  2.49074178e+01  0.00000000e+00\n",
        "  0.00000000e+00  0.00000000e+00  0.00000000e+00  0.00000000e+00\n",
        " -1.79993638e+01 -4.10642440e+01  8.33361196e+00  1.66127748e+01\n",
        " -3.49903643e+01 -8.76517371e+00 -9.24024039e+00 -2.94516927e+01\n",
        "  3.68307330e+01  1.57181764e+01 -1.87410664e+01  0.00000000e+00\n",
        "  0.00000000e+00 -9.29251652e+00  5.73603653e+00  2.15030250e+01\n",
        " -1.97189310e+01  5.48479927e+00 -4.46737950e+01 -1.64636322e+00\n",
        "  3.77290310e+01 -1.75292297e+01 -2.84379367e+01  0.00000000e+00\n",
        "  0.00000000e+00  2.03935278e+01  3.62281461e+00  2.39231688e+01\n",
        " -3.24169155e+00  3.61789290e+01 -3.38132430e+00 -4.09385690e+01\n",
        " -1.26193434e+01  3.55292405e+01  0.00000000e+00  0.00000000e+00\n",
        "  9.33839201e+00 -4.93124253e+01 -3.60990263e+01 -1.42895730e+01\n",
        "  9.26014459e+00  3.51477901e+01  2.49562303e+00  6.81891828e+00\n",
        "  0.00000000e+00  0.00000000e+00  2.27859537e+01 -7.91325027e+01\n",
        "  4.37874216e+01  2.08024995e+01  5.64897454e+00 -3.47119319e+00\n",
        "  7.37944189e+01  0.00000000e+00  0.00000000e+00  1.36790793e+01\n",
        " -3.91763686e+01  1.08359197e+01  7.19657748e+00 -1.28237087e+01\n",
        "  5.13977235e+01  0.00000000e+00  0.00000000e+00  6.45265612e+01\n",
        " -6.62464815e+00 -4.85172877e+01  8.73153596e+01 -1.02278327e+01\n",
        "  0.00000000e+00  0.00000000e+00  2.53062261e+01  4.31866841e+01\n",
        "  4.75983498e-01 -2.24104791e+01  0.00000000e+00  0.00000000e+00\n",
        " -1.00865000e+02 -9.33767495e+01  1.79959703e+01  0.00000000e+00\n",
        "  0.00000000e+00  2.33611955e+01  1.11881516e+01  0.00000000e+00\n",
        "  0.00000000e+00 -3.01143239e+01  0.00000000e+00  0.00000000e+00\n",
        "  0.00000000e+00  0.00000000e+00  0.00000000e+00 -1.49329923e+01\n",
        "  1.23324653e+01  1.44507903e+00 -2.20053951e+00 -1.07888414e+01\n",
        " -1.50123050e+01  3.54095739e+01 -1.00043414e+01 -1.10709921e+01\n",
        " -5.55621364e+00  0.00000000e+00  0.00000000e+00  5.00686425e+01\n",
        " -1.20842965e+01 -5.42708871e-02  3.68435906e+00 -5.58623453e+01\n",
        "  8.20507766e+00 -4.98407624e+01  5.93934206e+01 -5.27233227e+01\n",
        "  0.00000000e+00  0.00000000e+00 -3.49629002e+01 -4.28392574e+00\n",
        " -1.63428686e+01  6.40096441e+01 -2.72745106e+00  2.29885082e+01\n",
        "  8.88232662e+00  1.63771366e+01  0.00000000e+00  0.00000000e+00\n",
        " -5.62491076e+00  2.26344388e+01  5.52183120e+01 -7.05436800e+00\n",
        " -7.89886685e+00 -1.58786696e+01 -2.88528190e+00  0.00000000e+00\n",
        "  0.00000000e+00  1.71423634e+01 -1.76433739e+01 -1.01039065e+01\n",
        "  2.63907506e+01 -3.84237394e+01 -1.67054165e+01  0.00000000e+00\n",
        "  0.00000000e+00  6.91653604e+00 -1.77412666e+01  2.08428078e+01\n",
        "  3.18377450e+01  1.96844435e+01  0.00000000e+00  0.00000000e+00\n",
        " -1.52762947e+01  1.10207829e+01  2.41087898e+01  2.22968533e+01\n",
        "  0.00000000e+00  0.00000000e+00  2.45580554e+01 -1.86097670e+01\n",
        "  3.75561671e+00  0.00000000e+00  0.00000000e+00 -4.00773806e+00\n",
        " -3.13832673e+00  0.00000000e+00  0.00000000e+00  1.59954087e+00\n",
        "  0.00000000e+00  0.00000000e+00  0.00000000e+00  0.00000000e+00\n",
        "  0.00000000e+00  2.17920265e+01 -2.98536133e+01  1.72367623e+01\n",
        " -1.54587692e+01  1.12553676e+01  4.65656076e+00 -5.64660323e+01\n",
        " -5.99471819e+00 -4.67843367e+01  0.00000000e+00  0.00000000e+00\n",
        "  3.38875712e+01  3.29547425e+01 -1.64849673e+01  1.33301205e+01\n",
        " -3.73666719e+01 -1.79375869e+00  4.26330997e+01  2.23330962e+01\n",
        "  0.00000000e+00  0.00000000e+00 -7.39387985e+01  3.08799771e+01\n",
        " -1.30144940e+01  2.72488560e+01  6.59955259e+01  3.17903981e+00\n",
        " -2.70352910e+00  0.00000000e+00  0.00000000e+00  1.95515978e+01\n",
        " -4.84714351e+01  1.16130215e+01 -1.44801008e+00  6.53169805e+00\n",
        "  2.36382000e+01  0.00000000e+00  0.00000000e+00 -2.21883272e+01\n",
        "  1.62896388e+01 -5.05402856e+00  5.12594984e+01 -6.04303587e+01\n",
        "  0.00000000e+00  0.00000000e+00 -2.58027387e+01  9.77695229e+00\n",
        " -8.28442340e+00  3.79891599e+01  0.00000000e+00  0.00000000e+00\n",
        "  1.53291835e+02  2.57654905e+01 -7.92852840e+00  0.00000000e+00\n",
        "  0.00000000e+00 -5.89991499e+01  1.19070676e+01  0.00000000e+00\n",
        "  0.00000000e+00  8.16014282e+00  0.00000000e+00  0.00000000e+00\n",
        "  0.00000000e+00  0.00000000e+00  0.00000000e+00 -3.95497112e+01\n",
        "  3.46382656e+01  1.82799438e+01  2.67362442e+01 -1.14836031e+01\n",
        "  1.62083145e+01 -4.77955611e+00 -1.39385621e+01  0.00000000e+00\n",
        "  0.00000000e+00  2.22982120e+01  2.21463274e+01  1.17829310e+01\n",
        " -5.01579812e+01 -1.03233276e+01 -4.17492823e+00 -3.88148255e+01\n",
        "  0.00000000e+00  0.00000000e+00 -3.04072373e+01  1.22542033e+01\n",
        " -5.96322938e+00 -1.19279202e-01 -3.20650702e+01 -2.16211727e+01\n",
        "  0.00000000e+00  0.00000000e+00 -4.68954469e+01 -1.83384764e+01\n",
        " -8.96515580e+00 -2.79474433e+01  1.86706002e+01  0.00000000e+00\n",
        "  0.00000000e+00  2.86375170e+01 -4.33392836e+00  1.68328315e+00\n",
        "  1.49093031e+01  0.00000000e+00  0.00000000e+00 -1.72345240e+01\n",
        "  1.51617919e+01 -2.32394661e+00  0.00000000e+00  0.00000000e+00\n",
        "  3.62482130e+00 -5.39147619e+00  0.00000000e+00  0.00000000e+00\n",
        " -1.27644403e+01  0.00000000e+00  0.00000000e+00  0.00000000e+00\n",
        "  0.00000000e+00  0.00000000e+00 -2.03976627e-01 -3.91510470e+01\n",
        " -9.12392500e+00 -4.28044975e+00  1.40345856e+01  4.73673241e+01\n",
        " -3.31690532e+01  0.00000000e+00  0.00000000e+00  5.37980570e+00\n",
        "  1.93325416e+01 -4.24453309e+00  4.05440804e+01  1.00754622e+00\n",
        " -8.88123136e+00  0.00000000e+00  0.00000000e+00 -1.75813623e+01\n",
        "  3.39442665e+01 -3.28684340e+01 -9.01460716e+01  1.71250101e+01\n",
        "  0.00000000e+00  0.00000000e+00 -6.32537397e+00  9.22279218e+00\n",
        " -7.29217943e+00 -5.50820148e+00  0.00000000e+00  0.00000000e+00\n",
        " -2.07363876e+01 -8.25881004e+01 -2.53498431e+01  0.00000000e+00\n",
        "  0.00000000e+00  1.93492362e+01 -3.82981444e+00  0.00000000e+00\n",
        "  0.00000000e+00  3.12828726e+01  0.00000000e+00  0.00000000e+00\n",
        "  0.00000000e+00  0.00000000e+00  0.00000000e+00  1.05164444e+01\n",
        " -3.15489018e+01  6.26380541e-01  6.06938671e+00  5.13527693e+01\n",
        "  1.49038505e+01  0.00000000e+00  0.00000000e+00  3.76104044e+01\n",
        " -1.67950654e+01  2.74747538e+01 -2.88331720e+01 -3.53911746e+01\n",
        "  0.00000000e+00  0.00000000e+00  9.87850353e+00  1.70705797e+00\n",
        " -5.43656323e+00 -1.35852448e+01  0.00000000e+00  0.00000000e+00\n",
        " -5.05155748e+01 -1.04298458e+02  7.45268949e-01  0.00000000e+00\n",
        "  0.00000000e+00  5.34440733e+00  6.24950232e+00  0.00000000e+00\n",
        "  0.00000000e+00  1.84068549e+01  0.00000000e+00  0.00000000e+00\n",
        "  0.00000000e+00  0.00000000e+00  0.00000000e+00  2.53786274e+01\n",
        "  1.73821353e+01 -6.23409651e+01 -2.70087695e+01  1.75295661e+01\n",
        "  0.00000000e+00  0.00000000e+00  1.57570923e+00 -5.63621219e+01\n",
        " -5.84313999e-02  1.70003562e+01  0.00000000e+00  0.00000000e+00\n",
        "  2.24784531e+01  9.78982032e+01  2.55147943e+01  0.00000000e+00\n",
        "  0.00000000e+00  4.83932412e+01 -2.14477310e+00  0.00000000e+00\n",
        "  0.00000000e+00 -2.24045504e+01  0.00000000e+00  0.00000000e+00\n",
        "  0.00000000e+00  0.00000000e+00  0.00000000e+00  2.27173410e+00\n",
        "  3.66061080e+00 -2.14387538e+01 -1.30176548e+01  0.00000000e+00\n",
        "  0.00000000e+00 -5.85656278e+01  4.99969610e+01  1.86959643e+01\n",
        "  0.00000000e+00  0.00000000e+00 -5.01382240e+00  1.20785252e+01\n",
        "  0.00000000e+00  0.00000000e+00  3.45933507e+01  0.00000000e+00\n",
        "  0.00000000e+00  0.00000000e+00  0.00000000e+00  0.00000000e+00\n",
        "  3.55946782e+01  4.04118272e+01 -2.77004537e+01  0.00000000e+00\n",
        "  0.00000000e+00 -3.50666183e+01 -8.97658990e+00  0.00000000e+00\n",
        "  0.00000000e+00 -1.39196211e+00  0.00000000e+00  0.00000000e+00\n",
        "  0.00000000e+00  0.00000000e+00  0.00000000e+00  3.11394482e+00\n",
        " -7.16287559e+00  0.00000000e+00  0.00000000e+00 -2.79321427e+00\n",
        "  0.00000000e+00  0.00000000e+00  0.00000000e+00  0.00000000e+00\n",
        "  0.00000000e+00 -5.80588480e+01  0.00000000e+00  0.00000000e+00\n",
        "  0.00000000e+00  0.00000000e+00  0.00000000e+00  0.00000000e+00\n",
        "  0.00000000e+00  0.00000000e+00  0.00000000e+00]"
      ]
    },
    {
      "cell_type": "markdown",
      "metadata": {
        "id": "MN4RwweLuQYr"
      },
      "source": [
        "### 10a- Evaluate different degrees of ElasticNet CV polynomial regression"
      ]
    },
    {
      "cell_type": "code",
      "execution_count": null,
      "metadata": {
        "id": "CSQOOhT3g08h"
      },
      "outputs": [],
      "source": [
        "from sklearn.linear_model import ElasticNetCV"
      ]
    },
    {
      "cell_type": "code",
      "execution_count": null,
      "metadata": {
        "colab": {
          "base_uri": "https://localhost:8080/"
        },
        "collapsed": true,
        "id": "qK9SePrtuQYr",
        "outputId": "fb2fb5a9-c31b-4686-bb6a-ae4b05c21bd9"
      },
      "outputs": [
        {
          "output_type": "stream",
          "name": "stdout",
          "text": [
            "Coeff of Degree 1: [ -0.6809464   31.55043156  -6.19063386 -23.03416065  15.14995108\n",
            "   6.36232817   1.06231531  -9.75305295   5.47128191  -3.52590945\n",
            "  -0.           5.10253624   0.           0.        ]\n",
            "Ratio of Degree 1: 1.0\n",
            "------------------------\n",
            "Coeff of Degree 2: [ 2.38970201e+01  1.99463967e+01 -2.27444909e+01 -6.03669040e+00\n",
            "  1.99162102e-01 -4.28156456e-01 -0.00000000e+00 -7.73522676e-01\n",
            "  8.54506899e-01  0.00000000e+00 -0.00000000e+00  0.00000000e+00\n",
            "  0.00000000e+00  0.00000000e+00  0.00000000e+00  0.00000000e+00\n",
            " -0.00000000e+00 -2.44938785e+01  1.03575162e+01 -1.50151891e+01\n",
            "  3.05232897e+00 -1.84601206e+00  0.00000000e+00  1.14385315e+00\n",
            " -0.00000000e+00  0.00000000e+00  0.00000000e+00  0.00000000e+00\n",
            " -0.00000000e+00 -5.62846159e-01 -6.77011799e-01  3.62923464e-01\n",
            "  2.38530514e+01  0.00000000e+00  0.00000000e+00  7.11970132e-01\n",
            "  1.84600210e+00  0.00000000e+00  3.73519007e+00  0.00000000e+00\n",
            "  0.00000000e+00  1.03441633e+01  2.51609317e+01 -0.00000000e+00\n",
            " -0.00000000e+00 -6.17984179e+00  1.24215444e+01 -3.06171503e+01\n",
            "  1.69732787e+01  1.73746556e+00 -2.24447787e+00  0.00000000e+00\n",
            "  0.00000000e+00 -0.00000000e+00  0.00000000e+00  7.41981421e+00\n",
            "  3.92662668e+00  1.42936090e+01 -3.48490717e+01  1.36625159e+01\n",
            " -1.47315509e+00  0.00000000e+00  0.00000000e+00  0.00000000e+00\n",
            "  0.00000000e+00  6.01870257e-01 -2.12921850e+01 -0.00000000e+00\n",
            "  8.53983887e+00 -0.00000000e+00  5.03122002e+00 -7.54174956e-01\n",
            "  0.00000000e+00  0.00000000e+00  0.00000000e+00 -1.67853332e+01\n",
            "  0.00000000e+00 -1.88750633e+01  6.54404658e-01 -3.02784277e+00\n",
            " -0.00000000e+00  0.00000000e+00  0.00000000e+00  5.66506578e+00\n",
            " -5.75079752e+00 -0.00000000e+00 -0.00000000e+00  0.00000000e+00\n",
            "  7.42520540e+00  0.00000000e+00  0.00000000e+00 -1.10410637e+00\n",
            " -9.20766217e-04 -6.96173589e+00  3.87815295e+00 -4.31500418e+00\n",
            "  0.00000000e+00  0.00000000e+00  6.75609113e+00  0.00000000e+00\n",
            " -0.00000000e+00  1.17980114e+00  0.00000000e+00  0.00000000e+00\n",
            " -1.76025565e+01 -3.96468929e+00 -1.17269559e+00  0.00000000e+00\n",
            "  0.00000000e+00 -1.17671939e+00 -0.00000000e+00  0.00000000e+00\n",
            "  0.00000000e+00  2.63023514e-01  0.00000000e+00  0.00000000e+00\n",
            "  0.00000000e+00  0.00000000e+00  0.00000000e+00]\n",
            "Ratio of Degree 2: 1.0\n",
            "------------------------\n",
            "Coeff of Degree 3: [ 2.39899448e+01  2.39060344e+01 -1.70118700e+01 -9.82094395e+00\n",
            "  0.00000000e+00 -0.00000000e+00  0.00000000e+00 -0.00000000e+00\n",
            "  6.71899523e+00  0.00000000e+00 -0.00000000e+00  0.00000000e+00\n",
            "  0.00000000e+00  0.00000000e+00  0.00000000e+00  0.00000000e+00\n",
            " -0.00000000e+00 -1.15394579e+00  0.00000000e+00 -5.07987756e+00\n",
            "  0.00000000e+00 -0.00000000e+00  0.00000000e+00  0.00000000e+00\n",
            " -0.00000000e+00  0.00000000e+00  0.00000000e+00  0.00000000e+00\n",
            " -0.00000000e+00  0.00000000e+00 -0.00000000e+00  0.00000000e+00\n",
            " -0.00000000e+00  0.00000000e+00 -0.00000000e+00  0.00000000e+00\n",
            "  0.00000000e+00  0.00000000e+00  0.00000000e+00  0.00000000e+00\n",
            "  0.00000000e+00 -0.00000000e+00 -0.00000000e+00  3.53308930e+00\n",
            " -5.99723846e-01 -8.68412183e+00 -0.00000000e+00 -2.95591270e+00\n",
            "  4.86048672e+00 -0.00000000e+00 -0.00000000e+00  0.00000000e+00\n",
            "  0.00000000e+00 -1.12061863e-01 -0.00000000e+00 -0.00000000e+00\n",
            "  0.00000000e+00  0.00000000e+00 -0.00000000e+00  4.47314737e+00\n",
            " -0.00000000e+00  0.00000000e+00  0.00000000e+00  0.00000000e+00\n",
            " -0.00000000e+00 -0.00000000e+00 -0.00000000e+00  0.00000000e+00\n",
            "  0.00000000e+00  0.00000000e+00  2.19126450e-01 -0.00000000e+00\n",
            "  0.00000000e+00  0.00000000e+00 -0.00000000e+00 -0.00000000e+00\n",
            " -0.00000000e+00 -0.00000000e+00  0.00000000e+00 -4.83015380e+00\n",
            " -0.00000000e+00  0.00000000e+00  0.00000000e+00  0.00000000e+00\n",
            "  0.00000000e+00  0.00000000e+00  0.00000000e+00  0.00000000e+00\n",
            "  5.24041896e+00  0.00000000e+00  0.00000000e+00 -0.00000000e+00\n",
            " -0.00000000e+00  0.00000000e+00 -0.00000000e+00 -0.00000000e+00\n",
            "  0.00000000e+00  0.00000000e+00  1.31395186e+00  8.76101670e-01\n",
            " -0.00000000e+00  0.00000000e+00  0.00000000e+00  0.00000000e+00\n",
            " -0.00000000e+00  0.00000000e+00  4.76225542e+00  0.00000000e+00\n",
            "  0.00000000e+00 -0.00000000e+00 -0.00000000e+00  0.00000000e+00\n",
            "  0.00000000e+00  1.74015375e+01  0.00000000e+00  0.00000000e+00\n",
            "  0.00000000e+00  0.00000000e+00  0.00000000e+00  0.00000000e+00\n",
            "  0.00000000e+00  0.00000000e+00 -0.00000000e+00  9.96765480e+00\n",
            " -1.56956905e+01  0.00000000e+00 -0.00000000e+00  0.00000000e+00\n",
            "  0.00000000e+00 -0.00000000e+00  0.00000000e+00  0.00000000e+00\n",
            "  0.00000000e+00 -0.00000000e+00 -0.00000000e+00 -0.00000000e+00\n",
            "  0.00000000e+00 -0.00000000e+00  0.00000000e+00 -0.00000000e+00\n",
            " -0.00000000e+00  0.00000000e+00  0.00000000e+00  0.00000000e+00\n",
            "  0.00000000e+00  0.00000000e+00 -0.00000000e+00 -2.91810382e-01\n",
            "  0.00000000e+00 -9.63611318e-03  0.00000000e+00 -0.00000000e+00\n",
            " -0.00000000e+00  0.00000000e+00 -0.00000000e+00 -6.22714647e+00\n",
            "  0.00000000e+00  0.00000000e+00 -2.32012125e+00  0.00000000e+00\n",
            " -0.00000000e+00 -0.00000000e+00 -0.00000000e+00 -4.36248266e+00\n",
            "  4.03992100e+00 -2.49325435e+00  0.00000000e+00  0.00000000e+00\n",
            "  0.00000000e+00  0.00000000e+00  0.00000000e+00  0.00000000e+00\n",
            "  0.00000000e+00  0.00000000e+00  2.06918474e-01  0.00000000e+00\n",
            "  0.00000000e+00  0.00000000e+00  0.00000000e+00 -0.00000000e+00\n",
            " -0.00000000e+00 -0.00000000e+00 -0.00000000e+00  0.00000000e+00\n",
            " -0.00000000e+00 -0.00000000e+00  0.00000000e+00  0.00000000e+00\n",
            "  1.72597715e+00 -0.00000000e+00  0.00000000e+00  0.00000000e+00\n",
            "  0.00000000e+00  0.00000000e+00  0.00000000e+00  0.00000000e+00\n",
            " -0.00000000e+00 -0.00000000e+00 -0.00000000e+00 -0.00000000e+00\n",
            " -0.00000000e+00  0.00000000e+00  0.00000000e+00  0.00000000e+00\n",
            "  0.00000000e+00 -0.00000000e+00  0.00000000e+00  0.00000000e+00\n",
            "  0.00000000e+00 -0.00000000e+00  0.00000000e+00  0.00000000e+00\n",
            "  0.00000000e+00  0.00000000e+00 -2.52502403e+00 -0.00000000e+00\n",
            "  0.00000000e+00  0.00000000e+00  0.00000000e+00  0.00000000e+00\n",
            "  0.00000000e+00  0.00000000e+00  0.00000000e+00  0.00000000e+00\n",
            "  0.00000000e+00 -3.42557623e+00 -0.00000000e+00  0.00000000e+00\n",
            "  0.00000000e+00 -0.00000000e+00  0.00000000e+00 -0.00000000e+00\n",
            "  5.15414780e+00  0.00000000e+00  0.00000000e+00  0.00000000e+00\n",
            "  0.00000000e+00 -0.00000000e+00 -2.52883683e+00  0.00000000e+00\n",
            " -0.00000000e+00  0.00000000e+00  1.70672355e+01  0.00000000e+00\n",
            "  0.00000000e+00  0.00000000e+00 -0.00000000e+00  0.00000000e+00\n",
            "  0.00000000e+00 -0.00000000e+00  0.00000000e+00  3.22946393e+00\n",
            " -1.36218824e+00  0.00000000e+00 -2.25751939e+00  0.00000000e+00\n",
            " -0.00000000e+00  0.00000000e+00  0.00000000e+00  0.00000000e+00\n",
            "  0.00000000e+00  0.00000000e+00 -0.00000000e+00  0.00000000e+00\n",
            " -0.00000000e+00  2.75562521e+00  2.41147767e+00 -0.00000000e+00\n",
            "  0.00000000e+00  0.00000000e+00  1.48120401e+01 -2.13128195e+01\n",
            "  6.94040014e+00 -0.00000000e+00  2.05799514e-01  0.00000000e+00\n",
            "  0.00000000e+00  0.00000000e+00  0.00000000e+00  0.00000000e+00\n",
            " -6.43917123e+00  0.00000000e+00 -0.00000000e+00  0.00000000e+00\n",
            "  7.71067700e+00  0.00000000e+00  0.00000000e+00 -0.00000000e+00\n",
            "  0.00000000e+00 -0.00000000e+00  2.08624779e+00  0.00000000e+00\n",
            "  0.00000000e+00  0.00000000e+00  0.00000000e+00  0.00000000e+00\n",
            "  0.00000000e+00  0.00000000e+00  0.00000000e+00  0.00000000e+00\n",
            " -4.65876641e+00  0.00000000e+00  0.00000000e+00  0.00000000e+00\n",
            "  0.00000000e+00 -0.00000000e+00  4.64746698e+00  0.00000000e+00\n",
            "  0.00000000e+00  0.00000000e+00  0.00000000e+00  0.00000000e+00\n",
            "  0.00000000e+00  0.00000000e+00  0.00000000e+00 -0.00000000e+00\n",
            "  1.81311733e+01 -0.00000000e+00 -0.00000000e+00 -2.77383226e-02\n",
            " -0.00000000e+00 -0.00000000e+00 -0.00000000e+00  3.44081074e+00\n",
            " -0.00000000e+00  0.00000000e+00  0.00000000e+00 -0.00000000e+00\n",
            " -0.00000000e+00 -0.00000000e+00  1.13825451e+01  7.89182650e+00\n",
            "  0.00000000e+00  0.00000000e+00  0.00000000e+00 -6.82668116e+00\n",
            "  0.00000000e+00  0.00000000e+00 -2.32299052e+00 -0.00000000e+00\n",
            " -0.00000000e+00  1.50147020e+00  0.00000000e+00  0.00000000e+00\n",
            "  1.27128098e+00 -0.00000000e+00  0.00000000e+00  0.00000000e+00\n",
            " -8.12504292e+00  0.00000000e+00  0.00000000e+00 -0.00000000e+00\n",
            " -2.23201787e+00  0.00000000e+00 -0.00000000e+00  0.00000000e+00\n",
            "  0.00000000e+00 -0.00000000e+00  0.00000000e+00 -1.96008487e+01\n",
            "  5.17482938e+00 -0.00000000e+00 -1.84246193e+00  0.00000000e+00\n",
            "  0.00000000e+00  0.00000000e+00 -0.00000000e+00  0.00000000e+00\n",
            "  0.00000000e+00 -0.00000000e+00  0.00000000e+00  0.00000000e+00\n",
            " -8.65010339e+00  0.00000000e+00 -0.00000000e+00 -0.00000000e+00\n",
            "  0.00000000e+00  0.00000000e+00 -0.00000000e+00  4.32676953e-02\n",
            "  2.84505243e-01  0.00000000e+00  0.00000000e+00 -0.00000000e+00\n",
            " -0.00000000e+00  0.00000000e+00  0.00000000e+00  1.02721127e+01\n",
            "  0.00000000e+00  0.00000000e+00  0.00000000e+00  0.00000000e+00\n",
            "  0.00000000e+00 -0.00000000e+00 -0.00000000e+00  9.68170701e+00\n",
            " -0.00000000e+00  1.01517751e+01 -1.59763086e+01  3.18513030e+00\n",
            " -6.62247960e-01  0.00000000e+00  0.00000000e+00  0.00000000e+00\n",
            "  0.00000000e+00  0.00000000e+00 -0.00000000e+00  0.00000000e+00\n",
            " -0.00000000e+00  4.59110821e-01 -0.00000000e+00  0.00000000e+00\n",
            "  0.00000000e+00  0.00000000e+00  0.00000000e+00 -0.00000000e+00\n",
            "  1.28701220e+00 -0.00000000e+00  0.00000000e+00 -0.00000000e+00\n",
            "  0.00000000e+00  0.00000000e+00  0.00000000e+00  0.00000000e+00\n",
            "  0.00000000e+00  0.00000000e+00  0.00000000e+00 -0.00000000e+00\n",
            "  0.00000000e+00  0.00000000e+00  0.00000000e+00  0.00000000e+00\n",
            "  0.00000000e+00  0.00000000e+00  0.00000000e+00 -0.00000000e+00\n",
            "  0.00000000e+00  0.00000000e+00 -1.23965502e+01  0.00000000e+00\n",
            " -0.00000000e+00  0.00000000e+00  0.00000000e+00  0.00000000e+00\n",
            " -0.00000000e+00  0.00000000e+00  3.61790365e-01  0.00000000e+00\n",
            "  0.00000000e+00 -7.31069727e-01  0.00000000e+00  0.00000000e+00\n",
            "  0.00000000e+00  0.00000000e+00  0.00000000e+00  0.00000000e+00\n",
            "  0.00000000e+00  0.00000000e+00  0.00000000e+00 -0.00000000e+00\n",
            "  0.00000000e+00 -1.81526782e+00  0.00000000e+00 -0.00000000e+00\n",
            "  0.00000000e+00  0.00000000e+00 -1.17340304e+00  0.00000000e+00\n",
            "  0.00000000e+00 -0.00000000e+00  0.00000000e+00  0.00000000e+00\n",
            " -0.00000000e+00  3.22740292e+00  0.00000000e+00 -0.00000000e+00\n",
            "  0.00000000e+00  0.00000000e+00 -1.47582687e+01 -3.65227928e+00\n",
            " -0.00000000e+00 -0.00000000e+00 -0.00000000e+00 -0.00000000e+00\n",
            "  0.00000000e+00  0.00000000e+00 -0.00000000e+00  0.00000000e+00\n",
            " -0.00000000e+00  0.00000000e+00 -0.00000000e+00  0.00000000e+00\n",
            "  0.00000000e+00  5.05247773e+00  0.00000000e+00  3.33297462e+00\n",
            " -0.00000000e+00  0.00000000e+00  0.00000000e+00 -9.70910938e+00\n",
            "  0.00000000e+00 -0.00000000e+00  0.00000000e+00  0.00000000e+00\n",
            " -0.00000000e+00  0.00000000e+00  0.00000000e+00  0.00000000e+00\n",
            " -0.00000000e+00  0.00000000e+00  0.00000000e+00  0.00000000e+00\n",
            "  0.00000000e+00  0.00000000e+00 -0.00000000e+00 -1.47485239e+01\n",
            "  0.00000000e+00 -0.00000000e+00 -0.00000000e+00 -1.52087032e+00\n",
            " -0.00000000e+00  0.00000000e+00  0.00000000e+00  0.00000000e+00\n",
            " -0.00000000e+00 -0.00000000e+00  1.33879861e+01 -1.18382268e-01\n",
            " -0.00000000e+00  0.00000000e+00  0.00000000e+00  0.00000000e+00\n",
            " -0.00000000e+00 -1.06703157e+01 -0.00000000e+00 -0.00000000e+00\n",
            "  0.00000000e+00  0.00000000e+00 -6.27825231e+00 -0.00000000e+00\n",
            " -3.59750835e+00 -0.00000000e+00  0.00000000e+00  0.00000000e+00\n",
            " -0.00000000e+00  2.90502414e+00  0.00000000e+00  0.00000000e+00\n",
            "  0.00000000e+00  2.20806081e+00 -0.00000000e+00  0.00000000e+00\n",
            "  0.00000000e+00  6.30905140e+00  0.00000000e+00  0.00000000e+00\n",
            "  0.00000000e+00  0.00000000e+00  0.00000000e+00  6.91109952e+00\n",
            "  7.21162180e-01  0.00000000e+00  0.00000000e+00  7.11572296e+00\n",
            "  8.29778008e-01  0.00000000e+00  0.00000000e+00  0.00000000e+00\n",
            "  0.00000000e+00  0.00000000e+00 -0.00000000e+00 -5.36406592e+00\n",
            "  0.00000000e+00  0.00000000e+00  0.00000000e+00  0.00000000e+00\n",
            "  0.00000000e+00  0.00000000e+00  0.00000000e+00  0.00000000e+00\n",
            " -1.14004419e+00 -1.22924016e+01  2.29034293e+00  0.00000000e+00\n",
            "  0.00000000e+00 -2.98777474e+00  0.00000000e+00  0.00000000e+00\n",
            "  0.00000000e+00  5.02099129e+00  0.00000000e+00  0.00000000e+00\n",
            "  0.00000000e+00  0.00000000e+00  0.00000000e+00  0.00000000e+00\n",
            " -0.00000000e+00 -2.59532303e+00 -1.78204667e+00 -1.32312331e+00\n",
            "  0.00000000e+00  0.00000000e+00 -0.00000000e+00 -0.00000000e+00\n",
            " -0.00000000e+00 -0.00000000e+00  0.00000000e+00  0.00000000e+00\n",
            " -5.62385768e+00  1.91848631e+00  0.00000000e+00  0.00000000e+00\n",
            "  0.00000000e+00  7.30149442e+00 -0.00000000e+00  0.00000000e+00\n",
            "  0.00000000e+00  0.00000000e+00  0.00000000e+00  0.00000000e+00\n",
            "  0.00000000e+00  0.00000000e+00  0.00000000e+00  0.00000000e+00\n",
            "  7.00577444e-01 -0.00000000e+00  0.00000000e+00  0.00000000e+00\n",
            "  0.00000000e+00 -0.00000000e+00  0.00000000e+00  0.00000000e+00\n",
            "  0.00000000e+00  0.00000000e+00 -0.00000000e+00  0.00000000e+00\n",
            "  0.00000000e+00  0.00000000e+00  1.78742310e+00  0.00000000e+00\n",
            "  0.00000000e+00  0.00000000e+00  0.00000000e+00  0.00000000e+00\n",
            " -1.02214369e+00  6.86877802e+00 -9.25115038e+00  0.00000000e+00\n",
            "  0.00000000e+00 -4.37946781e+00 -1.23696884e+00  0.00000000e+00\n",
            "  0.00000000e+00 -0.00000000e+00  0.00000000e+00  0.00000000e+00\n",
            "  0.00000000e+00  0.00000000e+00  0.00000000e+00 -0.00000000e+00\n",
            " -2.42799222e+00  0.00000000e+00  0.00000000e+00 -4.11631616e-01\n",
            "  0.00000000e+00  0.00000000e+00  0.00000000e+00  0.00000000e+00\n",
            "  0.00000000e+00 -2.74179545e+01  0.00000000e+00  0.00000000e+00\n",
            "  0.00000000e+00  0.00000000e+00  0.00000000e+00  0.00000000e+00\n",
            "  0.00000000e+00  0.00000000e+00  0.00000000e+00]\n",
            "Ratio of Degree 3: 1.0\n",
            "------------------------\n"
          ]
        },
        {
          "output_type": "stream",
          "name": "stderr",
          "text": [
            "/usr/local/lib/python3.7/dist-packages/sklearn/linear_model/_coordinate_descent.py:648: ConvergenceWarning: Objective did not converge. You might want to increase the number of iterations, check the scale of the features or consider increasing regularisation. Duality gap: 1.356e+05, tolerance: 1.186e+05\n",
            "  coef_, l1_reg, l2_reg, X, y, max_iter, tol, rng, random, positive\n"
          ]
        },
        {
          "output_type": "stream",
          "name": "stdout",
          "text": [
            "Coeff of Degree 4: [ 21.55026835  21.43010382 -11.17399483 ...   0.           0.\n",
            "   0.        ]\n",
            "Ratio of Degree 4: 1.0\n",
            "------------------------\n",
            "Coeff of Degree 5: [20.59122126 15.15471506 -8.98757704 ...  0.          0.\n",
            "  0.        ]\n",
            "Ratio of Degree 5: 1.0\n",
            "------------------------\n"
          ]
        }
      ],
      "source": [
        "# TRAINING ERROR PER DEGREE\n",
        "elastic_train_rmse_errors = []\n",
        "# TEST ERROR PER DEGREE\n",
        "elastic_test_rmse_errors = []\n",
        "\n",
        "for d in range(1,6):\n",
        "    \n",
        "    # CREATE POLY DATA SET FOR DEGREE \"d\"\n",
        "    polynomial_converter = PolynomialFeatures(degree=d,include_bias=False)\n",
        "    poly_features = polynomial_converter.fit_transform(X)\n",
        "    \n",
        "    # SPLIT THIS NEW POLY DATA SET\n",
        "    X_train, X_test, y_train, y_test = train_test_split(poly_features, y, test_size=0.3, random_state=101)\n",
        "    \n",
        "    scaler.fit(X_train)\n",
        "    X_train = scaler.transform(X_train)\n",
        "    X_test = scaler.transform(X_test)\n",
        "    \n",
        "    # TRAIN ON THIS NEW POLY SET\n",
        "    elastic_model = ElasticNetCV(l1_ratio=[.1, .5, .7,.9, .95, .99, 1],tol=0.01)\n",
        "    elastic_model.fit(X_train,y_train)\n",
        "    \n",
        "    # PREDICT ON BOTH TRAIN AND TEST\n",
        "    train_pred = elastic_model.predict(X_train)\n",
        "    test_pred = elastic_model.predict(X_test)\n",
        "    \n",
        "    # Calculate Errors\n",
        "    \n",
        "    # Errors on Train Set\n",
        "    elastic_train_RMSE = np.sqrt(mean_squared_error(y_train,train_pred))\n",
        "    \n",
        "    # Errors on Test Set\n",
        "    elastic_test_RMSE = np.sqrt(mean_squared_error(y_test,test_pred))\n",
        "\n",
        "    # Append errors to lists for plotting later\n",
        "    \n",
        "   \n",
        "    elastic_train_rmse_errors.append(elastic_train_RMSE)\n",
        "    elastic_test_rmse_errors.append(elastic_test_RMSE)\n",
        "    print('Coeff of Degree ' + str(d) + ': ' + str(elastic_model.coef_))\n",
        "    print('Ratio of Degree ' + str(d) + ': ' + str(elastic_model.l1_ratio_))\n",
        "    print('------------------------')"
      ]
    },
    {
      "cell_type": "markdown",
      "metadata": {
        "id": "JSt5s73XuQYr"
      },
      "source": [
        "### 10b- Choose the best degree and print the errors, model coefficients and ElasticNet parameters."
      ]
    },
    {
      "cell_type": "code",
      "execution_count": null,
      "metadata": {
        "colab": {
          "base_uri": "https://localhost:8080/"
        },
        "collapsed": true,
        "id": "UkbcQLlLuQYr",
        "outputId": "8c128485-8598-49d8-c16e-9fdbf497b3c3"
      },
      "outputs": [
        {
          "output_type": "execute_result",
          "data": {
            "text/plain": [
              "[22.110998256687473,\n",
              " 19.064314828317162,\n",
              " 17.58565917257368,\n",
              " 16.870991907133046,\n",
              " 16.381940243408867]"
            ]
          },
          "metadata": {},
          "execution_count": 37
        }
      ],
      "source": [
        "elastic_train_rmse_errors"
      ]
    },
    {
      "cell_type": "code",
      "execution_count": null,
      "metadata": {
        "colab": {
          "base_uri": "https://localhost:8080/"
        },
        "id": "TIEy2YJ7hQE7",
        "outputId": "b1f7ec7a-503e-4eed-f634-03cd0c526a01"
      },
      "outputs": [
        {
          "output_type": "execute_result",
          "data": {
            "text/plain": [
              "[22.17002763503895,\n",
              " 19.27326364404127,\n",
              " 18.1056557644868,\n",
              " 17.524356684173878,\n",
              " 17.264858088309765]"
            ]
          },
          "metadata": {},
          "execution_count": 38
        }
      ],
      "source": [
        "elastic_test_rmse_errors"
      ]
    },
    {
      "cell_type": "code",
      "execution_count": null,
      "metadata": {
        "colab": {
          "base_uri": "https://localhost:8080/",
          "height": 296
        },
        "id": "YGcPj0Nsn22D",
        "outputId": "d589d7ed-2442-47a7-c609-65f1c2d9b255"
      },
      "outputs": [
        {
          "output_type": "execute_result",
          "data": {
            "text/plain": [
              "<matplotlib.legend.Legend at 0x7fcfaa1b36d0>"
            ]
          },
          "metadata": {},
          "execution_count": 39
        },
        {
          "output_type": "display_data",
          "data": {
            "text/plain": [
              "<Figure size 432x288 with 1 Axes>"
            ],
            "image/png": "[encoded data removed]"
          },
          "metadata": {
            "needs_background": "light"
          }
        }
      ],
      "source": [
        "plt.plot(range(1,6),elastic_train_rmse_errors[:5],label='TRAIN')\n",
        "plt.plot(range(1,6),elastic_test_rmse_errors[:5],label='TEST')\n",
        "plt.xlabel(\"Polynomial Complexity\")\n",
        "plt.ylabel(\"RMSE\")\n",
        "plt.legend()"
      ]
    },
    {
      "cell_type": "markdown",
      "metadata": {
        "id": "E2iUyzSHOsRm"
      },
      "source": [
        "Best Degree: 5\n",
        "\n",
        "*   l1_ratio : 1\n",
        "*   Coef of Degree 5: [20.59122126 15.15471506 -8.98757704 ...  0.          0.0.        ]\n",
        "\n"
      ]
    },
    {
      "cell_type": "markdown",
      "metadata": {
        "id": "O_cuFINquQYs"
      },
      "source": [
        "### 11- Compare the errors from the 3 regularization techniques, and save the best model."
      ]
    },
    {
      "cell_type": "code",
      "execution_count": null,
      "metadata": {
        "colab": {
          "base_uri": "https://localhost:8080/",
          "height": 514
        },
        "id": "Pl7HDFxINqcD",
        "outputId": "bae07c88-853f-4d04-8c21-1728f069f646"
      },
      "outputs": [
        {
          "output_type": "stream",
          "name": "stderr",
          "text": [
            "WARNING:matplotlib.legend:No handles with labels found to put in legend.\n"
          ]
        },
        {
          "output_type": "display_data",
          "data": {
            "text/plain": [
              "<Figure size 864x576 with 1 Axes>"
            ],
            "image/png": "[encoded data removed]"
          },
          "metadata": {
            "needs_background": "light"
          }
        }
      ],
      "source": [
        "errors = [22.4255055064995, 17.090517684064846,17.264858088309765]\n",
        "\n",
        "barWidth = 0.3\n",
        "fig = plt.subplots(figsize =(12, 8))\n",
        "br1 = np.arange(len(errors))\n",
        "br2 = [x + barWidth + 1 for x in br1]\n",
        "\n",
        "# Make the plot\n",
        "plt.bar(br1, errors)\n",
        "\n",
        "# Adding Xticks\n",
        "plt.xlabel('Regularization Method')\n",
        "plt.ylabel('Test Error')\n",
        "plt.xticks([r + (barWidth*0.04) for r in range(len(errors))],\n",
        "        ['Lasso', 'Ridge', 'Elastic Net'])\n",
        "\n",
        "plt.legend()\n",
        "plt.show()"
      ]
    },
    {
      "cell_type": "markdown",
      "metadata": {
        "id": "ZeehK5NOOhTN"
      },
      "source": [
        "Ridge is the best model with degree 3."
      ]
    },
    {
      "cell_type": "code",
      "execution_count": null,
      "metadata": {
        "colab": {
          "base_uri": "https://localhost:8080/"
        },
        "collapsed": true,
        "id": "qn58GoGpuQYs",
        "outputId": "8e8c27b2-afeb-4f20-fefa-18435e984cc1"
      },
      "outputs": [
        {
          "output_type": "execute_result",
          "data": {
            "text/plain": [
              "RidgeCV(alphas=array([ 0.1,  1. , 10. ]), scoring='neg_mean_absolute_error')"
            ]
          },
          "metadata": {},
          "execution_count": 40
        }
      ],
      "source": [
        "final_poly_converter = PolynomialFeatures(degree=3,include_bias=False)\n",
        "poly_features = final_poly_converter.fit_transform(X)\n",
        "    \n",
        "# SPLIT THIS NEW POLY DATA SET\n",
        "X_train, X_test, y_train, y_test = train_test_split(poly_features, y, test_size=0.3, random_state=101)\n",
        "    \n",
        "scaler.fit(X_train)\n",
        "X_train = scaler.transform(X_train) \n",
        "X_test = scaler.transform(X_test)\n",
        "    \n",
        "# TRAIN ON THIS NEW POLY SET\n",
        "final_model = RidgeCV(alphas=(0.1, 1.0, 10.0),scoring='neg_mean_absolute_error')\n",
        "final_model.fit(X_train,y_train)"
      ]
    },
    {
      "cell_type": "code",
      "execution_count": null,
      "metadata": {
        "colab": {
          "base_uri": "https://localhost:8080/"
        },
        "id": "HMV_uapKnmzH",
        "outputId": "e038b0c2-b3c5-45e2-93da-4e0452b77ed8"
      },
      "outputs": [
        {
          "output_type": "execute_result",
          "data": {
            "text/plain": [
              "['poly_converter.joblib']"
            ]
          },
          "metadata": {},
          "execution_count": 41
        }
      ],
      "source": [
        "from joblib import dump, load\n",
        "dump(final_model, 'Poly_best.joblib') \n",
        "dump(final_poly_converter,'poly_converter.joblib')"
      ]
    },
    {
      "cell_type": "markdown",
      "metadata": {
        "id": "IUGAAZY4uQYs"
      },
      "source": [
        "### 12- Load the best model and test it on a sample that you manually created it."
      ]
    },
    {
      "cell_type": "code",
      "execution_count": null,
      "metadata": {
        "collapsed": true,
        "id": "SIw1mo3kuQYs"
      },
      "outputs": [],
      "source": [
        "from joblib import dump, load\n",
        "loaded_poly = load('poly_converter.joblib')\n",
        "loaded_model = load('Poly_best.joblib')"
      ]
    },
    {
      "cell_type": "code",
      "execution_count": null,
      "metadata": {
        "colab": {
          "base_uri": "https://localhost:8080/"
        },
        "id": "SzVXShUJnc2f",
        "outputId": "b029cbdf-ec39-4410-cf8e-e8225f1f6dab"
      },
      "outputs": [
        {
          "output_type": "stream",
          "name": "stderr",
          "text": [
            "/usr/local/lib/python3.7/dist-packages/sklearn/base.py:451: UserWarning: X does not have valid feature names, but PolynomialFeatures was fitted with feature names\n",
            "  \"X does not have valid feature names, but\"\n"
          ]
        },
        {
          "output_type": "execute_result",
          "data": {
            "text/plain": [
              "array([170.33992397])"
            ]
          },
          "metadata": {},
          "execution_count": 43
        }
      ],
      "source": [
        "trial = [[1205,901,760,1174,1529,24.9,25.7,0.7778,2005,6,5,18,0,0]]\n",
        "trial_poly = loaded_poly.transform(trial)\n",
        "final_test_input = scaler.transform(trial_poly)\n",
        "loaded_model.predict(final_test_input)"
      ]
    },
    {
      "cell_type": "markdown",
      "metadata": {
        "id": "G3dUEoJjj-AK"
      },
      "source": [
        "## Great work!\n",
        "----"
      ]
    }
  ],
  "metadata": {
    "anaconda-cloud": {},
    "colab": {
      "provenance": [],
      "include_colab_link": true
    },
    "kernelspec": {
      "display_name": "Python [default]",
      "language": "python",
      "name": "python3"
    },
    "language_info": {
      "codemirror_mode": {
        "name": "ipython",
        "version": 3
      },
      "file_extension": ".py",
      "mimetype": "text/x-python",
      "name": "python",
      "nbconvert_exporter": "python",
      "pygments_lexer": "ipython3",
      "version": "3.5.2"
    }
  },
  "nbformat": 4,
  "nbformat_minor": 0
}