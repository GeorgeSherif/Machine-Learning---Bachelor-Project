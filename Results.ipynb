{
  "nbformat": 4,
  "nbformat_minor": 0,
  "metadata": {
    "colab": {
      "provenance": [],
      "authorship_tag": "ABX9TyPei3/x2KB/PbQN4edaeIkp",
      "include_colab_link": true
    },
    "kernelspec": {
      "name": "python3",
      "display_name": "Python 3"
    },
    "language_info": {
      "name": "python"
    }
  },
  "cells": [
    {
      "cell_type": "markdown",
      "metadata": {
        "id": "view-in-github",
        "colab_type": "text"
      },
      "source": [
        "<a href=\"https://colab.research.google.com/github/GeorgeSherif/Machine-Learning---Bachelor-Project/blob/main/Results.ipynb\" target=\"_parent\"><img src=\"https://colab.research.google.com/assets/colab-badge.svg\" alt=\"Open In Colab\"/></a>"
      ]
    },
    {
      "cell_type": "code",
      "execution_count": null,
      "metadata": {
        "colab": {
          "base_uri": "https://localhost:8080/"
        },
        "id": "q-BDmBTCWvEt",
        "outputId": "eff24e47-d3c6-4b4c-a16f-e88ecdf87cfd"
      },
      "outputs": [
        {
          "output_type": "stream",
          "name": "stdout",
          "text": [
            "Drive already mounted at /content/gdrive; to attempt to forcibly remount, call drive.mount(\"/content/gdrive\", force_remount=True).\n"
          ]
        }
      ],
      "source": [
        "#Importing and mounting my google drive\n",
        "import numpy as np\n",
        "import pandas as pd\n",
        "from time import time\n",
        "from google.colab import drive\n",
        "from IPython.display import display # Allows the use of display() for DataFrames\n",
        "drive.mount('/content/gdrive')"
      ]
    },
    {
      "cell_type": "code",
      "source": [
        "data = pd.read_csv('gdrive/My Drive/Colab Notebooks/final.csv')\n",
        "data = data.drop(['TimeStamp'], axis=1)\n",
        "data.head()\n"
      ],
      "metadata": {
        "id": "X1W34VMkPv3n",
        "colab": {
          "base_uri": "https://localhost:8080/",
          "height": 297
        },
        "outputId": "c84d23c8-0800-48ef-e1ea-2880d924f99c"
      },
      "execution_count": null,
      "outputs": [
        {
          "output_type": "execute_result",
          "data": {
            "text/plain": [
              "    M1   M2   M3   M4   M5   M6     M7     M8   M9  M10  ...    M14  M15  \\\n",
              "0  0.0  0.0  0.0  0.0  0.0  0.0  0.500  0.000  0.0  0.0  ...  0.000  0.0   \n",
              "1  0.0  0.0  0.0  0.0  0.0  0.0  0.375  0.375  0.0  0.0  ...  0.125  0.0   \n",
              "2  0.0  0.0  0.0  0.0  0.0  0.0  0.000  0.000  0.0  0.0  ...  1.000  0.0   \n",
              "3  0.0  0.0  0.0  0.0  0.0  0.0  0.000  1.000  0.0  0.0  ...  0.000  0.0   \n",
              "4  0.0  0.0  0.0  0.0  0.0  0.0  0.000  0.500  0.0  0.0  ...  0.500  0.0   \n",
              "\n",
              "   Intensity  NumberofMotors  PointsPercieved  Phantom Sensation   Xth    Yth  \\\n",
              "0        0.5               9          1 Point   Between 2 Points  1.00   9.00   \n",
              "1        0.5               9          1 Point   Between 4 Points  2.25   7.75   \n",
              "2        0.5               9          1 Point        Not Phantom  3.50  11.50   \n",
              "3        0.5               9          1 Point        Not Phantom  3.50   6.50   \n",
              "4        0.5               9          1 Point   Between 2 Points  3.50   9.00   \n",
              "\n",
              "  XPercieved  YPercieved  \n",
              "0   3.691092    5.725965  \n",
              "1   3.994580    4.998068  \n",
              "2   4.983287   10.664758  \n",
              "3   4.622895    5.194861  \n",
              "4   5.071014    8.981348  \n",
              "\n",
              "[5 rows x 23 columns]"
            ],
            "text/html": [
              "\n",
              "  <div id=\"df-11c607b6-4992-4f61-8991-66d7d3425b7c\">\n",
              "    <div class=\"colab-df-container\">\n",
              "      <div>\n",
              "<style scoped>\n",
              "    .dataframe tbody tr th:only-of-type {\n",
              "        vertical-align: middle;\n",
              "    }\n",
              "\n",
              "    .dataframe tbody tr th {\n",
              "        vertical-align: top;\n",
              "    }\n",
              "\n",
              "    .dataframe thead th {\n",
              "        text-align: right;\n",
              "    }\n",
              "</style>\n",
              "<table border=\"1\" class=\"dataframe\">\n",
              "  <thead>\n",
              "    <tr style=\"text-align: right;\">\n",
              "      <th></th>\n",
              "      <th>M1</th>\n",
              "      <th>M2</th>\n",
              "      <th>M3</th>\n",
              "      <th>M4</th>\n",
              "      <th>M5</th>\n",
              "      <th>M6</th>\n",
              "      <th>M7</th>\n",
              "      <th>M8</th>\n",
              "      <th>M9</th>\n",
              "      <th>M10</th>\n",
              "      <th>...</th>\n",
              "      <th>M14</th>\n",
              "      <th>M15</th>\n",
              "      <th>Intensity</th>\n",
              "      <th>NumberofMotors</th>\n",
              "      <th>PointsPercieved</th>\n",
              "      <th>Phantom Sensation</th>\n",
              "      <th>Xth</th>\n",
              "      <th>Yth</th>\n",
              "      <th>XPercieved</th>\n",
              "      <th>YPercieved</th>\n",
              "    </tr>\n",
              "  </thead>\n",
              "  <tbody>\n",
              "    <tr>\n",
              "      <th>0</th>\n",
              "      <td>0.0</td>\n",
              "      <td>0.0</td>\n",
              "      <td>0.0</td>\n",
              "      <td>0.0</td>\n",
              "      <td>0.0</td>\n",
              "      <td>0.0</td>\n",
              "      <td>0.500</td>\n",
              "      <td>0.000</td>\n",
              "      <td>0.0</td>\n",
              "      <td>0.0</td>\n",
              "      <td>...</td>\n",
              "      <td>0.000</td>\n",
              "      <td>0.0</td>\n",
              "      <td>0.5</td>\n",
              "      <td>9</td>\n",
              "      <td>1 Point</td>\n",
              "      <td>Between 2 Points</td>\n",
              "      <td>1.00</td>\n",
              "      <td>9.00</td>\n",
              "      <td>3.691092</td>\n",
              "      <td>5.725965</td>\n",
              "    </tr>\n",
              "    <tr>\n",
              "      <th>1</th>\n",
              "      <td>0.0</td>\n",
              "      <td>0.0</td>\n",
              "      <td>0.0</td>\n",
              "      <td>0.0</td>\n",
              "      <td>0.0</td>\n",
              "      <td>0.0</td>\n",
              "      <td>0.375</td>\n",
              "      <td>0.375</td>\n",
              "      <td>0.0</td>\n",
              "      <td>0.0</td>\n",
              "      <td>...</td>\n",
              "      <td>0.125</td>\n",
              "      <td>0.0</td>\n",
              "      <td>0.5</td>\n",
              "      <td>9</td>\n",
              "      <td>1 Point</td>\n",
              "      <td>Between 4 Points</td>\n",
              "      <td>2.25</td>\n",
              "      <td>7.75</td>\n",
              "      <td>3.994580</td>\n",
              "      <td>4.998068</td>\n",
              "    </tr>\n",
              "    <tr>\n",
              "      <th>2</th>\n",
              "      <td>0.0</td>\n",
              "      <td>0.0</td>\n",
              "      <td>0.0</td>\n",
              "      <td>0.0</td>\n",
              "      <td>0.0</td>\n",
              "      <td>0.0</td>\n",
              "      <td>0.000</td>\n",
              "      <td>0.000</td>\n",
              "      <td>0.0</td>\n",
              "      <td>0.0</td>\n",
              "      <td>...</td>\n",
              "      <td>1.000</td>\n",
              "      <td>0.0</td>\n",
              "      <td>0.5</td>\n",
              "      <td>9</td>\n",
              "      <td>1 Point</td>\n",
              "      <td>Not Phantom</td>\n",
              "      <td>3.50</td>\n",
              "      <td>11.50</td>\n",
              "      <td>4.983287</td>\n",
              "      <td>10.664758</td>\n",
              "    </tr>\n",
              "    <tr>\n",
              "      <th>3</th>\n",
              "      <td>0.0</td>\n",
              "      <td>0.0</td>\n",
              "      <td>0.0</td>\n",
              "      <td>0.0</td>\n",
              "      <td>0.0</td>\n",
              "      <td>0.0</td>\n",
              "      <td>0.000</td>\n",
              "      <td>1.000</td>\n",
              "      <td>0.0</td>\n",
              "      <td>0.0</td>\n",
              "      <td>...</td>\n",
              "      <td>0.000</td>\n",
              "      <td>0.0</td>\n",
              "      <td>0.5</td>\n",
              "      <td>9</td>\n",
              "      <td>1 Point</td>\n",
              "      <td>Not Phantom</td>\n",
              "      <td>3.50</td>\n",
              "      <td>6.50</td>\n",
              "      <td>4.622895</td>\n",
              "      <td>5.194861</td>\n",
              "    </tr>\n",
              "    <tr>\n",
              "      <th>4</th>\n",
              "      <td>0.0</td>\n",
              "      <td>0.0</td>\n",
              "      <td>0.0</td>\n",
              "      <td>0.0</td>\n",
              "      <td>0.0</td>\n",
              "      <td>0.0</td>\n",
              "      <td>0.000</td>\n",
              "      <td>0.500</td>\n",
              "      <td>0.0</td>\n",
              "      <td>0.0</td>\n",
              "      <td>...</td>\n",
              "      <td>0.500</td>\n",
              "      <td>0.0</td>\n",
              "      <td>0.5</td>\n",
              "      <td>9</td>\n",
              "      <td>1 Point</td>\n",
              "      <td>Between 2 Points</td>\n",
              "      <td>3.50</td>\n",
              "      <td>9.00</td>\n",
              "      <td>5.071014</td>\n",
              "      <td>8.981348</td>\n",
              "    </tr>\n",
              "  </tbody>\n",
              "</table>\n",
              "<p>5 rows × 23 columns</p>\n",
              "</div>\n",
              "      <button class=\"colab-df-convert\" onclick=\"convertToInteractive('df-11c607b6-4992-4f61-8991-66d7d3425b7c')\"\n",
              "              title=\"Convert this dataframe to an interactive table.\"\n",
              "              style=\"display:none;\">\n",
              "        \n",
              "  <svg xmlns=\"http://www.w3.org/2000/svg\" height=\"24px\"viewBox=\"0 0 24 24\"\n",
              "       width=\"24px\">\n",
              "    <path d=\"M0 0h24v24H0V0z\" fill=\"none\"/>\n",
              "    <path d=\"M18.56 5.44l.94 2.06.94-2.06 2.06-.94-2.06-.94-.94-2.06-.94 2.06-2.06.94zm-11 1L8.5 8.5l.94-2.06 2.06-.94-2.06-.94L8.5 2.5l-.94 2.06-2.06.94zm10 10l.94 2.06.94-2.06 2.06-.94-2.06-.94-.94-2.06-.94 2.06-2.06.94z\"/><path d=\"M17.41 7.96l-1.37-1.37c-.4-.4-.92-.59-1.43-.59-.52 0-1.04.2-1.43.59L10.3 9.45l-7.72 7.72c-.78.78-.78 2.05 0 2.83L4 21.41c.39.39.9.59 1.41.59.51 0 1.02-.2 1.41-.59l7.78-7.78 2.81-2.81c.8-.78.8-2.07 0-2.86zM5.41 20L4 18.59l7.72-7.72 1.47 1.35L5.41 20z\"/>\n",
              "  </svg>\n",
              "      </button>\n",
              "      \n",
              "  <style>\n",
              "    .colab-df-container {\n",
              "      display:flex;\n",
              "      flex-wrap:wrap;\n",
              "      gap: 12px;\n",
              "    }\n",
              "\n",
              "    .colab-df-convert {\n",
              "      background-color: #E8F0FE;\n",
              "      border: none;\n",
              "      border-radius: 50%;\n",
              "      cursor: pointer;\n",
              "      display: none;\n",
              "      fill: #1967D2;\n",
              "      height: 32px;\n",
              "      padding: 0 0 0 0;\n",
              "      width: 32px;\n",
              "    }\n",
              "\n",
              "    .colab-df-convert:hover {\n",
              "      background-color: #E2EBFA;\n",
              "      box-shadow: 0px 1px 2px rgba(60, 64, 67, 0.3), 0px 1px 3px 1px rgba(60, 64, 67, 0.15);\n",
              "      fill: #174EA6;\n",
              "    }\n",
              "\n",
              "    [theme=dark] .colab-df-convert {\n",
              "      background-color: #3B4455;\n",
              "      fill: #D2E3FC;\n",
              "    }\n",
              "\n",
              "    [theme=dark] .colab-df-convert:hover {\n",
              "      background-color: #434B5C;\n",
              "      box-shadow: 0px 1px 3px 1px rgba(0, 0, 0, 0.15);\n",
              "      filter: drop-shadow(0px 1px 2px rgba(0, 0, 0, 0.3));\n",
              "      fill: #FFFFFF;\n",
              "    }\n",
              "  </style>\n",
              "\n",
              "      <script>\n",
              "        const buttonEl =\n",
              "          document.querySelector('#df-11c607b6-4992-4f61-8991-66d7d3425b7c button.colab-df-convert');\n",
              "        buttonEl.style.display =\n",
              "          google.colab.kernel.accessAllowed ? 'block' : 'none';\n",
              "\n",
              "        async function convertToInteractive(key) {\n",
              "          const element = document.querySelector('#df-11c607b6-4992-4f61-8991-66d7d3425b7c');\n",
              "          const dataTable =\n",
              "            await google.colab.kernel.invokeFunction('convertToInteractive',\n",
              "                                                     [key], {});\n",
              "          if (!dataTable) return;\n",
              "\n",
              "          const docLinkHtml = 'Like what you see? Visit the ' +\n",
              "            '<a target=\"_blank\" href=https://colab.research.google.com/notebooks/data_table.ipynb>data table notebook</a>'\n",
              "            + ' to learn more about interactive tables.';\n",
              "          element.innerHTML = '';\n",
              "          dataTable['output_type'] = 'display_data';\n",
              "          await google.colab.output.renderOutput(dataTable, element);\n",
              "          const docLink = document.createElement('div');\n",
              "          docLink.innerHTML = docLinkHtml;\n",
              "          element.appendChild(docLink);\n",
              "        }\n",
              "      </script>\n",
              "    </div>\n",
              "  </div>\n",
              "  "
            ]
          },
          "metadata": {},
          "execution_count": 39
        }
      ]
    },
    {
      "cell_type": "code",
      "source": [
        "import matplotlib.pyplot as plt\n",
        "# Number of 1 Points and many 50%\n",
        "data50 = data[data['Intensity'] == 0.5]\n",
        "data50 = data50.drop(['M1','M2','M3','M4','M5','M6','M7','M8','M9','M10', 'M11','M12','M13','M14','M15','Intensity','NumberofMotors','Phantom Sensation'], axis=1)\n",
        "data50_1Point = data50[data50['PointsPercieved'] == '1 Point']\n",
        "data50_2Points = data50[data50['PointsPercieved'] == '2 or more Points']\n",
        "print(data50_1Point.shape[0])\n",
        "print(data50_2Points.shape[0])\n",
        "total1 = data50_1Point.shape[0] + data50_2Points.shape[0]\n",
        "\n",
        "# Number of 1 Points and many 50%\n",
        "data100 = data[data['Intensity'] == 1]\n",
        "data100 = data100.drop(['M1','M2','M3','M4','M5','M6','M7','M8','M9','M10', 'M11','M12','M13','M14','M15','Intensity','NumberofMotors','Phantom Sensation'], axis=1)\n",
        "data100_1Point = data100[data100['PointsPercieved'] == '1 Point']\n",
        "data100_2Points = data100[data100['PointsPercieved'] == '2 or more Points']\n",
        "print(data100_1Point.shape[0])\n",
        "print(data100_2Points.shape[0])\n",
        "total2 = data100_1Point.shape[0] + data100_2Points.shape[0]\n",
        "\n",
        "data = [[0.5, round(100 * data50_1Point.shape[0] / total1,1) , round(100 * data50_2Points.shape[0] / total1,1)], [1, round(100*  data100_1Point.shape[0] / total2,1) , round(100 * data100_2Points.shape[0] / total2 , 1)]]\n",
        "df = pd.DataFrame(data, columns=['Intensity','1 Point' , 'More than 1 Point'])\n",
        "print(df)\n"
      ],
      "metadata": {
        "colab": {
          "base_uri": "https://localhost:8080/"
        },
        "id": "38t_oIWsRQJ5",
        "outputId": "26b1a72c-9c46-43e7-bc7f-0398e535c9aa"
      },
      "execution_count": null,
      "outputs": [
        {
          "output_type": "stream",
          "name": "stdout",
          "text": [
            "1599\n",
            "1236\n",
            "1469\n",
            "1370\n",
            "   Intensity  1 Point  More than 1 Point\n",
            "0        0.5     56.4               43.6\n",
            "1        1.0     51.7               48.3\n"
          ]
        }
      ]
    },
    {
      "cell_type": "code",
      "source": [
        "%pip uninstall matplotlib\n",
        "%pip install matplotlib"
      ],
      "metadata": {
        "colab": {
          "base_uri": "https://localhost:8080/",
          "height": 693
        },
        "id": "nOFTpNiJS8qN",
        "outputId": "c5832190-8c8c-4ad0-a202-efc3445049a6"
      },
      "execution_count": null,
      "outputs": [
        {
          "output_type": "stream",
          "name": "stdout",
          "text": [
            "Found existing installation: matplotlib 3.2.2\n",
            "Uninstalling matplotlib-3.2.2:\n",
            "  Would remove:\n",
            "    /usr/local/lib/python3.7/dist-packages/matplotlib-3.2.2-py3.7-nspkg.pth\n",
            "    /usr/local/lib/python3.7/dist-packages/matplotlib-3.2.2.dist-info/*\n",
            "    /usr/local/lib/python3.7/dist-packages/matplotlib.libs/libpng16-cfdb1654.so.16.21.0\n",
            "    /usr/local/lib/python3.7/dist-packages/matplotlib.libs/libz-a147dcb0.so.1.2.3\n",
            "    /usr/local/lib/python3.7/dist-packages/matplotlib/*\n",
            "    /usr/local/lib/python3.7/dist-packages/mpl_toolkits/axes_grid/*\n",
            "    /usr/local/lib/python3.7/dist-packages/mpl_toolkits/axes_grid1/*\n",
            "    /usr/local/lib/python3.7/dist-packages/mpl_toolkits/axisartist/*\n",
            "    /usr/local/lib/python3.7/dist-packages/mpl_toolkits/mplot3d/*\n",
            "    /usr/local/lib/python3.7/dist-packages/mpl_toolkits/tests/*\n",
            "    /usr/local/lib/python3.7/dist-packages/pylab.py\n",
            "Proceed (y/n)? y\n",
            "  Successfully uninstalled matplotlib-3.2.2\n",
            "Looking in indexes: https://pypi.org/simple, https://us-python.pkg.dev/colab-wheels/public/simple/\n",
            "Collecting matplotlib\n",
            "  Downloading matplotlib-3.5.3-cp37-cp37m-manylinux_2_5_x86_64.manylinux1_x86_64.whl (11.2 MB)\n",
            "\u001b[K     |████████████████████████████████| 11.2 MB 5.0 MB/s \n",
            "\u001b[?25hRequirement already satisfied: packaging>=20.0 in /usr/local/lib/python3.7/dist-packages (from matplotlib) (21.3)\n",
            "Requirement already satisfied: python-dateutil>=2.7 in /usr/local/lib/python3.7/dist-packages (from matplotlib) (2.8.2)\n",
            "Requirement already satisfied: kiwisolver>=1.0.1 in /usr/local/lib/python3.7/dist-packages (from matplotlib) (1.4.4)\n",
            "Requirement already satisfied: pyparsing>=2.2.1 in /usr/local/lib/python3.7/dist-packages (from matplotlib) (3.0.9)\n",
            "Collecting fonttools>=4.22.0\n",
            "  Downloading fonttools-4.34.4-py3-none-any.whl (944 kB)\n",
            "\u001b[K     |████████████████████████████████| 944 kB 63.1 MB/s \n",
            "\u001b[?25hRequirement already satisfied: cycler>=0.10 in /usr/local/lib/python3.7/dist-packages (from matplotlib) (0.11.0)\n",
            "Requirement already satisfied: pillow>=6.2.0 in /usr/local/lib/python3.7/dist-packages (from matplotlib) (7.1.2)\n",
            "Requirement already satisfied: numpy>=1.17 in /usr/local/lib/python3.7/dist-packages (from matplotlib) (1.21.6)\n",
            "Requirement already satisfied: typing-extensions in /usr/local/lib/python3.7/dist-packages (from kiwisolver>=1.0.1->matplotlib) (4.1.1)\n",
            "Requirement already satisfied: six>=1.5 in /usr/local/lib/python3.7/dist-packages (from python-dateutil>=2.7->matplotlib) (1.15.0)\n",
            "Installing collected packages: fonttools, matplotlib\n",
            "Successfully installed fonttools-4.34.4 matplotlib-3.5.3\n"
          ]
        },
        {
          "output_type": "display_data",
          "data": {
            "application/vnd.colab-display-data+json": {
              "pip_warning": {
                "packages": [
                  "matplotlib",
                  "mpl_toolkits"
                ]
              }
            }
          },
          "metadata": {}
        }
      ]
    },
    {
      "cell_type": "code",
      "source": [
        "ax = df.plot.bar(x='Intensity')\n",
        "for container in ax.containers:\n",
        "    ax.bar_label(container , padding = -15)\n",
        "ax.set_ylabel(\"Division of entries in %\")\n",
        "ax = ax.legend(loc='lower center')\n"
      ],
      "metadata": {
        "colab": {
          "base_uri": "https://localhost:8080/",
          "height": 285
        },
        "id": "UJHuYAEgaBoW",
        "outputId": "95b3640c-6fa3-4db5-876a-195d3e2d27e4"
      },
      "execution_count": null,
      "outputs": [
        {
          "output_type": "display_data",
          "data": {
            "text/plain": [
              "<Figure size 432x288 with 1 Axes>"
            ],
            "image/png": "[encoded data removed]"
          },
          "metadata": {
            "needs_background": "light"
          }
        }
      ]
    },
    {
      "cell_type": "code",
      "source": [
        "data = pd.read_csv('gdrive/My Drive/Colab Notebooks/final.csv')\n",
        "data = data.drop(['TimeStamp'], axis=1)\n",
        "data4 = data[data['NumberofMotors'] == 4]\n",
        "error4 = np.average(np.sqrt(np.power(data4['Xth'] - data4['XPercieved'] ,2) + np.power(data4['Yth'] - data4['YPercieved'] ,2))) \n",
        "print(error4)\n",
        "data6 = data[data['NumberofMotors'] == 6]\n",
        "error6 = np.average(np.sqrt(np.power(data6['Xth'] - data6['XPercieved'] ,2) + np.power(data6['Yth'] - data6['YPercieved'] ,2))) \n",
        "print(error6)\n",
        "data9 = data[data['NumberofMotors'] == 9]\n",
        "error9 = np.average(np.sqrt(np.power(data9['Xth'] - data9['XPercieved'] ,2) + np.power(data9['Yth'] - data9['YPercieved'] ,2))) \n",
        "print(error9)\n",
        "data15 = data[data['NumberofMotors'] == 15]\n",
        "error15 = np.average(np.sqrt(np.power(data15['Xth'] - data15['XPercieved'] ,2) + np.power(data15['Yth'] - data15['YPercieved'] ,2))) \n",
        "print(error15)\n",
        "print(\"-----\")\n",
        "\n",
        "data = data[data['Intensity'] == 0.5]\n",
        "data450 = data[(data['NumberofMotors']) == 4 ]\n",
        "error450 = np.average(np.sqrt(np.power(data450['Xth'] - data450['XPercieved'] ,2) + np.power(data450['Yth'] - data450['YPercieved'] ,2))) \n",
        "print(error450)\n",
        "data650 = data[(data['NumberofMotors']) == 6 ]\n",
        "\n",
        "error650 = np.average(np.sqrt(np.power(data650['Xth'] - data650['XPercieved'] ,2) + np.power(data650['Yth'] - data650['YPercieved'] ,2))) \n",
        "print(error650)\n",
        "data950 = data[(data['NumberofMotors']) == 9 ]\n",
        "error950 = np.average(np.sqrt(np.power(data950['Xth'] - data950['XPercieved'] ,2) + np.power(data950['Yth'] - data950['YPercieved'] ,2))) \n",
        "print(error950)\n",
        "data1550 = data[(data['NumberofMotors']) == 15 ]\n",
        "error1550 = np.average(np.sqrt(np.power(data1550['Xth'] - data1550['XPercieved'] ,2) + np.power(data1550['Yth'] - data1550['YPercieved'] ,2))) \n",
        "print(error1550)\n",
        "print(\"-----\")\n",
        "data = pd.read_csv('gdrive/My Drive/Colab Notebooks/final.csv')\n",
        "data = data.drop(['TimeStamp'], axis=1)\n",
        "data = data[data['Intensity'] == 1]\n",
        "\n",
        "\n",
        "data4100 = data[data['NumberofMotors'] == 4]\n",
        "error4100 = np.average(np.sqrt(np.power(data4100['Xth'] - data4100['XPercieved'] ,2) + np.power(data4100['Yth'] - data4100['YPercieved'] ,2))) \n",
        "print(error4100)\n",
        "data6100 = data[data['NumberofMotors'] == 6]\n",
        "error6100 = np.average(np.sqrt(np.power(data6100['Xth'] - data6100['XPercieved'] ,2) + np.power(data6100['Yth'] - data6100['YPercieved'] ,2))) \n",
        "print(error6100)\n",
        "data9100 = data[data['NumberofMotors'] == 9]\n",
        "error9100 = np.average(np.sqrt(np.power(data9100['Xth'] - data9100['XPercieved'] ,2) + np.power(data9100['Yth'] - data9100['YPercieved'] ,2))) \n",
        "print(error9100)\n",
        "data15100 = data[data['NumberofMotors'] == 15]\n",
        "error15100 = np.average(np.sqrt(np.power(data15100['Xth'] - data15100['XPercieved'] ,2) + np.power(data15100['Yth'] - data15100['YPercieved'] ,2))) \n",
        "print(error15100)\n",
        "print(\"-----\")\n",
        "\n",
        "data = pd.read_csv('gdrive/My Drive/Colab Notebooks/final.csv')\n",
        "data = data.drop(['TimeStamp'], axis=1)\n",
        "data100 = data[data['Intensity'] == 1]\n",
        "error100 = np.average(np.sqrt(np.power(data100['Xth'] - data100['XPercieved'] ,2) + np.power(data100['Yth'] - data100['YPercieved'] ,2))) \n",
        "print(error100)\n",
        "\n",
        "data50 = data[data['Intensity'] == 0.5]\n",
        "error50 = np.average(np.sqrt(np.power(data50['Xth'] - data50['XPercieved'] ,2) + np.power(data50['Yth'] - data50['YPercieved'] ,2))) \n",
        "print(error50)\n"
      ],
      "metadata": {
        "colab": {
          "base_uri": "https://localhost:8080/"
        },
        "id": "RaKDVaPs-ryu",
        "outputId": "aab4a249-aa71-4b52-df24-8fd8e4c57df6"
      },
      "execution_count": null,
      "outputs": [
        {
          "output_type": "stream",
          "name": "stdout",
          "text": [
            "2.1329405795249285\n",
            "1.7984144685899444\n",
            "1.4094188199147561\n",
            "1.2716121064971477\n",
            "-----\n",
            "2.1496483062490817\n",
            "2.078089010563476\n",
            "1.4046427656050817\n",
            "1.3179750031052688\n",
            "-----\n",
            "2.1164216406733645\n",
            "1.520692961127401\n",
            "1.4142015446913438\n",
            "1.2247185901853572\n",
            "-----\n",
            "1.569527750018502\n",
            "1.735877351329544\n"
          ]
        }
      ]
    },
    {
      "cell_type": "code",
      "source": [
        "data = [[4, error4], [6, error6],[9, error9],[15, error15]]\n",
        "df = pd.DataFrame(data, columns=['Number of motors','Error'])\n",
        "print(df)\n",
        "ax = df.plot.bar(x='Number of motors', legend=False)\n",
        "ax.set_xlabel(\"Number of motors used in the configuration\")\n",
        "ax.set_ylabel(\"Error in centimeters\")\n",
        "for container in ax.containers:\n",
        "    ax.bar_label(container , padding = -15)\n",
        "\n",
        "data = [[4, round(error450,2), round(error4100,2)], [6, round(error650,2),round(error6100,2)],[9, round(error950,2),round(error9100,2)],[15, round(error1550,2),round(error15100,2)]]\n",
        "df = pd.DataFrame(data, columns=['Number of motors','50%' , '100%'])\n",
        "print(df)\n",
        "ax = df.plot.bar(x='Number of motors',  )\n",
        "ax.set_xlabel(\"Number of motors used in the configuration\")\n",
        "ax.set_ylabel(\"Error in centimeters\")\n",
        "ax.set_title(\"Euclidean distance for both intensities\")\n",
        "for container in ax.containers:\n",
        "    ax.bar_label(container , padding = -15)\n",
        "\n",
        "data = [[4, error4100], [6, error6100],[9, error9100],[15, error15100]]\n",
        "df = pd.DataFrame(data, columns=['Number of motors','Error'])\n",
        "print(df)\n",
        "ax = df.plot.bar(x='Number of motors', legend=False)\n",
        "ax.set_xlabel(\"Number of motors used in the configuration\")\n",
        "ax.set_ylabel(\"Error in centimeters\")\n",
        "ax.set_title(\"Euclidean distance for intensity 100%\")\n",
        "for container in ax.containers:\n",
        "    ax.bar_label(container , padding = -15)\n",
        "\n",
        "\n",
        "\n",
        "data = [[0.5, error50], [1, error100]]\n",
        "df = pd.DataFrame(data, columns=['Intensity','Error'])\n",
        "print(df)\n",
        "ax = df.plot.bar(x='Intensity', legend=False)\n",
        "ax.set_xlabel(\"Intensity level\")\n",
        "ax.set_ylabel(\"Error in centimeters\")\n",
        "for container in ax.containers:\n",
        "    ax.bar_label(container , padding = -15)"
      ],
      "metadata": {
        "colab": {
          "base_uri": "https://localhost:8080/",
          "height": 1000
        },
        "id": "GlUGm2yGAOs5",
        "outputId": "58eab9b5-1654-449f-df4e-318dc83d998c"
      },
      "execution_count": null,
      "outputs": [
        {
          "output_type": "stream",
          "name": "stdout",
          "text": [
            "   Number of motors     Error\n",
            "0                 4  2.132941\n",
            "1                 6  1.798414\n",
            "2                 9  1.409419\n",
            "3                15  1.271612\n",
            "   Number of motors   50%  100%\n",
            "0                 4  2.15  2.12\n",
            "1                 6  2.08  1.52\n",
            "2                 9  1.40  1.41\n",
            "3                15  1.32  1.22\n",
            "   Number of motors     Error\n",
            "0                 4  2.116422\n",
            "1                 6  1.520693\n",
            "2                 9  1.414202\n",
            "3                15  1.224719\n",
            "   Intensity     Error\n",
            "0        0.5  1.735877\n",
            "1        1.0  1.569528\n"
          ]
        },
        {
          "output_type": "display_data",
          "data": {
            "text/plain": [
              "<Figure size 432x288 with 1 Axes>"
            ],
            "image/png": "[encoded data removed]"
          },
          "metadata": {
            "needs_background": "light"
          }
        },
        {
          "output_type": "display_data",
          "data": {
            "text/plain": [
              "<Figure size 432x288 with 1 Axes>"
            ],
            "image/png": "[encoded data removed]"
          },
          "metadata": {
            "needs_background": "light"
          }
        },
        {
          "output_type": "display_data",
          "data": {
            "text/plain": [
              "<Figure size 432x288 with 1 Axes>"
            ],
            "image/png": "[encoded data removed]"
          },
          "metadata": {
            "needs_background": "light"
          }
        },
        {
          "output_type": "display_data",
          "data": {
            "text/plain": [
              "<Figure size 432x288 with 1 Axes>"
            ],
            "image/png": "[encoded data removed]"
          },
          "metadata": {
            "needs_background": "light"
          }
        }
      ]
    },
    {
      "cell_type": "code",
      "source": [
        "from scipy import stats\n",
        "\n",
        "data = [[4, 2.15],\n",
        "        [6, 2.07],\n",
        "        [9, 1.4],\n",
        "        [15, 1.32]\n",
        "        ]\n",
        "df = pd.DataFrame(data, columns=['motors','error'])\n",
        "\n",
        "\n",
        "print(stats.spearmanr(df[['motors']], df[['error']]))\n"
      ],
      "metadata": {
        "colab": {
          "base_uri": "https://localhost:8080/"
        },
        "id": "tD0yjzV9Xnah",
        "outputId": "a73e2978-1acc-4069-8543-4c7708360305"
      },
      "execution_count": null,
      "outputs": [
        {
          "output_type": "stream",
          "name": "stdout",
          "text": [
            "SpearmanrResult(correlation=-1.0, pvalue=0.0)\n"
          ]
        }
      ]
    },
    {
      "cell_type": "code",
      "source": [
        "data = pd.read_csv('gdrive/My Drive/Colab Notebooks/final.csv')\n",
        "data = data.drop(['TimeStamp'], axis=1)\n",
        "\n",
        "data4 = data[data['NumberofMotors'] == 4]\n",
        "data4_1point = data4[data4['PointsPercieved']== '1 Point']\n",
        "data4_2point = data4[data4['PointsPercieved']== '2 or more Points']\n",
        "\n",
        "data6 = data[data['NumberofMotors'] == 6]\n",
        "data6_1point = data6[data6['PointsPercieved']== '1 Point']\n",
        "data6_2point = data6[data6['PointsPercieved']== '2 or more Points']\n",
        "\n",
        "data9 = data[data['NumberofMotors'] == 9]\n",
        "data9_1point = data9[data9['PointsPercieved']== '1 Point']\n",
        "data9_2point = data9[data9['PointsPercieved']== '2 or more Points']\n",
        "\n",
        "data15 = data[data['NumberofMotors'] == 15]\n",
        "data15_1point = data15[data15['PointsPercieved']== '1 Point']\n",
        "data15_2point = data15[data15['PointsPercieved']== '2 or more Points']\n",
        "a41 = round(100 * data4_1point.shape[0] / (data4_1point.shape[0] + data4_2point.shape[0]),1 )\n",
        "a42 = round(100 * data4_2point.shape[0] /  (data4_1point.shape[0] + data4_2point.shape[0]),1 )\n",
        "a61 = round(100 * data6_1point.shape[0] / (data6_1point.shape[0] + data6_2point.shape[0]),1 )\n",
        "a62 = round(100 * data6_2point.shape[0] / (data6_1point.shape[0] + data6_2point.shape[0]),1 )\n",
        "a91 = round(100 * data9_1point.shape[0] / (data9_1point.shape[0] + data9_2point.shape[0]),1 )\n",
        "a92 = round(100 * data9_2point.shape[0] / (data9_1point.shape[0] + data9_2point.shape[0]),1 )\n",
        "a151 = round(100 * data15_1point.shape[0] / (data15_1point.shape[0] + data15_2point.shape[0]),1 )\n",
        "a152 = round(100 * data15_2point.shape[0] / (data15_1point.shape[0] + data15_2point.shape[0]),1 )\n",
        "\n",
        "data = [[4, a41 , a42], \n",
        "        [6, a61 , a62],\n",
        "        [9, a91 , a92], \n",
        "        [15, a151 , a152]]\n",
        "df = pd.DataFrame(data, columns=['Number of motors','1 Point' , 'More than 1 Point'])\n",
        "print(df)\n",
        "\n",
        "ax = df.plot.bar(x='Number of motors')\n",
        "for container in ax.containers:\n",
        "    ax.bar_label(container , padding = -15)\n",
        "ax.set_ylabel(\"Number of entries\")\n",
        "ax = ax.legend(loc='lower center')\n",
        "\n",
        "from scipy import stats\n",
        "\n",
        "data = [[4, 639],\n",
        "        [6, 786],\n",
        "        [9, 770],\n",
        "        [15, 873]\n",
        "        ]\n",
        "df = pd.DataFrame(data, columns=['motors','error'])\n",
        "\n",
        "print(stats.spearmanr(df[['motors']], df[['error']]))\n",
        "\n",
        "\n",
        "data450_1Point = data450[data450['PointsPercieved'] == '1 Point']\n",
        "data450_2Points = data450[data450['PointsPercieved'] == '2 or more Points']\n",
        "print(data450_1Point.shape[0])\n",
        "print(data450_2Points.shape[0])\n",
        "\n",
        "data650_1Point = data650[data650['PointsPercieved'] == '1 Point']\n",
        "data650_2Points = data650[data650['PointsPercieved'] == '2 or more Points']\n",
        "print(data650_1Point.shape[0])\n",
        "print(data650_2Points.shape[0])\n",
        "\n",
        "data950_1Point = data950[data950['PointsPercieved'] == '1 Point']\n",
        "data950_2Points = data950[data950['PointsPercieved'] == '2 or more Points']\n",
        "print(data950_1Point.shape[0])\n",
        "print(data950_2Points.shape[0])\n",
        "\n",
        "data1550_1Point = data1550[data1550['PointsPercieved'] == '1 Point']\n",
        "data1550_2Points = data1550[data1550['PointsPercieved'] == '2 or more Points']\n",
        "print(data1550_1Point.shape[0])\n",
        "print(data1550_2Points.shape[0])\n",
        "\n",
        "\n",
        "a41 = round(100 * data450_1Point.shape[0] / (data450_1Point.shape[0] + data450_2Points.shape[0]) ,1)\n",
        "a42 = round(100 * data450_2Points.shape[0] /  (data450_1Point.shape[0] + data450_2Points.shape[0]),1 )\n",
        "a61 = round(100 * data650_1Point.shape[0] / (data650_1Point.shape[0] + data650_2Points.shape[0]) ,1)\n",
        "a62 = round(100 * data650_2Points.shape[0] / (data650_1Point.shape[0] + data650_2Points.shape[0]) ,1)\n",
        "a91 = round(100 * data950_1Point.shape[0] / (data950_1Point.shape[0] + data950_2Points.shape[0]) ,1)\n",
        "a92 = round(100 * data950_2Points.shape[0] / (data950_1Point.shape[0] + data950_2Points.shape[0]) ,1)\n",
        "a151 = round(100 * data1550_1Point.shape[0] / (data1550_1Point.shape[0] + data1550_2Points.shape[0]),1 )\n",
        "a152 = round(100 * data1550_2Points.shape[0] / (data1550_1Point.shape[0] + data1550_2Points.shape[0]) ,1)\n",
        "\n",
        "\n",
        "data = [[4, a41 , a42 ], \n",
        "        [6, a61 , a62],\n",
        "        [9,a91 ,a92 ], \n",
        "        [15, a151, a152]]\n",
        "df = pd.DataFrame(data, columns=['Number of motors','1 Point' , 'More than 1 Point'])\n",
        "print(df)\n",
        "\n",
        "ax = df.plot.bar(x='Number of motors')\n",
        "for container in ax.containers:\n",
        "    ax.bar_label(container , padding = -15)\n",
        "ax.set_ylabel(\"Division of entries in %\")\n",
        "ax.set_title(\"Euclidean distance for intensity level 50%\")\n",
        "ax = ax.legend(loc='lower center')\n",
        "\n",
        "\n",
        "\n",
        "\n",
        "\n",
        "\n",
        "\n",
        "data4100_1Point = data4100[data4100['PointsPercieved'] == '1 Point']\n",
        "data4100_2Points = data4100[data4100['PointsPercieved'] == '2 or more Points']\n",
        "print(data4100_1Point.shape[0])\n",
        "print(data4100_2Points.shape[0])\n",
        "\n",
        "data6100_1Point = data6100[data6100['PointsPercieved'] == '1 Point']\n",
        "data6100_2Points = data6100[data6100['PointsPercieved'] == '2 or more Points']\n",
        "print(data6100_1Point.shape[0])\n",
        "print(data6100_2Points.shape[0])\n",
        "\n",
        "data9100_1Point = data9100[data9100['PointsPercieved'] == '1 Point']\n",
        "data9100_2Points = data9100[data9100['PointsPercieved'] == '2 or more Points']\n",
        "print(data9100_1Point.shape[0])\n",
        "print(data9100_2Points.shape[0])\n",
        "\n",
        "data15100_1Point = data15100[data15100['PointsPercieved'] == '1 Point']\n",
        "data15100_2Points = data15100[data15100['PointsPercieved'] == '2 or more Points']\n",
        "print(data15100_1Point.shape[0])\n",
        "print(data15100_2Points.shape[0])\n",
        "\n",
        "a41 = round(100 * data4100_1Point.shape[0] / (data4100_1Point.shape[0] + data4100_2Points.shape[0]) ,1)\n",
        "a42 = round(100 * data4100_2Points.shape[0] /  (data4100_1Point.shape[0] + data4100_2Points.shape[0]) ,1)\n",
        "a61 = round(100 * data6100_1Point.shape[0] / (data6100_1Point.shape[0] + data6100_2Points.shape[0]) ,1)\n",
        "a62 = round(100 * data6100_2Points.shape[0] / (data6100_1Point.shape[0] + data6100_2Points.shape[0]) ,1)\n",
        "a91 = round(100 * data9100_1Point.shape[0] / (data9100_1Point.shape[0] + data9100_2Points.shape[0]) ,1)\n",
        "a92 = round(100 * data9100_2Points.shape[0] / (data9100_1Point.shape[0] + data9100_2Points.shape[0]) ,1)\n",
        "a151 = round(100 * data15100_1Point.shape[0] / (data15100_1Point.shape[0] + data15100_2Points.shape[0]) ,1)\n",
        "a152 = round(100 * data15100_2Points.shape[0] / (data15100_1Point.shape[0] + data15100_2Points.shape[0]),1 )\n",
        "\n",
        "data = [[4, a41 , a42], \n",
        "        [6, a61 , a62],\n",
        "        [9, a91 , a92], \n",
        "        [15, a151 , a152]]\n",
        "df = pd.DataFrame(data, columns=['Number of motors','1 Point' , 'More than 1 Point'])\n",
        "print(df)\n",
        "\n",
        "ax = df.plot.bar(x='Number of motors')\n",
        "for container in ax.containers:\n",
        "    ax.bar_label(container , padding = -15)\n",
        "ax.set_ylabel(\"Division of entries in %\")\n",
        "ax.set_title(\"Euclidean distance for intensity level 100%\")\n",
        "ax = ax.legend(loc='lower center')"
      ],
      "metadata": {
        "colab": {
          "base_uri": "https://localhost:8080/",
          "height": 1000
        },
        "id": "KDb7NK0fOfJ2",
        "outputId": "4160ffb2-da3d-4153-8054-b2c5bdd3e34f"
      },
      "execution_count": null,
      "outputs": [
        {
          "output_type": "stream",
          "name": "stdout",
          "text": [
            "   Number of motors  1 Point  More than 1 Point\n",
            "0                 4     45.4               54.6\n",
            "1                 6     55.1               44.9\n",
            "2                 9     53.7               46.3\n",
            "3                15     62.1               37.9\n",
            "SpearmanrResult(correlation=0.7999999999999999, pvalue=0.20000000000000007)\n",
            "342\n",
            "358\n",
            "428\n",
            "283\n",
            "376\n",
            "341\n",
            "453\n",
            "254\n",
            "   Number of motors  1 Point  More than 1 Point\n",
            "0                 4     48.9               51.1\n",
            "1                 6     60.2               39.8\n",
            "2                 9     52.4               47.6\n",
            "3                15     64.1               35.9\n",
            "297\n",
            "411\n",
            "358\n",
            "358\n",
            "394\n",
            "322\n",
            "420\n",
            "279\n",
            "   Number of motors  1 Point  More than 1 Point\n",
            "0                 4     41.9               58.1\n",
            "1                 6     50.0               50.0\n",
            "2                 9     55.0               45.0\n",
            "3                15     60.1               39.9\n"
          ]
        },
        {
          "output_type": "display_data",
          "data": {
            "text/plain": [
              "<Figure size 432x288 with 1 Axes>"
            ],
            "image/png": "[encoded data removed]"
          },
          "metadata": {
            "needs_background": "light"
          }
        },
        {
          "output_type": "display_data",
          "data": {
            "text/plain": [
              "<Figure size 432x288 with 1 Axes>"
            ],
            "image/png": "[encoded data removed]"
          },
          "metadata": {
            "needs_background": "light"
          }
        },
        {
          "output_type": "display_data",
          "data": {
            "text/plain": [
              "<Figure size 432x288 with 1 Axes>"
            ],
            "image/png": "[encoded data removed]"
          },
          "metadata": {
            "needs_background": "light"
          }
        }
      ]
    },
    {
      "cell_type": "code",
      "source": [
        "data = pd.read_csv('gdrive/My Drive/Colab Notebooks/final.csv')\n",
        "data = data[data['Intensity'] == 0.5]\n",
        "data = data[data['Phantom Sensation'] != \"Not Phantom\"] \n",
        "print(data.shape[0])\n",
        "\n",
        "data450 = data[(data['NumberofMotors']) == 4 ]\n",
        "data450_1Point = data450[data450['PointsPercieved'] == '1 Point']\n",
        "data450_2Points = data450[data450['PointsPercieved'] == '2 or more Points']\n",
        "\n",
        "data650 = data[(data['NumberofMotors']) == 6 ]\n",
        "data650_1Point = data650[data650['PointsPercieved'] == '1 Point']\n",
        "data650_2Points = data650[data650['PointsPercieved'] == '2 or more Points']\n",
        "\n",
        "data950 = data[(data['NumberofMotors']) == 9 ]\n",
        "data950_1Point = data950[data950['PointsPercieved'] == '1 Point']\n",
        "data950_2Points = data950[data950['PointsPercieved'] == '2 or more Points']\n",
        "\n",
        "data1550 = data[(data['NumberofMotors']) == 15 ]\n",
        "data1550_1Point = data1550[data1550['PointsPercieved'] == '1 Point']\n",
        "data1550_2Points = data1550[data1550['PointsPercieved'] == '2 or more Points']\n",
        "\n",
        "data = [[4, data450.shape[0] ,data450_1Point.shape[0] , data450_2Points.shape[0]],\n",
        "        [6, data650.shape[0] , data650_1Point.shape[0] , data650_2Points.shape[0]],\n",
        "        [9, data950.shape[0] ,data950_1Point.shape[0] , data950_2Points.shape[0]], \n",
        "        [15, data1550.shape[0] , data1550_1Point.shape[0] , data1550_2Points.shape[0]]]\n",
        "df = pd.DataFrame(data, columns=['Number of motors','Phantom vibrations','1 Point' , 'More than 1 Point'])\n",
        "print(df)\n",
        "\n",
        "ax = df.plot.bar(x='Number of motors', width=0.85)\n",
        "for container in ax.containers:\n",
        "    ax.bar_label(container , padding = -15)\n",
        "ax.set_ylabel(\"Number of entries\")\n",
        "ax.set_title(\"Number of phantom entries in the 50% intensity level\")\n",
        "ax = ax.legend(loc='lower center')\n",
        "\n",
        "\n",
        "data = pd.read_csv('gdrive/My Drive/Colab Notebooks/final.csv')\n",
        "data = data.drop(['TimeStamp'], axis=1)\n",
        "data = data[data['Intensity'] == 1]\n",
        "data = data[data['Phantom Sensation'] != \"Not Phantom\"] \n",
        "print(data.shape[0])\n",
        "data4100 = data[data['NumberofMotors'] == 4]\n",
        "data4100_1Point = data4100[data4100['PointsPercieved'] == '1 Point']\n",
        "data4100_2Points = data4100[data4100['PointsPercieved'] == '2 or more Points']\n",
        "\n",
        "data6100 = data[data['NumberofMotors'] == 6]\n",
        "data6100_1Point = data6100[data6100['PointsPercieved'] == '1 Point']\n",
        "data6100_2Points = data6100[data6100['PointsPercieved'] == '2 or more Points']\n",
        "\n",
        "data9100 = data[data['NumberofMotors'] == 9]\n",
        "data9100_1Point = data9100[data9100['PointsPercieved'] == '1 Point']\n",
        "data9100_2Points = data9100[data9100['PointsPercieved'] == '2 or more Points']\n",
        "\n",
        "data15100 = data[data['NumberofMotors'] == 15]\n",
        "data15100_1Point = data15100[data15100['PointsPercieved'] == '1 Point']\n",
        "data15100_2Points = data15100[data15100['PointsPercieved'] == '2 or more Points']\n",
        "\n",
        "\n",
        "data = [[4, data4100.shape[0] ,data4100_1Point.shape[0] , data4100_2Points.shape[0]],\n",
        "        [6, data6100.shape[0] , data6100_1Point.shape[0] , data6100_2Points.shape[0]],\n",
        "        [9, data9100.shape[0] , data9100_1Point.shape[0] , data9100_2Points.shape[0]], \n",
        "        [15, data15100.shape[0] , data15100_1Point.shape[0] , data15100_2Points.shape[0]]]\n",
        "df = pd.DataFrame(data, columns=['Number of motors','Phantom vibrations','1 Point' , 'More than 1 Point'])\n",
        "print(df)\n",
        "\n",
        "ax = df.plot.bar(x='Number of motors', width=0.85)\n",
        "for container in ax.containers:\n",
        "    ax.bar_label(container , padding = -15)\n",
        "ax.set_ylabel(\"Number of entries\")\n",
        "ax.set_title(\"Number of phantom entries in the 100% intensity level\")\n",
        "ax = ax.legend(loc='lower center')\n"
      ],
      "metadata": {
        "colab": {
          "base_uri": "https://localhost:8080/",
          "height": 787
        },
        "id": "TXJ4COEZc6uk",
        "outputId": "d970f6b7-de99-4ae5-955c-15cad62e2e6f"
      },
      "execution_count": null,
      "outputs": [
        {
          "output_type": "stream",
          "name": "stdout",
          "text": [
            "2300\n",
            "   Number of motors  Phantom vibrations  1 Point  More than 1 Point\n",
            "0                 4                 637      286                351\n",
            "1                 6                 617      344                273\n",
            "2                 9                 574      262                312\n",
            "3                15                 472      279                193\n",
            "2307\n",
            "   Number of motors  Phantom vibrations  1 Point  More than 1 Point\n",
            "0                 4                 645      244                401\n",
            "1                 6                 620      277                343\n",
            "2                 9                 574      280                294\n",
            "3                15                 468      245                223\n"
          ]
        },
        {
          "output_type": "display_data",
          "data": {
            "text/plain": [
              "<Figure size 432x288 with 1 Axes>"
            ],
            "image/png": "[encoded data removed]"
          },
          "metadata": {
            "needs_background": "light"
          }
        },
        {
          "output_type": "display_data",
          "data": {
            "text/plain": [
              "<Figure size 432x288 with 1 Axes>"
            ],
            "image/png": "[encoded data removed]"
          },
          "metadata": {
            "needs_background": "light"
          }
        }
      ]
    },
    {
      "cell_type": "code",
      "source": [],
      "metadata": {
        "id": "qycLsF1zcQUF"
      },
      "execution_count": null,
      "outputs": []
    }
  ]
}