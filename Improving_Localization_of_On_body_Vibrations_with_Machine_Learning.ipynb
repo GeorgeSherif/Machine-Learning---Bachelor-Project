{
  "nbformat": 4,
  "nbformat_minor": 0,
  "metadata": {
    "colab": {
      "provenance": [],
      "authorship_tag": "ABX9TyPEdq4bFww8OcHIipbxRtOU",
      "include_colab_link": true
    },
    "kernelspec": {
      "name": "python3",
      "display_name": "Python 3"
    },
    "language_info": {
      "name": "python"
    }
  },
  "cells": [
    {
      "cell_type": "markdown",
      "metadata": {
        "id": "view-in-github",
        "colab_type": "text"
      },
      "source": [
        "<a href=\"https://colab.research.google.com/github/GeorgeSherif/Machine-Learning---Bachelor-Project/blob/main/Improving_Localization_of_On_body_Vibrations_with_Machine_Learning.ipynb\" target=\"_parent\"><img src=\"https://colab.research.google.com/assets/colab-badge.svg\" alt=\"Open In Colab\"/></a>"
      ]
    },
    {
      "cell_type": "markdown",
      "source": [
        "Things to do:\n",
        "1) Change the features and test with different combinations\n",
        "2) Add One or more points and make hot encoding"
      ],
      "metadata": {
        "id": "y87eZ1or38Wv"
      }
    },
    {
      "cell_type": "markdown",
      "source": [
        "### **Loading the dataset**\n",
        "1.   Mounting google drive\n",
        "2.   Loading the dataset into a dataframe\n",
        "\n"
      ],
      "metadata": {
        "id": "lEl3iDRfqF-V"
      }
    },
    {
      "cell_type": "code",
      "execution_count": null,
      "metadata": {
        "colab": {
          "base_uri": "https://localhost:8080/"
        },
        "id": "q-BDmBTCWvEt",
        "outputId": "fa79c488-2892-4b91-a89b-e3a0f949371c"
      },
      "outputs": [
        {
          "output_type": "stream",
          "name": "stdout",
          "text": [
            "Drive already mounted at /content/gdrive; to attempt to forcibly remount, call drive.mount(\"/content/gdrive\", force_remount=True).\n"
          ]
        }
      ],
      "source": [
        "#Importing and mounting my google drive\n",
        "import numpy as np\n",
        "import pandas as pd\n",
        "from time import time\n",
        "\n",
        "from google.colab import drive\n",
        "from IPython.display import display # Allows the use of display() for DataFrames\n",
        "drive.mount('/content/gdrive')"
      ]
    },
    {
      "cell_type": "code",
      "source": [
        "#Reading and filtering my data frame\n",
        "from scipy import stats\n",
        "data = pd.read_csv('gdrive/My Drive/Colab Notebooks/final.csv')\n",
        "data = data.drop(data.index[data[\"YPercieved\"] == 237.078661].tolist())\n",
        "data = data.drop(data.index[data[\"YPercieved\"] == 121.933417].tolist())\n",
        "data = data.drop(data.index[data[\"YPercieved\"] == 18.538849].tolist())\n",
        "\n",
        "print('--------')\n",
        "print(data.describe())\n",
        "data1 = data[data['NumberofMotors'] != 4]\n",
        "\n",
        "data = pd.read_csv('gdrive/My Drive/Colab Notebooks/final.csv')\n",
        "data = data.drop(data.index[data[\"YPercieved\"] == 237.078661].tolist())\n",
        "data = data.drop(data.index[data[\"YPercieved\"] == 121.933417].tolist())\n",
        "data = data.drop(data.index[data[\"YPercieved\"] == 18.538849].tolist())\n",
        "data2 = data[data['NumberofMotors'] != 4 ]\n",
        "data2 = data2[data2['NumberofMotors'] != 6]\n",
        "\n",
        "data = pd.read_csv('gdrive/My Drive/Colab Notebooks/final.csv')\n",
        "data = data.drop(data.index[data[\"YPercieved\"] == 237.078661].tolist())\n",
        "data = data.drop(data.index[data[\"YPercieved\"] == 121.933417].tolist())\n",
        "data = data.drop(data.index[data[\"YPercieved\"] == 18.538849].tolist())\n",
        "data3 = data[data['NumberofMotors'] == 15 ]\n",
        "\n",
        "data1 = data1.drop(['TimeStamp','Phantom Sensation','NumberofMotors'], axis=1)\n",
        "data2 = data2.drop(['TimeStamp','Phantom Sensation','NumberofMotors'], axis=1)\n",
        "data3 = data3.drop(['TimeStamp','Phantom Sensation','NumberofMotors'], axis=1)\n",
        "\n",
        "print(stats.spearmanr(data['M14'], data['YPercieved']))\n",
        "\n",
        "\n"
      ],
      "metadata": {
        "id": "_yEciX52aTfk",
        "colab": {
          "base_uri": "https://localhost:8080/"
        },
        "outputId": "5409b85b-b6a9-448e-cbd7-0e18683aff70"
      },
      "execution_count": null,
      "outputs": [
        {
          "output_type": "stream",
          "name": "stdout",
          "text": [
            "--------\n",
            "                M1           M2           M3           M4           M5  \\\n",
            "count  5671.000000  5671.000000  5671.000000  5671.000000  5671.000000   \n",
            "mean      0.130312     0.045010     0.130621     0.016796     0.022262   \n",
            "std       0.239221     0.156121     0.239576     0.101216     0.109815   \n",
            "min       0.000000     0.000000     0.000000     0.000000     0.000000   \n",
            "25%       0.000000     0.000000     0.000000     0.000000     0.000000   \n",
            "50%       0.000000     0.000000     0.000000     0.000000     0.000000   \n",
            "75%       0.187500     0.000000     0.187500     0.000000     0.000000   \n",
            "max       1.000000     1.000000     1.000000     1.000000     1.000000   \n",
            "\n",
            "                M6           M7           M8           M9          M10  ...  \\\n",
            "count  5671.000000  5671.000000  5671.000000  5671.000000  5671.000000  ...   \n",
            "mean      0.016576     0.106386     0.067008     0.105790     0.016443  ...   \n",
            "std       0.100213     0.217367     0.176264     0.216884     0.099517  ...   \n",
            "min       0.000000     0.000000     0.000000     0.000000     0.000000  ...   \n",
            "25%       0.000000     0.000000     0.000000     0.000000     0.000000  ...   \n",
            "50%       0.000000     0.000000     0.000000     0.000000     0.000000  ...   \n",
            "75%       0.000000     0.125000     0.000000     0.125000     0.000000  ...   \n",
            "max       1.000000     1.000000     1.000000     1.000000     1.000000  ...   \n",
            "\n",
            "               M12          M13          M14          M15    Intensity  \\\n",
            "count  5671.000000  5671.000000  5671.000000  5671.000000  5671.000000   \n",
            "mean      0.016135     0.130213     0.044569     0.129618     0.750309   \n",
            "std       0.098846     0.239265     0.155327     0.238625     0.250022   \n",
            "min       0.000000     0.000000     0.000000     0.000000     0.500000   \n",
            "25%       0.000000     0.000000     0.000000     0.000000     0.500000   \n",
            "50%       0.000000     0.000000     0.000000     0.000000     1.000000   \n",
            "75%       0.000000     0.187500     0.000000     0.187500     1.000000   \n",
            "max       1.000000     1.000000     1.000000     1.000000     1.000000   \n",
            "\n",
            "       NumberofMotors          Xth          Yth   XPercieved   YPercieved  \n",
            "count     5671.000000  5671.000000  5671.000000  5671.000000  5671.000000  \n",
            "mean         8.493211     3.496473     6.490302     3.477622     6.675072  \n",
            "std          4.139530     1.766204     3.225336     1.885002     3.758127  \n",
            "min          4.000000     1.000000     1.500000     0.243449     0.248955  \n",
            "25%          6.000000     2.250000     4.000000     1.610435     2.981533  \n",
            "50%          9.000000     3.500000     6.500000     3.422960     6.754979  \n",
            "75%          9.000000     4.750000     9.000000     5.355325    10.435956  \n",
            "max         15.000000     6.000000    11.500000     6.939362    12.502283  \n",
            "\n",
            "[8 rows x 21 columns]\n",
            "SpearmanrResult(correlation=0.3266064248309236, pvalue=4.480918360154921e-141)\n"
          ]
        }
      ]
    },
    {
      "cell_type": "code",
      "source": [
        "import matplotlib.pyplot as plt\n",
        "\n",
        "dataplot = [data['Xth'],data['XPercieved'], data['Yth'], data['YPercieved']]\n",
        "fig = plt.figure(figsize =(10, 7))\n",
        "ax = fig.add_subplot(111)\n",
        " \n",
        "# Creating axes instance\n",
        "bp = ax.boxplot(dataplot, vert = 0)\n",
        " \n",
        "\n",
        "\n",
        "# x-axis labels\n",
        "ax.set_yticklabels(['Xth', 'XPercieved',\n",
        "                    'Yth', 'YPercieved'])\n",
        " \n",
        "# Removing top axes and right axes\n",
        "# ticks\n",
        "ax.get_xaxis().tick_bottom()\n",
        "ax.get_yaxis().tick_left()\n",
        "     \n",
        "# show plot\n",
        "plt.show()"
      ],
      "metadata": {
        "colab": {
          "base_uri": "https://localhost:8080/",
          "height": 428
        },
        "id": "mFVz7OLSqcjb",
        "outputId": "d155697f-47b0-43bd-a278-ff9e7f271b7f"
      },
      "execution_count": null,
      "outputs": [
        {
          "output_type": "display_data",
          "data": {
            "text/plain": [
              "<Figure size 720x504 with 1 Axes>"
            ],
            "image/png": "[encoded data removed]"
          },
          "metadata": {
            "needs_background": "light"
          }
        }
      ]
    },
    {
      "cell_type": "code",
      "source": [
        "%pip uninstall matplotlib\n",
        "%pip install matplotlib"
      ],
      "metadata": {
        "id": "jrtKg3kaPyVd",
        "colab": {
          "base_uri": "https://localhost:8080/",
          "height": 693
        },
        "outputId": "0de35921-0106-47d4-e08b-76c7aaa18412"
      },
      "execution_count": null,
      "outputs": [
        {
          "output_type": "stream",
          "name": "stdout",
          "text": [
            "Found existing installation: matplotlib 3.2.2\n",
            "Uninstalling matplotlib-3.2.2:\n",
            "  Would remove:\n",
            "    /usr/local/lib/python3.7/dist-packages/matplotlib-3.2.2-py3.7-nspkg.pth\n",
            "    /usr/local/lib/python3.7/dist-packages/matplotlib-3.2.2.dist-info/*\n",
            "    /usr/local/lib/python3.7/dist-packages/matplotlib.libs/libpng16-cfdb1654.so.16.21.0\n",
            "    /usr/local/lib/python3.7/dist-packages/matplotlib.libs/libz-a147dcb0.so.1.2.3\n",
            "    /usr/local/lib/python3.7/dist-packages/matplotlib/*\n",
            "    /usr/local/lib/python3.7/dist-packages/mpl_toolkits/axes_grid/*\n",
            "    /usr/local/lib/python3.7/dist-packages/mpl_toolkits/axes_grid1/*\n",
            "    /usr/local/lib/python3.7/dist-packages/mpl_toolkits/axisartist/*\n",
            "    /usr/local/lib/python3.7/dist-packages/mpl_toolkits/mplot3d/*\n",
            "    /usr/local/lib/python3.7/dist-packages/mpl_toolkits/tests/*\n",
            "    /usr/local/lib/python3.7/dist-packages/pylab.py\n",
            "Proceed (y/n)? y\n",
            "  Successfully uninstalled matplotlib-3.2.2\n",
            "Looking in indexes: https://pypi.org/simple, https://us-python.pkg.dev/colab-wheels/public/simple/\n",
            "Collecting matplotlib\n",
            "  Downloading matplotlib-3.5.3-cp37-cp37m-manylinux_2_5_x86_64.manylinux1_x86_64.whl (11.2 MB)\n",
            "\u001b[K     |████████████████████████████████| 11.2 MB 5.5 MB/s \n",
            "\u001b[?25hRequirement already satisfied: pillow>=6.2.0 in /usr/local/lib/python3.7/dist-packages (from matplotlib) (7.1.2)\n",
            "Requirement already satisfied: packaging>=20.0 in /usr/local/lib/python3.7/dist-packages (from matplotlib) (21.3)\n",
            "Requirement already satisfied: kiwisolver>=1.0.1 in /usr/local/lib/python3.7/dist-packages (from matplotlib) (1.4.4)\n",
            "Requirement already satisfied: python-dateutil>=2.7 in /usr/local/lib/python3.7/dist-packages (from matplotlib) (2.8.2)\n",
            "Requirement already satisfied: pyparsing>=2.2.1 in /usr/local/lib/python3.7/dist-packages (from matplotlib) (3.0.9)\n",
            "Requirement already satisfied: cycler>=0.10 in /usr/local/lib/python3.7/dist-packages (from matplotlib) (0.11.0)\n",
            "Collecting fonttools>=4.22.0\n",
            "  Downloading fonttools-4.38.0-py3-none-any.whl (965 kB)\n",
            "\u001b[K     |████████████████████████████████| 965 kB 42.5 MB/s \n",
            "\u001b[?25hRequirement already satisfied: numpy>=1.17 in /usr/local/lib/python3.7/dist-packages (from matplotlib) (1.21.6)\n",
            "Requirement already satisfied: typing-extensions in /usr/local/lib/python3.7/dist-packages (from kiwisolver>=1.0.1->matplotlib) (4.1.1)\n",
            "Requirement already satisfied: six>=1.5 in /usr/local/lib/python3.7/dist-packages (from python-dateutil>=2.7->matplotlib) (1.15.0)\n",
            "Installing collected packages: fonttools, matplotlib\n",
            "Successfully installed fonttools-4.38.0 matplotlib-3.5.3\n"
          ]
        },
        {
          "output_type": "display_data",
          "data": {
            "application/vnd.colab-display-data+json": {
              "pip_warning": {
                "packages": [
                  "matplotlib",
                  "mpl_toolkits"
                ]
              }
            }
          },
          "metadata": {}
        }
      ]
    },
    {
      "cell_type": "code",
      "source": [
        "#Analysis of points collected\n",
        "import matplotlib.pyplot as plt\n",
        "\n",
        "#Total number of records\n",
        "n_records1 = len(data1)\n",
        "n_records2 = len(data2)\n",
        "n_records3 = len(data3)\n",
        "\n",
        "#Number of records where participants percieved only one point\n",
        "n_1_point1 = len(data1.loc[data1[\"PointsPercieved\"] == \"1 Point\"])\n",
        "n_1_point2 = len(data2.loc[data2[\"PointsPercieved\"] == \"1 Point\"])\n",
        "n_1_point3 = len(data3.loc[data3[\"PointsPercieved\"] == \"1 Point\"])\n",
        "\n",
        "#Number of records where participants percieved 2 or more points\n",
        "n_2_or_more_points1 = len(data1.loc[data1[\"PointsPercieved\"] == \"2 or more Points\"])\n",
        "n_2_or_more_points2 = len(data2.loc[data2[\"PointsPercieved\"] == \"2 or more Points\"])\n",
        "n_2_or_more_points3 = len(data3.loc[data3[\"PointsPercieved\"] == \"2 or more Points\"])\n",
        "\n",
        "#Percentage of individuals whose income is more than $50,000\n",
        "greater_percent1 = 100 * n_1_point1 / (n_records1)\n",
        "greater_percent2 = 100 * n_1_point2 / (n_records2)\n",
        "greater_percent3 = 100 * n_1_point3 / (n_records3)\n",
        "\n",
        "# Print the results\n",
        "print(\"Total number of records 1: {}\".format(n_records1))\n",
        "print(\"Total number of records 2: {}\".format(n_records2))\n",
        "print(\"Total number of records 3: {}\".format(n_records3))\n",
        "\n",
        "print(\"Participants percieved only one point 1: {}\".format(n_1_point1))\n",
        "print(\"Participants percieved only one point 2: {}\".format(n_1_point2))\n",
        "print(\"Participants percieved only one point 3: {}\".format(n_1_point3))\n",
        "\n",
        "print(\"Participants percieved 2 or more points 1: {}\".format(n_2_or_more_points1))\n",
        "print(\"Participants percieved 2 or more points 2: {}\".format(n_2_or_more_points2))\n",
        "print(\"Participants percieved 2 or more points 3: {}\".format(n_2_or_more_points3))\n",
        "\n",
        "print(\"Percentage of participants feeling only one point 1: {}%\".format(greater_percent1))\n",
        "print(\"Percentage of participants feeling only one point 2: {}%\".format(greater_percent2))\n",
        "print(\"Percentage of participants feeling only one point 3: {}%\".format(greater_percent3))\n",
        "\n",
        "graph = [['6,9,15', n_records1,n_1_point1,n_2_or_more_points1], ['9,15', n_records2 ,n_1_point2,n_2_or_more_points2] , ['15', n_records3 ,n_1_point3,n_2_or_more_points3]]\n",
        "df = pd.DataFrame(graph, columns=['Motors Used','Number of records' , '1 Point', 'More than 1 point'])\n",
        "print(df)\n",
        "ax = df.plot.bar(x='Motors Used', width = 0.8)\n",
        "for container in ax.containers:\n",
        "    ax.bar_label(container , padding = -15)\n",
        "ax.set_ylabel(\"Data size\")\n",
        "ax = ax.legend(loc='upper right')"
      ],
      "metadata": {
        "colab": {
          "base_uri": "https://localhost:8080/",
          "height": 579
        },
        "id": "ImW1kf0ifDr1",
        "outputId": "4b4c8e6c-7fa4-41bd-fa06-e9b685648d61"
      },
      "execution_count": null,
      "outputs": [
        {
          "output_type": "stream",
          "name": "stdout",
          "text": [
            "Total number of records 1: 4264\n",
            "Total number of records 2: 2839\n",
            "Total number of records 3: 1406\n",
            "Participants percieved only one point 1: 2427\n",
            "Participants percieved only one point 2: 1643\n",
            "Participants percieved only one point 3: 873\n",
            "Participants percieved 2 or more points 1: 1837\n",
            "Participants percieved 2 or more points 2: 1196\n",
            "Participants percieved 2 or more points 3: 533\n",
            "Percentage of participants feeling only one point 1: 56.91838649155722%\n",
            "Percentage of participants feeling only one point 2: 57.872490313490665%\n",
            "Percentage of participants feeling only one point 3: 62.09103840682788%\n",
            "  Motors Used  Number of records  1 Point  More than 1 point\n",
            "0      6,9,15               4264     2427               1837\n",
            "1        9,15               2839     1643               1196\n",
            "2          15               1406      873                533\n"
          ]
        },
        {
          "output_type": "display_data",
          "data": {
            "text/plain": [
              "<Figure size 432x288 with 1 Axes>"
            ],
            "image/png": "[encoded data removed]"
          },
          "metadata": {
            "needs_background": "light"
          }
        }
      ]
    },
    {
      "cell_type": "code",
      "source": [
        "TheoreticalError1 = np.average(np.sqrt(np.power(data1['Xth'] - data1['XPercieved'] ,2) + np.power(data1['Yth'] - data1['YPercieved'] ,2)))\n",
        "TheoreticalError2 = np.average(np.sqrt(np.power(data2['Xth'] - data2['XPercieved'] ,2) + np.power(data2['Yth'] - data2['YPercieved'] ,2)))\n",
        "TheoreticalError3 = np.average(np.sqrt(np.power(data3['Xth'] - data3['XPercieved'] ,2) + np.power(data3['Yth'] - data3['YPercieved'] ,2)))\n",
        "graph = [['6,9,15', TheoreticalError1], ['9,15', TheoreticalError2] , ['15', TheoreticalError3]]\n",
        "df = pd.DataFrame(graph, columns=['Motors Used', 'Error'])\n",
        "print(df)\n",
        "ax = df.plot.bar(x='Motors Used', width = 0.8, legend = None)\n",
        "for container in ax.containers:\n",
        "    ax.bar_label(container , padding = -15)\n",
        "ax.set_ylabel(\"Euclidean distance in cm\")\n"
      ],
      "metadata": {
        "colab": {
          "base_uri": "https://localhost:8080/",
          "height": 388
        },
        "id": "MPEH-4AcxjxC",
        "outputId": "78013b4b-eeb0-4b26-bc0a-6a87eda49c10"
      },
      "execution_count": null,
      "outputs": [
        {
          "output_type": "stream",
          "name": "stdout",
          "text": [
            "  Motors Used     Error\n",
            "0      6,9,15  1.406285\n",
            "1        9,15  1.341171\n",
            "2          15  1.271612\n"
          ]
        },
        {
          "output_type": "execute_result",
          "data": {
            "text/plain": [
              "Text(0, 0.5, 'Euclidean distance in cm')"
            ]
          },
          "metadata": {},
          "execution_count": 37
        },
        {
          "output_type": "display_data",
          "data": {
            "text/plain": [
              "<Figure size 432x288 with 1 Axes>"
            ],
            "image/png": "[encoded data removed]"
          },
          "metadata": {
            "needs_background": "light"
          }
        }
      ]
    },
    {
      "cell_type": "markdown",
      "source": [
        "###**Preparing the data 1** "
      ],
      "metadata": {
        "id": "vKm-r2iBsANa"
      }
    },
    {
      "cell_type": "code",
      "source": [
        "# Import train_test_split\n",
        "from sklearn.model_selection import train_test_split\n",
        "from sklearn.utils import shuffle\n",
        "from matplotlib import pyplot\n",
        "from sklearn.preprocessing import StandardScaler\n",
        "scaler = StandardScaler() # default=(0, 1)\n",
        "scaler2 = StandardScaler()\n",
        "# numerical = ['XPercieved', 'YPercieved','Xth','Yth']\n",
        "# data1[numerical] = scaler.fit_transform(data1[numerical])\n",
        "\n",
        "\n",
        "\n",
        "#max_error = 0\n",
        "#TheoreticalError1 = 0\n",
        "LinearRegression1 = 100\n",
        "Adaboost1 = 100\n",
        "ridge1 = 100\n",
        "Lasso1 = 100\n",
        "\n",
        "\n",
        "for i in range(1000):\n",
        "  data1 = shuffle(data1, random_state=42)\n",
        "\n",
        "\n",
        "  featuresX = data1.drop(['XPercieved','YPercieved','PointsPercieved','Intensity'],axis = 1)\n",
        "  featuresY = data1.drop(['XPercieved','YPercieved','PointsPercieved','Intensity'],axis = 1)\n",
        "  XPercieved = data1['XPercieved']\n",
        "  YPercieved = data1['YPercieved']\n",
        "\n",
        "  \n",
        "\n",
        "  # Splitting the dataset into train and test groups, separating the X and Y coordinates\n",
        "  X_trainX, X_testX, y_trainX, y_testX = train_test_split(featuresX, XPercieved, test_size = 0.2, random_state = 0)\n",
        "  X_trainY, X_testY, y_trainY, y_testY = train_test_split(featuresY, YPercieved, test_size = 0.2, random_state = 0)\n",
        "\n",
        "  scaler.fit(X_trainX)\n",
        "  X_trainX = scaler.transform(X_trainX)\n",
        "  X_testX = scaler.transform(X_testX)\n",
        "\n",
        "  scaler2.fit(X_trainY)\n",
        "  X_trainY = scaler.transform(X_trainY)\n",
        "  X_testY = scaler.transform(X_testY)\n",
        "  \n",
        "  Xth = X_testX[16]\n",
        "  Yth = X_testY[17]\n",
        "  \n",
        "\n",
        "  # TheoreticalError = np.sum(np.sqrt(np.power(Xth - y_testX ,2) + np.power(Yth - y_testY ,2))) / X_testX.shape[0]  \n",
        "\n",
        "  #Linear Regression\n",
        "  #Import the supervised learning model from sklearn\n",
        "  from sklearn.linear_model import LinearRegression\n",
        "  # TODO: Initialize the three models\n",
        "  modelX = LinearRegression()\n",
        "  modelX.fit(X_trainX, y_trainX)\n",
        "  modelY = LinearRegression()\n",
        "  modelY.fit(X_trainY, y_trainY)\n",
        "  predicted_valuesX = modelX.predict(X_testX)\n",
        "  predicted_valuesY = modelY.predict(X_testY)\n",
        "\n",
        "  LinearRegression = np.sum(np.sqrt(np.power(predicted_valuesX - y_testX ,2) + np.power(predicted_valuesY - y_testY ,2))) / X_testY.shape[0]      \n",
        "\n",
        "  #Adaboost\n",
        "  #Import the supervised learning model from sklearn\n",
        "  from sklearn.ensemble import AdaBoostRegressor\n",
        "  # TODO: Initialize the three models\n",
        "  modelX = AdaBoostRegressor(random_state=0)\n",
        "  modelX.fit(X_trainX, y_trainX)\n",
        "  modelY = AdaBoostRegressor(random_state=0)\n",
        "  modelY.fit(X_trainY, y_trainY)\n",
        "  predicted_valuesX = modelX.predict(X_testX)\n",
        "  predicted_valuesY = modelY.predict(X_testY)\n",
        "  Adaboost = np.sum(np.sqrt(np.power(predicted_valuesX - y_testX ,2) + np.power(predicted_valuesY - y_testY ,2))) / X_testY.shape[0]      \n",
        "\n",
        "  #Ridge\n",
        "  from sklearn.linear_model import Ridge\n",
        "  modelX = Ridge()\n",
        "  modelX.fit(X_trainX, y_trainX)\n",
        "  modelY = Ridge()\n",
        "  modelY.fit(X_trainY, y_trainY)\n",
        "  predicted_valuesX = modelX.predict(X_testX)\n",
        "  predicted_valuesY = modelY.predict(X_testY)\n",
        "  ridge = np.sum(np.sqrt(np.power(predicted_valuesX - y_testX ,2) + np.power(predicted_valuesY - y_testY ,2))) / X_testY.shape[0] \n",
        "\n",
        "  #lasso\n",
        "  from sklearn.linear_model import Lasso\n",
        "  modelX = Lasso()\n",
        "  modelX.fit(X_trainX, y_trainX)\n",
        "  modelY = Lasso()\n",
        "  modelY.fit(X_trainY, y_trainY)\n",
        "  predicted_valuesX = modelX.predict(X_testX)\n",
        "  predicted_valuesY = modelY.predict(X_testY)\n",
        "  Lasso =np.sum(np.sqrt(np.power(predicted_valuesX - y_testX ,2) + np.power(predicted_valuesY - y_testY ,2))) / X_testY.shape[0]      \n",
        "\n",
        "  \n",
        "  #error = 100 * (TheoreticalError - LinearRegression) / TheoreticalError\n",
        "  #if(error > max_error):\n",
        "   # max_error = error\n",
        "   # TheoreticalError1 = TheoreticalError\n",
        "    #LinearRegression1 = LinearRegression\n",
        "    #ridge1 = ridge\n",
        "    #Adaboost1 = Adaboost\n",
        "    #Lasso1 = Lasso\n",
        "  if(LinearRegression < LinearRegression1):\n",
        "    LinearRegression1 = LinearRegression\n",
        "  if(Adaboost < Adaboost1):\n",
        "    Adaboost1 = Adaboost\n",
        "  if(ridge < ridge1):\n",
        "    ridge1 = ridge\n",
        "  if(Lasso < Lasso1):\n",
        "    Lasso1 = Lasso\n",
        "# Show the results of the split\n",
        "print(\"X Coordinate Training set has {} samples.\".format(X_trainX.shape[0]))\n",
        "print(\"X Coordinate Testing set has {} samples.\".format(X_testX.shape[0]))\n",
        "print(\"Y Coordinate Training set has {} samples.\".format(X_trainY.shape[0]))\n",
        "print(\"Y Coordinate Testing set has {} samples.\".format(X_testY.shape[0]))\n",
        "print(\"-------------- Results --------------\")\n",
        "#print(\"Theoretical error: {}\".format(TheoreticalError1))\n",
        "print(\"Linear regression error: {}\".format(LinearRegression1))\n",
        "#print(\"Percentage decrease: {}\".format(100 * (TheoreticalError1 - LinearRegression1) / TheoreticalError1))\n",
        "print(\"--------------  --------------\")\n",
        "print(\"Adaboost regressor error: {}\".format(Adaboost1))\n",
        "print(\"Ridge regressor error: {}\".format(ridge1))\n",
        "print(\"Lasso regressor error: {}\".format(Lasso1))\n",
        "\n",
        "\n",
        "#print(max_error)\n"
      ],
      "metadata": {
        "colab": {
          "base_uri": "https://localhost:8080/"
        },
        "id": "nfixO5v7tYV-",
        "outputId": "12d436c5-887b-4a41-9ba2-d685910601a7"
      },
      "execution_count": null,
      "outputs": [
        {
          "output_type": "stream",
          "name": "stdout",
          "text": [
            "X Coordinate Training set has 3411 samples.\n",
            "X Coordinate Testing set has 853 samples.\n",
            "Y Coordinate Training set has 3411 samples.\n",
            "Y Coordinate Testing set has 853 samples.\n",
            "-------------- Results --------------\n",
            "Linear regression error: 1.2696261802635616\n",
            "--------------  --------------\n",
            "Adaboost regressor error: 1.3244474949634846\n",
            "Ridge regressor error: 1.2695479493747996\n",
            "Lasso regressor error: 1.9206301995054484\n"
          ]
        }
      ]
    },
    {
      "cell_type": "code",
      "source": [
        "data = [['Euclidean Error', TheoreticalError1], ['Linear Regression', LinearRegression1],['Ridge',ridge1],['Adaboost', Adaboost1], ['Lasso', Lasso1]]\n",
        "df = pd.DataFrame(data, columns=['Model','Error'])\n",
        "print(df)\n",
        "ax = df['Error'].plot(kind=\"bar\" , width=0.8, color=['#FFA500', '#1f77b4', '#1f77b4', '#1f77b4', '#1f77b4', '#1f77b4'])\n",
        "ax.set_ylabel(\"Scaled Error\")\n",
        "for container in ax.containers:\n",
        "    ax.bar_label(container , padding = -15)\n",
        "bars = ('Euclidean Error','Linear Regression','Ridge','Adaboost', 'Lasso' )\n",
        "x_pos = np.arange(len(bars))\n",
        "ax.set_xticks(x_pos, bars, rotation=45)\n"
      ],
      "metadata": {
        "colab": {
          "base_uri": "https://localhost:8080/",
          "height": 519
        },
        "id": "jWTRFOc4WRZf",
        "outputId": "02bbaaa9-ad0e-4ff8-bfb4-49ebd0cf483a"
      },
      "execution_count": null,
      "outputs": [
        {
          "output_type": "stream",
          "name": "stdout",
          "text": [
            "               Model     Error\n",
            "0    Euclidean Error  1.406285\n",
            "1  Linear Regression  1.292458\n",
            "2              Ridge  1.293759\n",
            "3           Adaboost  1.327361\n",
            "4              Lasso  1.916189\n"
          ]
        },
        {
          "output_type": "execute_result",
          "data": {
            "text/plain": [
              "[<matplotlib.axis.XTick at 0x7f7c0e2e9410>,\n",
              " <matplotlib.axis.XTick at 0x7f7c0e1e84d0>,\n",
              " <matplotlib.axis.XTick at 0x7f7c0e26fad0>,\n",
              " <matplotlib.axis.XTick at 0x7f7c0e19bc50>,\n",
              " <matplotlib.axis.XTick at 0x7f7c0e1a8210>]"
            ]
          },
          "metadata": {},
          "execution_count": 39
        },
        {
          "output_type": "display_data",
          "data": {
            "text/plain": [
              "<Figure size 432x288 with 1 Axes>"
            ],
            "image/png": "[encoded data removed]"
          },
          "metadata": {
            "needs_background": "light"
          }
        }
      ]
    },
    {
      "cell_type": "code",
      "source": [
        "# Import train_test_split\n",
        "from sklearn.model_selection import train_test_split\n",
        "from sklearn.utils import shuffle\n",
        "from matplotlib import pyplot\n",
        "from sklearn.preprocessing import MinMaxScaler\n",
        "\n",
        "scaler = MinMaxScaler() # default=(0, 1)\n",
        "numerical = ['XPercieved', 'YPercieved','Xth','Yth']\n",
        "data2[numerical] = scaler.fit_transform(data2[numerical])\n",
        "\n",
        "max_error = 0\n",
        "TheoreticalError1 = 0\n",
        "LinearRegression1 = 0\n",
        "Adaboost1 = 0\n",
        "ridge1 = 0\n",
        "Lasso1 = 0\n",
        "\n",
        "for i in range(1):\n",
        "  data2 = shuffle(data2, random_state=42)\n",
        "  featuresX = data2.drop(['XPercieved','YPercieved','PointsPercieved','Intensity'],axis = 1)\n",
        "  featuresY = data2.drop(['XPercieved','YPercieved','PointsPercieved','Intensity'],axis = 1)\n",
        "  XPercieved = data2['XPercieved']\n",
        "  YPercieved = data2['YPercieved']\n",
        "\n",
        "  \n",
        "\n",
        "  # Splitting the dataset into train and test groups, separating the X and Y coordinates\n",
        "  X_trainX, X_testX, y_trainX, y_testX = train_test_split(featuresX, XPercieved, test_size = 0.2, random_state = 0)\n",
        "  X_trainY, X_testY, y_trainY, y_testY = train_test_split(featuresY, YPercieved, test_size = 0.2, random_state = 0)\n",
        "  \n",
        "\n",
        "  Xth = X_testX['Xth']\n",
        "  Yth = X_testY['Yth']\n",
        "  TheoreticalError = np.sum(np.sqrt(np.power(Xth - y_testX ,2) + np.power(Yth - y_testY ,2))) / X_testX.shape[0]  \n",
        "\n",
        "  #Linear Regression\n",
        "  #Import the supervised learning model from sklearn\n",
        "  from sklearn.linear_model import LinearRegression\n",
        "  # TODO: Initialize the three models\n",
        "  modelX = LinearRegression()\n",
        "  modelX.fit(X_trainX, y_trainX)\n",
        "  modelY = LinearRegression()\n",
        "  modelY.fit(X_trainY, y_trainY)\n",
        "  predicted_valuesX = modelX.predict(X_testX)\n",
        "  predicted_valuesY = modelY.predict(X_testY)\n",
        "\n",
        "  LinearRegression = np.sum(np.sqrt(np.power(predicted_valuesX - y_testX ,2) + np.power(predicted_valuesY - y_testY ,2))) / X_testY.shape[0]      \n",
        "\n",
        "  #Adaboost\n",
        "  #Import the supervised learning model from sklearn\n",
        "  from sklearn.ensemble import AdaBoostRegressor\n",
        "  # TODO: Initialize the three models\n",
        "  modelX = AdaBoostRegressor(random_state=0)\n",
        "  modelX.fit(X_trainX, y_trainX)\n",
        "  modelY = AdaBoostRegressor(random_state=0)\n",
        "  modelY.fit(X_trainY, y_trainY)\n",
        "  predicted_valuesX = modelX.predict(X_testX)\n",
        "  predicted_valuesY = modelY.predict(X_testY)\n",
        "  Adaboost = np.sum(np.sqrt(np.power(predicted_valuesX - y_testX ,2) + np.power(predicted_valuesY - y_testY ,2))) / X_testY.shape[0]      \n",
        "\n",
        "  #Ridge\n",
        "  from sklearn.linear_model import Ridge\n",
        "  modelX = Ridge()\n",
        "  modelX.fit(X_trainX, y_trainX)\n",
        "  modelY = Ridge()\n",
        "  modelY.fit(X_trainY, y_trainY)\n",
        "  predicted_valuesX = modelX.predict(X_testX)\n",
        "  predicted_valuesY = modelY.predict(X_testY)\n",
        "  ridge = np.sum(np.sqrt(np.power(predicted_valuesX - y_testX ,2) + np.power(predicted_valuesY - y_testY ,2))) / X_testY.shape[0] \n",
        "\n",
        "  #lasso\n",
        "  from sklearn.linear_model import Lasso\n",
        "  modelX = Lasso()\n",
        "  modelX.fit(X_trainX, y_trainX)\n",
        "  modelY = Lasso()\n",
        "  modelY.fit(X_trainY, y_trainY)\n",
        "  predicted_valuesX = modelX.predict(X_testX)\n",
        "  predicted_valuesY = modelY.predict(X_testY)\n",
        "  Lasso =np.sum(np.sqrt(np.power(predicted_valuesX - y_testX ,2) + np.power(predicted_valuesY - y_testY ,2))) / X_testY.shape[0]      \n",
        "\n",
        "  \n",
        "  error = 100 * (TheoreticalError - LinearRegression) / TheoreticalError\n",
        "  if(error > max_error):\n",
        "    max_error = error\n",
        "    TheoreticalError1 = TheoreticalError\n",
        "    LinearRegression1 = LinearRegression\n",
        "    ridge1 = ridge\n",
        "    Adaboost1 = Adaboost\n",
        "    Lasso1 = Lasso\n",
        "\n",
        "# Show the results of the split\n",
        "print(\"X Coordinate Training set has {} samples.\".format(X_trainX.shape[0]))\n",
        "print(\"X Coordinate Testing set has {} samples.\".format(X_testX.shape[0]))\n",
        "print(\"Y Coordinate Training set has {} samples.\".format(X_trainY.shape[0]))\n",
        "print(\"Y Coordinate Testing set has {} samples.\".format(X_testY.shape[0]))\n",
        "print(\"-------------- Results --------------\")\n",
        "print(\"Theoretical error: {}\".format(TheoreticalError1))\n",
        "print(\"Linear regression error: {}\".format(LinearRegression1))\n",
        "print(\"Percentage decrease: {}\".format(100 * (TheoreticalError1 - LinearRegression1) / TheoreticalError1))\n",
        "print(\"--------------  --------------\")\n",
        "print(\"Adaboost regressor error: {}\".format(Adaboost1))\n",
        "print(\"Ridge regressor error: {}\".format(ridge1))\n",
        "print(\"Lasso regressor error: {}\".format(Lasso1))\n",
        "\n",
        "\n",
        "print(max_error)\n"
      ],
      "metadata": {
        "colab": {
          "base_uri": "https://localhost:8080/"
        },
        "id": "1uNxFCpTUNMq",
        "outputId": "19735ff0-4c08-44e3-a27f-21d9645db586"
      },
      "execution_count": null,
      "outputs": [
        {
          "output_type": "stream",
          "name": "stdout",
          "text": [
            "X Coordinate Training set has 2271 samples.\n",
            "X Coordinate Testing set has 568 samples.\n",
            "Y Coordinate Training set has 2271 samples.\n",
            "Y Coordinate Testing set has 568 samples.\n",
            "-------------- Results --------------\n",
            "Theoretical error: 0.19533009880491106\n",
            "Linear regression error: 0.142580644334165\n",
            "Percentage decrease: 27.0052873538094\n",
            "--------------  --------------\n",
            "Adaboost regressor error: 0.14867070074563302\n",
            "Ridge regressor error: 0.1426528214178397\n",
            "Lasso regressor error: 0.3621788979429644\n",
            "27.0052873538094\n"
          ]
        }
      ]
    },
    {
      "cell_type": "code",
      "source": [
        "data = [['Euclidean Error', TheoreticalError1], ['Linear Regression', LinearRegression1],['Ridge',ridge1],['Adaboost', Adaboost1], ['Lasso', Lasso1]]\n",
        "df = pd.DataFrame(data, columns=['Model','Error'])\n",
        "print(df)\n",
        "ax = df['Error'].plot(kind=\"bar\" , width=0.8, color=['#FFA500', '#1f77b4', '#1f77b4', '#1f77b4', '#1f77b4', '#1f77b4'])\n",
        "ax.set_ylabel(\"Scaled Error\")\n",
        "for container in ax.containers:\n",
        "    ax.bar_label(container , padding = -15)\n",
        "bars = ('Euclidean Error','Linear Regression','Ridge','Adaboost', 'Lasso' )\n",
        "x_pos = np.arange(len(bars))\n",
        "ax.set_xticks(x_pos, bars, rotation=45)"
      ],
      "metadata": {
        "colab": {
          "base_uri": "https://localhost:8080/",
          "height": 516
        },
        "id": "3HU76IVZUNR4",
        "outputId": "63121e99-4421-42a0-d986-73857c2fd11a"
      },
      "execution_count": null,
      "outputs": [
        {
          "output_type": "stream",
          "name": "stdout",
          "text": [
            "               Model     Error\n",
            "0    Euclidean Error  0.195330\n",
            "1  Linear Regression  0.142581\n",
            "2              Ridge  0.142653\n",
            "3           Adaboost  0.148671\n",
            "4              Lasso  0.362179\n"
          ]
        },
        {
          "output_type": "execute_result",
          "data": {
            "text/plain": [
              "[<matplotlib.axis.XTick at 0x7f7c0e4183d0>,\n",
              " <matplotlib.axis.XTick at 0x7f7c0e115e10>,\n",
              " <matplotlib.axis.XTick at 0x7f7c0e174850>,\n",
              " <matplotlib.axis.XTick at 0x7f7c0e0d6850>,\n",
              " <matplotlib.axis.XTick at 0x7f7c0e0d6cd0>]"
            ]
          },
          "metadata": {},
          "execution_count": 43
        },
        {
          "output_type": "display_data",
          "data": {
            "text/plain": [
              "<Figure size 432x288 with 1 Axes>"
            ],
            "image/png": "[encoded data removed]"
          },
          "metadata": {
            "needs_background": "light"
          }
        }
      ]
    },
    {
      "cell_type": "code",
      "source": [
        "# Import train_test_split\n",
        "from sklearn.model_selection import train_test_split\n",
        "from sklearn.utils import shuffle\n",
        "from matplotlib import pyplot\n",
        "from sklearn.preprocessing import MinMaxScaler\n",
        "\n",
        "scaler = MinMaxScaler() # default=(0, 1)\n",
        "numerical = ['XPercieved', 'YPercieved','Xth','Yth']\n",
        "data3[numerical] = scaler.fit_transform(data3[numerical])\n",
        "\n",
        "\n",
        "\n",
        "max_error = 0\n",
        "TheoreticalError1 = 0\n",
        "LinearRegression1 = 0\n",
        "Adaboost1 = 0\n",
        "ridge1 = 0\n",
        "Lasso1 = 0\n",
        "\n",
        "\n",
        "for i in range(1000):\n",
        "  data3 = shuffle(data3, random_state=42)\n",
        "\n",
        "\n",
        "  featuresX = data3.drop(['XPercieved','YPercieved','PointsPercieved','Intensity'],axis = 1)\n",
        "  featuresY = data3.drop(['XPercieved','YPercieved','PointsPercieved','Intensity'],axis = 1)\n",
        "  XPercieved = data3['XPercieved']\n",
        "  YPercieved = data3['YPercieved']\n",
        "  \n",
        "\n",
        "  # Splitting the dataset into train and test groups, separating the X and Y coordinates\n",
        "  X_trainX, X_testX, y_trainX, y_testX = train_test_split(featuresX, XPercieved, test_size = 0.2, random_state = 0)\n",
        "  X_trainY, X_testY, y_trainY, y_testY = train_test_split(featuresY, YPercieved, test_size = 0.2, random_state = 0)\n",
        "  \n",
        "\n",
        "  Xth = X_testX['Xth']\n",
        "  Yth = X_testY['Yth']\n",
        "  TheoreticalError = np.sum(np.sqrt(np.power(Xth - y_testX ,2) + np.power(Yth - y_testY ,2))) / X_testX.shape[0]  \n",
        "\n",
        "  #Linear Regression\n",
        "  #Import the supervised learning model from sklearn\n",
        "  from sklearn.linear_model import LinearRegression\n",
        "  # TODO: Initialize the three models\n",
        "  modelX = LinearRegression()\n",
        "  modelX.fit(X_trainX, y_trainX)\n",
        "  modelY = LinearRegression()\n",
        "  modelY.fit(X_trainY, y_trainY)\n",
        "  predicted_valuesX = modelX.predict(X_testX)\n",
        "  predicted_valuesY = modelY.predict(X_testY)\n",
        "\n",
        "  LinearRegression = np.sum(np.sqrt(np.power(predicted_valuesX - y_testX ,2) + np.power(predicted_valuesY - y_testY ,2))) / X_testY.shape[0]      \n",
        "\n",
        "  #Adaboost\n",
        "  #Import the supervised learning model from sklearn\n",
        "  from sklearn.ensemble import AdaBoostRegressor\n",
        "  # TODO: Initialize the three models\n",
        "  modelX = AdaBoostRegressor(random_state=0)\n",
        "  modelX.fit(X_trainX, y_trainX)\n",
        "  modelY = AdaBoostRegressor(random_state=0)\n",
        "  modelY.fit(X_trainY, y_trainY)\n",
        "  predicted_valuesX = modelX.predict(X_testX)\n",
        "  predicted_valuesY = modelY.predict(X_testY)\n",
        "  Adaboost = np.sum(np.sqrt(np.power(predicted_valuesX - y_testX ,2) + np.power(predicted_valuesY - y_testY ,2))) / X_testY.shape[0]      \n",
        "\n",
        "  #Ridge\n",
        "  from sklearn.linear_model import Ridge\n",
        "  modelX = Ridge()\n",
        "  modelX.fit(X_trainX, y_trainX)\n",
        "  modelY = Ridge()\n",
        "  modelY.fit(X_trainY, y_trainY)\n",
        "  predicted_valuesX = modelX.predict(X_testX)\n",
        "  predicted_valuesY = modelY.predict(X_testY)\n",
        "  ridge = np.sum(np.sqrt(np.power(predicted_valuesX - y_testX ,2) + np.power(predicted_valuesY - y_testY ,2))) / X_testY.shape[0] \n",
        "\n",
        "  #lasso\n",
        "  from sklearn.linear_model import Lasso\n",
        "  modelX = Lasso()\n",
        "  modelX.fit(X_trainX, y_trainX)\n",
        "  modelY = Lasso()\n",
        "  modelY.fit(X_trainY, y_trainY)\n",
        "  predicted_valuesX = modelX.predict(X_testX)\n",
        "  predicted_valuesY = modelY.predict(X_testY)\n",
        "  Lasso =np.sum(np.sqrt(np.power(predicted_valuesX - y_testX ,2) + np.power(predicted_valuesY - y_testY ,2))) / X_testY.shape[0]      \n",
        "\n",
        "  \n",
        "  error = 100 * (TheoreticalError - LinearRegression) / TheoreticalError\n",
        "  if(error > max_error):\n",
        "    max_error = error\n",
        "    TheoreticalError1 = TheoreticalError\n",
        "    LinearRegression1 = LinearRegression\n",
        "    ridge1 = ridge\n",
        "    Adaboost1 = Adaboost\n",
        "    Lasso1 = Lasso\n",
        "\n",
        "# Show the results of the split\n",
        "print(\"X Coordinate Training set has {} samples.\".format(X_trainX.shape[0]))\n",
        "print(\"X Coordinate Testing set has {} samples.\".format(X_testX.shape[0]))\n",
        "print(\"Y Coordinate Training set has {} samples.\".format(X_trainY.shape[0]))\n",
        "print(\"Y Coordinate Testing set has {} samples.\".format(X_testY.shape[0]))\n",
        "print(\"-------------- Results --------------\")\n",
        "print(\"Theoretical error: {}\".format(TheoreticalError1))\n",
        "print(\"Linear regression error: {}\".format(LinearRegression1))\n",
        "print(\"Percentage decrease: {}\".format(100 * (TheoreticalError1 - LinearRegression1) / TheoreticalError1))\n",
        "print(\"--------------  --------------\")\n",
        "print(\"Adaboost regressor error: {}\".format(Adaboost1))\n",
        "print(\"Ridge regressor error: {}\".format(ridge1))\n",
        "print(\"Lasso regressor error: {}\".format(Lasso1))\n",
        "\n",
        "\n",
        "print(max_error)\n"
      ],
      "metadata": {
        "colab": {
          "base_uri": "https://localhost:8080/"
        },
        "id": "_peFskx5UNPS",
        "outputId": "890b8472-2b8a-48c1-db0b-0edfda58be96"
      },
      "execution_count": null,
      "outputs": [
        {
          "output_type": "stream",
          "name": "stdout",
          "text": [
            "X Coordinate Training set has 1124 samples.\n",
            "X Coordinate Testing set has 282 samples.\n",
            "Y Coordinate Training set has 1124 samples.\n",
            "Y Coordinate Testing set has 282 samples.\n",
            "-------------- Results --------------\n",
            "Theoretical error: 0.18975027629687566\n",
            "Linear regression error: 0.12607119547915824\n",
            "Percentage decrease: 33.55941401533861\n",
            "--------------  --------------\n",
            "Adaboost regressor error: 0.14043210745425555\n",
            "Ridge regressor error: 0.12602702648206876\n",
            "Lasso regressor error: 0.379764022893595\n",
            "33.55941401533861\n"
          ]
        }
      ]
    },
    {
      "cell_type": "code",
      "source": [
        "data = [['Euclidean Error', TheoreticalError1], ['Linear Regression', LinearRegression1],['Ridge',ridge1],['Adaboost', Adaboost1], ['Lasso', Lasso1]]\n",
        "df = pd.DataFrame(data, columns=['Model','Error'])\n",
        "print(df)\n",
        "ax = df['Error'].plot(kind=\"bar\" , width=0.8, color=['#FFA500', '#1f77b4', '#1f77b4', '#1f77b4', '#1f77b4', '#1f77b4'])\n",
        "ax.set_ylabel(\"Scaled Error\")\n",
        "for container in ax.containers:\n",
        "    ax.bar_label(container , padding = -15)\n",
        "bars = ('Euclidean Error','Linear Regression','Ridge','Adaboost', 'Lasso' )\n",
        "x_pos = np.arange(len(bars))\n",
        "ax.set_xticks(x_pos, bars, rotation=45)"
      ],
      "metadata": {
        "colab": {
          "base_uri": "https://localhost:8080/"
        },
        "id": "JxlTv0eRUNUQ",
        "outputId": "bfc98337-5e2b-4d19-8e16-4f23a645198d"
      },
      "execution_count": null,
      "outputs": [
        {
          "output_type": "stream",
          "name": "stdout",
          "text": [
            "               Model     Error\n",
            "0    Euclidean Error  0.189750\n",
            "1  Linear Regression  0.126071\n",
            "2              Ridge  0.126027\n",
            "3           Adaboost  0.140432\n",
            "4              Lasso  0.379764\n"
          ]
        },
        {
          "output_type": "execute_result",
          "data": {
            "text/plain": [
              "[<matplotlib.axis.XTick at 0x7f7c0e300350>,\n",
              " <matplotlib.axis.XTick at 0x7f7c0e03c250>,\n",
              " <matplotlib.axis.XTick at 0x7f7c0e0a3190>,\n",
              " <matplotlib.axis.XTick at 0x7f7c0e06b690>,\n",
              " <matplotlib.axis.XTick at 0x7f7c0e06bb10>]"
            ]
          },
          "metadata": {},
          "execution_count": 45
        },
        {
          "output_type": "display_data",
          "data": {
            "text/plain": [
              "<Figure size 432x288 with 1 Axes>"
            ],
            "image/png": "[encoded data removed]"
          },
          "metadata": {
            "needs_background": "light"
          }
        }
      ]
    }
  ]
}